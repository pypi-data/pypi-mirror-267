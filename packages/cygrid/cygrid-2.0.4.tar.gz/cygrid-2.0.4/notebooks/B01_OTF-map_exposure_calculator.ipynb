{
 "cells": [
  {
   "cell_type": "markdown",
   "metadata": {},
   "source": [
    "# On-the-fly mapping exposure calculator (Radio astronomy)\n",
    "\n"
   ]
  },
  {
   "cell_type": "code",
   "execution_count": 1,
   "metadata": {},
   "outputs": [],
   "source": [
    "%load_ext autoreload\n",
    "%autoreload 2\n",
    "%matplotlib inline\n",
    "%config InlineBackend.figure_format = 'retina'"
   ]
  },
  {
   "cell_type": "code",
   "execution_count": 2,
   "metadata": {
    "collapsed": true
   },
   "outputs": [],
   "source": [
    "import numpy as np\n",
    "import matplotlib.pyplot as pl\n",
    "\n",
    "from astropy.wcs import WCS\n",
    "from scipy import constants\n",
    "\n",
    "import cygrid\n",
    "\n",
    "np.set_printoptions(precision=1)"
   ]
  },
  {
   "cell_type": "code",
   "execution_count": 3,
   "metadata": {
    "collapsed": true
   },
   "outputs": [],
   "source": [
    "def gaincurve(elev, a0, a1, a2):\n",
    "    '''\n",
    "    Radio telescope sensitivity is usually a function of elevation (parametrized as parabula).\n",
    "    '''\n",
    "    return a0 + a1 * elev + a2 * elev * elev\n",
    "\n",
    "\n",
    "def dv_to_df(restfreq, velo_kms):\n",
    "    '''\n",
    "    Convert velocity resolution to frequency resolution.\n",
    "    '''\n",
    "    return restfreq * velo_kms * 1.e3 / constants.c\n",
    "\n",
    "\n",
    "def setup_header(mapcenter, mapsize, beamsize_fwhm):\n",
    "    '''\n",
    "    Produce a FITS header that contains the target field.\n",
    "    '''\n",
    "    \n",
    "    # define target grid (via fits header according to WCS convention)\n",
    "    # a good pixel size is a third of the FWHM of the PSF (avoids aliasing)\n",
    "    pixsize = beamsize_fwhm / 3.\n",
    "    dnaxis1 = int(mapsize[0] / pixsize)\n",
    "    dnaxis2 = int(mapsize[1] / pixsize)\n",
    "\n",
    "    header = {\n",
    "        'NAXIS': 2,\n",
    "        'NAXIS1': dnaxis1,\n",
    "        'NAXIS2': dnaxis2,\n",
    "        'CTYPE1': 'RA---SIN',\n",
    "        'CTYPE2': 'DEC--SIN',\n",
    "        'CUNIT1': 'deg',\n",
    "        'CUNIT2': 'deg',\n",
    "        'CDELT1': -pixsize,\n",
    "        'CDELT2': pixsize,\n",
    "        'CRPIX1': (dnaxis1 + 1) / 2.,\n",
    "        'CRPIX2': (dnaxis2 + 1) / 2.,\n",
    "        'CRVAL1': mapcenter[0],\n",
    "        'CRVAL2': mapcenter[1],\n",
    "        }\n",
    "    \n",
    "    return header"
   ]
  },
  {
   "cell_type": "markdown",
   "metadata": {},
   "source": [
    "## Introduction: Position switching\n",
    "Let's start with an illustrative example, that shows how exposure calculation is done for a pointed observation (position switch). Usually, the backend provides the measured (spectral) intensities, $P$, in an uncalibrated fashion, e.g., in units of counts. Therefore one needs to derive a conversion factor. Furthermore, one has to remove the influence of the system bandpass (frequency-dependent gain). Both problems can be solved with the so-called position-switching technique:\n",
    "\n",
    "\\begin{equation}\n",
    "T = T_\\mathrm{sys}\\frac{P_\\mathrm{on} - P_\\mathrm{ref}}{P_\\mathrm{ref}}\\,.\n",
    "\\end{equation}\n",
    "\n",
    "The system temperature, $T_\\mathrm{sys}$, is a property of the receiver, which determines the base noise level. It depends on the receiver noise itself, but also has conributions from ground and atmosphere, as well as astronomical background (Galactic continuum, CMB). The noise level, $\\Delta T$, of the derived spectral intensity, $T$, will decrease the longer one integrates (radiometer equation):\n",
    "\n",
    "\\begin{equation}\n",
    "\\Delta T = \\frac{T_\\mathrm{sys}}{\\sqrt{\\tau\\Delta f}}\\,.\n",
    "\\end{equation}\n",
    "\n",
    "However, for position switching one divides the On and Off spectra, which increases the noise by a factor of $\\sqrt{2}$. This factor is absorbed by the fact, that one often has two polarization channels available, which can be averaged."
   ]
  },
  {
   "cell_type": "markdown",
   "metadata": {},
   "source": [
    "### Example: observation of NH3 lines at 23.7 GHz (at Effelsberg)\n",
    "For this one would use a K-band receiver, which has about 60 K system temperature (zenith). For non-zenith observations, the airmass will increase the effective system temperature, depending on the atmospheric opacity, $\\tau$."
   ]
  },
  {
   "cell_type": "code",
   "execution_count": 4,
   "metadata": {
    "collapsed": true
   },
   "outputs": [],
   "source": [
    "dual_pol = True\n",
    "restfreq = 23.7e9  # Hz\n",
    "opacity = 0.07  # assume reasonably good weather\n",
    "Tsys_zenith = 60."
   ]
  },
  {
   "cell_type": "markdown",
   "metadata": {},
   "source": [
    "Atmospheric temperature is approximately given by ambient temperature at ground."
   ]
  },
  {
   "cell_type": "code",
   "execution_count": 5,
   "metadata": {
    "collapsed": true
   },
   "outputs": [],
   "source": [
    "T_amb = 290.  # K\n",
    "T_atm = T_amb - 17."
   ]
  },
  {
   "cell_type": "markdown",
   "metadata": {},
   "source": [
    "Calculate telescope sensitivity (aka Kelvins per Jansky)."
   ]
  },
  {
   "cell_type": "code",
   "execution_count": 6,
   "metadata": {
    "collapsed": true
   },
   "outputs": [],
   "source": [
    "Gamma = 1.12  # K/Jy\n",
    "eta_MB = 0.79  # main beam efficiency\n",
    "Gamma_MB = Gamma / eta_MB"
   ]
  },
  {
   "cell_type": "markdown",
   "metadata": {},
   "source": [
    "The conversion between antenna temperatures and main-beam brightness temperatures is given by"
   ]
  },
  {
   "cell_type": "code",
   "execution_count": 7,
   "metadata": {
    "collapsed": true
   },
   "outputs": [],
   "source": [
    "Ta_to_Tb = 1. / eta_MB"
   ]
  },
  {
   "cell_type": "markdown",
   "metadata": {},
   "source": [
    "Define spectrometer properties"
   ]
  },
  {
   "cell_type": "code",
   "execution_count": 8,
   "metadata": {},
   "outputs": [
    {
     "name": "stdout",
     "output_type": "stream",
     "text": [
      "spec_reso = 8.9 kHz\n"
     ]
    }
   ],
   "source": [
    "nchan = 2 ** 16  # 64 k\n",
    "bandwidth = 5e8  # 500 MHz\n",
    "spec_reso = bandwidth / nchan * 1.16  # true spectral resolution 16% worse than channel width\n",
    "print('spec_reso = {:.1f} kHz'.format(spec_reso * 1.e-3))"
   ]
  },
  {
   "cell_type": "markdown",
   "metadata": {},
   "source": [
    "If a certain velocity resolution is desired, we first have to infer the desired spectral resolution."
   ]
  },
  {
   "cell_type": "code",
   "execution_count": 9,
   "metadata": {},
   "outputs": [
    {
     "name": "stdout",
     "output_type": "stream",
     "text": [
      "desired_freq_resolution = 79.1 kHz\n"
     ]
    }
   ],
   "source": [
    "desired_vel_resolution = 1.  # km/s\n",
    "desired_freq_resolution = dv_to_df(restfreq, desired_vel_resolution)\n",
    "print('desired_freq_resolution = {:.1f} kHz'.format(desired_freq_resolution * 1.e-3))"
   ]
  },
  {
   "cell_type": "markdown",
   "metadata": {},
   "source": [
    "This means, we can bin the original spectrum by a factor of"
   ]
  },
  {
   "cell_type": "code",
   "execution_count": 10,
   "metadata": {
    "collapsed": true
   },
   "outputs": [],
   "source": [
    "smooth_nbin = int(desired_freq_resolution / spec_reso + 0.5)"
   ]
  },
  {
   "cell_type": "markdown",
   "metadata": {},
   "source": [
    "which will further decrease the noise."
   ]
  },
  {
   "cell_type": "code",
   "execution_count": 11,
   "metadata": {},
   "outputs": [
    {
     "name": "stdout",
     "output_type": "stream",
     "text": [
      "smooth_nbin 9\n"
     ]
    }
   ],
   "source": [
    "print('smooth_nbin', smooth_nbin)"
   ]
  },
  {
   "cell_type": "markdown",
   "metadata": {},
   "source": [
    "#### Case 1: Calculate the noise after a certain integration time. The result will depend on the elevation of the source (because different airmasses modify $T_\\mathrm{sys}$)."
   ]
  },
  {
   "cell_type": "code",
   "execution_count": 12,
   "metadata": {
    "collapsed": true
   },
   "outputs": [],
   "source": [
    "exposure = 60.  # seconds\n",
    "elevations = np.array([10, 20, 30, 40, 50, 60, 90])\n",
    "AM = 1. / np.sin(np.radians(elevations))\n",
    "\n",
    "gain_correction = gaincurve(elevations, 0.954, 3.19E-3, -5.42E-5)"
   ]
  },
  {
   "cell_type": "markdown",
   "metadata": {},
   "source": [
    "Note, Tsys is higher for low elevation (more air mass)."
   ]
  },
  {
   "cell_type": "code",
   "execution_count": 13,
   "metadata": {},
   "outputs": [
    {
     "name": "stdout",
     "output_type": "stream",
     "text": [
      "Tsys_corr [ 175.7  102.2   81.2   71.6   66.3   63.2   60. ]\n"
     ]
    }
   ],
   "source": [
    "Tsys_corr = Tsys_zenith + T_atm * (np.exp(opacity * AM) - np.exp(opacity * 1))\n",
    "print('Tsys_corr', Tsys_corr)\n",
    "# Tsys_corr = Tsys_zenith + opacity * T_atm * (AM - 1)  # approximate formula, for small opacity * AM\n",
    "# print(Tsys_corr)"
   ]
  },
  {
   "cell_type": "markdown",
   "metadata": {},
   "source": [
    "Calculate raw $T_\\mathrm{A}$ noise:"
   ]
  },
  {
   "cell_type": "code",
   "execution_count": 14,
   "metadata": {
    "collapsed": true
   },
   "outputs": [],
   "source": [
    "Ta_rms = Tsys_corr / np.sqrt(spec_reso * smooth_nbin * exposure)"
   ]
  },
  {
   "cell_type": "markdown",
   "metadata": {},
   "source": [
    "For dual polarization observations, we can divide by $\\sqrt{2}$."
   ]
  },
  {
   "cell_type": "code",
   "execution_count": 15,
   "metadata": {
    "collapsed": true
   },
   "outputs": [],
   "source": [
    "if dual_pol:\n",
    "    Ta_rms /= np.sqrt(2.)"
   ]
  },
  {
   "cell_type": "markdown",
   "metadata": {},
   "source": [
    "We also have to account for the position switch (division by noisy reference spectrum)."
   ]
  },
  {
   "cell_type": "code",
   "execution_count": 16,
   "metadata": {
    "collapsed": true
   },
   "outputs": [],
   "source": [
    "Ta_rms *= np.sqrt(2.)"
   ]
  },
  {
   "cell_type": "markdown",
   "metadata": {},
   "source": [
    "Finally, we convert to main-beam brightness temperature, $\\Delta T_\\mathrm{B}$, and flux-density, $\\Delta S$, noise:"
   ]
  },
  {
   "cell_type": "code",
   "execution_count": 17,
   "metadata": {},
   "outputs": [],
   "source": [
    "Tb_rms = Ta_to_Tb * Ta_rms / gain_correction\n",
    "S_rms = Tb_rms / Gamma_MB"
   ]
  },
  {
   "cell_type": "markdown",
   "metadata": {},
   "source": [
    "The astronomical signal is furthermore attenuated by the atmosphere. There are two ways to handle this. (a) If the signal strength is known (or can be expected to have a certain value), just apply the attenuation factor and compare to the noise levels. (b) calculate an effective noise level, by increasing Tb and flux-density noise accordingly. Here, we follow the second approach, as the true signal level is unknown. The effective RMS values are not true RMS estimates, but merely serve to indicate the impact of Earth's atmosphere on the sensitivity. Close to zenith, the effect is a few percent only, but for very low elevations, almost half of the signal is lost!"
   ]
  },
  {
   "cell_type": "code",
   "execution_count": 18,
   "metadata": {
    "collapsed": true
   },
   "outputs": [],
   "source": [
    "atm_atten = np.exp(-opacity * AM)"
   ]
  },
  {
   "cell_type": "code",
   "execution_count": 19,
   "metadata": {},
   "outputs": [
    {
     "name": "stdout",
     "output_type": "stream",
     "text": [
      "    Elev  Airmass       Tsys     Ta RMS     Tb RMS      S RMS   AtmAtten Tb_eff RMS  S_eff RMS\n",
      "     [d]                 [K]        [K]        [K]       [Jy]                   [K]       [Jy]\n",
      "   10.00     5.76   175.7436     0.0804     0.1038     0.0732     0.6682     0.1553     0.1096\n",
      "   20.00     2.92   102.2078     0.0468     0.0594     0.0419     0.8149     0.0729     0.0514\n",
      "   30.00     2.00    81.2300     0.0372     0.0470     0.0331     0.8694     0.0541     0.0381\n",
      "   40.00     1.56    71.6143     0.0328     0.0417     0.0294     0.8968     0.0465     0.0328\n",
      "   50.00     1.31    66.3269     0.0303     0.0393     0.0277     0.9127     0.0430     0.0303\n",
      "   60.00     1.15    63.1879     0.0289     0.0385     0.0272     0.9224     0.0417     0.0294\n",
      "   90.00     1.00    60.0000     0.0274     0.0433     0.0306     0.9324     0.0465     0.0328\n",
      "Ta RMS = Antenna temp. noise\n",
      "Tb RMS = Brightness temp. noise\n",
      "S RMS = Flux density noise\n"
     ]
    }
   ],
   "source": [
    "print('{0:>8s} {1:>8s} {2:>10s} {3:>10s} {4:>10s} {5:>10s} {6:>10s} {7:>10s} {8:>10s}'.format(\n",
    "    'Elev', 'Airmass', 'Tsys', 'Ta RMS', 'Tb RMS', 'S RMS', 'AtmAtten', 'Tb_eff RMS', 'S_eff RMS'\n",
    "    ))\n",
    "print('{0:>8s} {1:>8s} {2:>10s} {3:>10s} {4:>10s} {5:>10s} {6:>10s} {7:>10s} {8:>10s}'.format(\n",
    "    '[d]', '', '[K]', '[K]', '[K]', '[Jy]', '', '[K]', '[Jy]'\n",
    "    ))\n",
    "for idx in range(len(elevations)):\n",
    "    print(\n",
    "        '{0:>8.2f} {1:>8.2f} {2:>10.4f} {3:>10.4f} {4:>10.4f} '\n",
    "        '{5:>10.4f} {6:>10.4f} {7:>10.4f} {8:>10.4f}'.format(\n",
    "            elevations[idx], AM[idx], Tsys_corr[idx],\n",
    "            Ta_rms[idx], Tb_rms[idx], S_rms[idx],\n",
    "            atm_atten[idx],\n",
    "            Tb_rms[idx] / atm_atten[idx], S_rms[idx] / atm_atten[idx],\n",
    "            ))\n",
    "\n",
    "print('Ta RMS = Antenna temp. noise')\n",
    "print('Tb RMS = Brightness temp. noise')\n",
    "print('S RMS = Flux density noise')\n"
   ]
  },
  {
   "cell_type": "markdown",
   "metadata": {},
   "source": [
    "#### Case 2: Calculate, how long we have to integrate, to reach a certain (effective) noise level.\n",
    "\n",
    "Start with a given noise level"
   ]
  },
  {
   "cell_type": "code",
   "execution_count": 20,
   "metadata": {
    "collapsed": true
   },
   "outputs": [],
   "source": [
    "Tb_eff_rms_desired = 0.01  # 10 mK\n",
    "Ta_eff_rms_desired = Tb_eff_rms_desired * gain_correction / Ta_to_Tb"
   ]
  },
  {
   "cell_type": "markdown",
   "metadata": {},
   "source": [
    "Again, divide by two for dual polarization"
   ]
  },
  {
   "cell_type": "code",
   "execution_count": 21,
   "metadata": {
    "collapsed": true
   },
   "outputs": [],
   "source": [
    "exposure = (Tsys_corr / Ta_eff_rms_desired) ** 2 / (spec_reso * smooth_nbin)\n",
    "if dual_pol:\n",
    "    exposure /= 2."
   ]
  },
  {
   "cell_type": "markdown",
   "metadata": {},
   "source": [
    "and account for PSW (division by noisy reference spectrum)"
   ]
  },
  {
   "cell_type": "code",
   "execution_count": 22,
   "metadata": {},
   "outputs": [],
   "source": [
    "exposure *= 2."
   ]
  },
  {
   "cell_type": "code",
   "execution_count": 23,
   "metadata": {},
   "outputs": [
    {
     "name": "stdout",
     "output_type": "stream",
     "text": [
      "Exposure time needed to reach an effective MB brightness temperature noise level of 10.0 mK\n",
      "Elev [d] Time [min]\n",
      "   10.00      107.7\n",
      "   20.00       35.3\n",
      "   30.00       22.1\n",
      "   40.00       17.4\n",
      "   50.00       15.4\n",
      "   60.00       14.8\n",
      "   90.00       18.8\n"
     ]
    }
   ],
   "source": [
    "print('Exposure time needed to reach an effective MB brightness temperature noise level of {:.1f} mK'.format(\n",
    "    Tb_eff_rms_desired * 1.e3))\n",
    "print('{0:>8s} {1:>10s}'.format('Elev [d]', 'Time [min]'))\n",
    "for idx in range(len(elevations)):\n",
    "    print('{0:>8.2f} {1:>10.1f}'.format(\n",
    "        elevations[idx], (exposure / 60.)[idx]\n",
    "        ))"
   ]
  },
  {
   "cell_type": "markdown",
   "metadata": {},
   "source": [
    "## On-the-fly mapping\n",
    "For OTF mapping, it is not straight-forward to calculate the effective noise in the map after gridding. Therefore, we simulate the process, use cygrid to produce a map, and will measure the noise accordingly.\n",
    "\n",
    "### Map setup\n",
    "In Effelsberg, we do so-called zig-zag scanning. For position switching, one observes a reference position every $n$ scanlines. In contrast to the pointed observations, it is possible to spend a different amount of time on the reference position (this will have an impact on the degree of correlated spatial noise in the final map!). "
   ]
  },
  {
   "cell_type": "code",
   "execution_count": 24,
   "metadata": {
    "collapsed": true
   },
   "outputs": [],
   "source": [
    "map_width, map_height = 100., 100.  # arcsec\n",
    "beamsize_fwhm = 38.  # arcsec; at the frequency given in our example"
   ]
  },
  {
   "cell_type": "markdown",
   "metadata": {},
   "source": [
    "The spacing between the scans should not be larger than half the beamwidth, a third is even better."
   ]
  },
  {
   "cell_type": "code",
   "execution_count": 25,
   "metadata": {},
   "outputs": [
    {
     "name": "stdout",
     "output_type": "stream",
     "text": [
      "num_scan_lines 8\n"
     ]
    }
   ],
   "source": [
    "num_scan_lines = int(3 * map_height / beamsize_fwhm + 0.5)\n",
    "print('num_scan_lines', num_scan_lines)"
   ]
  },
  {
   "cell_type": "markdown",
   "metadata": {},
   "source": [
    "Likewise, the scan velocity must not be too high. This is determined by the sampling rate and the beam size (one wants at least three independent samples, per beam, otherwise the resulting map will have some smearing along the scan lines)."
   ]
  },
  {
   "cell_type": "markdown",
   "metadata": {},
   "source": [
    "Let's calculate the maximal scan speed"
   ]
  },
  {
   "cell_type": "code",
   "execution_count": 26,
   "metadata": {},
   "outputs": [
    {
     "name": "stdout",
     "output_type": "stream",
     "text": [
      "max_speed = 12.67 arcsec per s\n"
     ]
    }
   ],
   "source": [
    "sampling_interval = 1.  # s (== 4 x 250 ms at Effelsberg)\n",
    "\n",
    "max_speed = beamsize_fwhm / 3 / sampling_interval\n",
    "print('max_speed = {:.2f} arcsec per s'.format(max_speed))"
   ]
  },
  {
   "cell_type": "markdown",
   "metadata": {},
   "source": [
    "With this, we can calculate the minimal duration of one scan line"
   ]
  },
  {
   "cell_type": "code",
   "execution_count": 27,
   "metadata": {},
   "outputs": [
    {
     "name": "stdout",
     "output_type": "stream",
     "text": [
      "min_duration = 7.9 s\n"
     ]
    }
   ],
   "source": [
    "min_duration = map_width / max_speed\n",
    "print('min_duration = {:.1f} s'.format(min_duration))"
   ]
  },
  {
   "cell_type": "markdown",
   "metadata": {},
   "source": [
    "However, each telescope will have a duty cycle between two scan lines, which is defined by the time the telescope needs for re-positioning. At Effelsberg, this is about 15 s, which means that the duration per scanline should at least be one or two minutes, otherwise the observing efficiency would become really poor."
   ]
  },
  {
   "cell_type": "markdown",
   "metadata": {},
   "source": [
    "Choose a meaningful scanline duration"
   ]
  },
  {
   "cell_type": "code",
   "execution_count": 28,
   "metadata": {},
   "outputs": [
    {
     "name": "stdout",
     "output_type": "stream",
     "text": [
      "samples_per_scanline 90\n"
     ]
    }
   ],
   "source": [
    "scanline_duration = 90.  # seconds\n",
    "samples_per_scanline = int(scanline_duration / sampling_interval + 0.5)\n",
    "print('samples_per_scanline', samples_per_scanline)"
   ]
  },
  {
   "cell_type": "markdown",
   "metadata": {},
   "source": [
    "We now have to choose the time spent on the reference position. Furthermore, it is possible to do the reference scan only after every $n$ scanlines (to save time)."
   ]
  },
  {
   "cell_type": "markdown",
   "metadata": {},
   "source": [
    "Let's do a relatively long refpos integration, but only after every 2 scanlines (avoids some duty cycles)."
   ]
  },
  {
   "cell_type": "code",
   "execution_count": 29,
   "metadata": {},
   "outputs": [],
   "source": [
    "refpos_duration = 90.  # seconds\n",
    "refpos_interval = 2 "
   ]
  },
  {
   "cell_type": "markdown",
   "metadata": {},
   "source": [
    "Such a map would need the following total observing time."
   ]
  },
  {
   "cell_type": "code",
   "execution_count": 30,
   "metadata": {},
   "outputs": [
    {
     "name": "stdout",
     "output_type": "stream",
     "text": [
      "Total time necessary for map: 21.0 min\n"
     ]
    }
   ],
   "source": [
    "duty_cycle = 15.  # s\n",
    "total_on_time = (scanline_duration + duty_cycle) * num_scan_lines\n",
    "total_ref_time = (refpos_duration + duty_cycle) * (num_scan_lines // refpos_interval)\n",
    "total_time = total_on_time + total_ref_time\n",
    "print('Total time necessary for map: {:.1f} min'.format(total_time / 60.))\n"
   ]
  },
  {
   "cell_type": "markdown",
   "metadata": {},
   "source": [
    "Now, we create the raw data. Note, the absolute value of the RMS in counts (for the P quantities) is not important, but the RMS ratio between On and Ref spectra is (the absolute number is unimportant, because it gets calibrated away in the (On-Ref/Ref) equation).\n",
    "\n",
    "Compared to the On scan, a Ref position is integrated over 'refpos_duration', which means that noise in the Ref spectrum is $\\sqrt{\\texttt{refpos_duration} / \\texttt{sampling_interval}}$ smaller."
   ]
  },
  {
   "cell_type": "markdown",
   "metadata": {},
   "source": [
    "To increase the noise estimate accuracy, we will produce several noise maps at once."
   ]
  },
  {
   "cell_type": "code",
   "execution_count": 31,
   "metadata": {
    "collapsed": true
   },
   "outputs": [],
   "source": [
    "num_maps = 128"
   ]
  },
  {
   "cell_type": "markdown",
   "metadata": {},
   "source": [
    "Here, a dummy $T_\\mathrm{sys}$ value is used. Later, the map (and thus the RMS) can simply be scaled to match the true $T_\\mathrm{sys}$."
   ]
  },
  {
   "cell_type": "code",
   "execution_count": 32,
   "metadata": {
    "collapsed": true
   },
   "outputs": [],
   "source": [
    "dummy_tsys = 1.  "
   ]
  },
  {
   "cell_type": "markdown",
   "metadata": {},
   "source": [
    "We will now create spectral noise (in arbitrary units). This must be much smaller than $T_\\mathrm{sys}$ to avoid numerical problems. It is also important, that each of the raw-data spectra has an offset (the $T_\\mathrm{sys}$ level in counts, if you will). If one would neglect this, one had a division by very small numbers in the line where the reduced spectra are calculated. The magnitude of the noise is furthermore tied to the $T_\\mathrm{sys}$ level - it is based on the \"radiometer\" factor $\\left(1/\\sqrt{\\tau\\Delta f}\\right)$"
   ]
  },
  {
   "cell_type": "code",
   "execution_count": 33,
   "metadata": {},
   "outputs": [
    {
     "name": "stdout",
     "output_type": "stream",
     "text": [
      "on_noise = 3.54e-03, ref_noise = 3.73e-04\n"
     ]
    }
   ],
   "source": [
    "on_noise = dummy_tsys / np.sqrt(spec_reso * smooth_nbin * sampling_interval)\n",
    "ref_noise = dummy_tsys / np.sqrt(spec_reso * smooth_nbin * refpos_duration)\n",
    "\n",
    "print('on_noise = {:.2e}, ref_noise = {:.2e}'.format(on_noise, ref_noise))\n",
    "\n",
    "reduced_specs = np.empty((num_scan_lines, samples_per_scanline, num_maps))\n",
    "xcoords, ycoords = np.empty((2, num_scan_lines, samples_per_scanline))\n",
    "lons = np.linspace(-map_width / 2, map_width / 2, samples_per_scanline)\n",
    "lats = np.linspace(-map_height / 2, map_height / 2, num_scan_lines)\n",
    "\n",
    "for scan_line in range(num_scan_lines):\n",
    "    \n",
    "    if scan_line % refpos_interval == 0:\n",
    "        ref_spec = np.random.normal(0., ref_noise, num_maps) + dummy_tsys\n",
    "    \n",
    "    on_specs = np.random.normal(0., on_noise, (samples_per_scanline, num_maps)) + dummy_tsys    \n",
    "    reduced_specs[scan_line] = dummy_tsys * (on_specs - ref_spec) / ref_spec\n",
    "    \n",
    "    xcoords[scan_line] = lons\n",
    "    ycoords[scan_line] = np.repeat(lats[scan_line], lons.size)\n",
    "   "
   ]
  },
  {
   "cell_type": "markdown",
   "metadata": {},
   "source": [
    "We can test this, by just plotting the \"raw\" data for one channel."
   ]
  },
  {
   "cell_type": "code",
   "execution_count": 34,
   "metadata": {},
   "outputs": [
    {
     "data": {
      "image/png": "[encoded data removed]",
      "text/plain": [
       "<matplotlib.figure.Figure at 0x7f27584c66a0>"
      ]
     },
     "metadata": {
      "image/png": {
       "height": 320,
       "width": 621
      }
     },
     "output_type": "display_data"
    }
   ],
   "source": [
    "tmp_map = reduced_specs[..., 0]\n",
    "cabs = np.max(np.abs(tmp_map))\n",
    "\n",
    "fig = pl.figure(figsize=(10, 5))\n",
    "ax = fig.add_axes((0.1, 0.1, 0.8, 0.8))\n",
    "_ = ax.scatter(\n",
    "    xcoords, ycoords, c=tmp_map, \n",
    "    cmap='bwr', edgecolor='none',\n",
    "    vmin=-cabs, vmax=cabs,\n",
    "    )"
   ]
  },
  {
   "cell_type": "markdown",
   "metadata": {},
   "source": [
    "Now do the real gridding. First, prepare a WCS header"
   ]
  },
  {
   "cell_type": "code",
   "execution_count": 35,
   "metadata": {
    "collapsed": true
   },
   "outputs": [],
   "source": [
    "target_header = setup_header((0, 0), (map_width / 3600., map_height / 3600.), beamsize_fwhm / 3600.)"
   ]
  },
  {
   "cell_type": "markdown",
   "metadata": {},
   "source": [
    "We already define a WCS object for later use in our plots:"
   ]
  },
  {
   "cell_type": "code",
   "execution_count": 36,
   "metadata": {
    "collapsed": true
   },
   "outputs": [],
   "source": [
    "target_wcs = WCS(target_header)\n",
    "# print(target_header)"
   ]
  },
  {
   "cell_type": "markdown",
   "metadata": {},
   "source": [
    "Setup the gridder and define kernel sizes (half the beamsize is always a good choice)."
   ]
  },
  {
   "cell_type": "code",
   "execution_count": 37,
   "metadata": {},
   "outputs": [],
   "source": [
    "gridder = cygrid.WcsGrid(target_header, naxis3=num_maps)\n",
    "\n",
    "kernelsize_fwhm = beamsize_fwhm / 2  \n",
    "kernelsize_fwhm /= 3600.  # need to convert to degree\n",
    "kernelsize_sigma = kernelsize_fwhm / np.sqrt(8 * np.log(2))\n",
    "support_radius = 4. * kernelsize_sigma\n",
    "healpix_reso = kernelsize_sigma / 2.\n",
    "\n",
    "gridder.set_kernel(\n",
    "    'gauss1d',\n",
    "    (kernelsize_sigma,),\n",
    "    support_radius,\n",
    "    healpix_reso,\n",
    "    )"
   ]
  },
  {
   "cell_type": "markdown",
   "metadata": {},
   "source": [
    "The gridder needs the coordinates as flat arrays. The data to be gridded must be a 2D array (first dimension has to match the number of coordinate samples, second dimension is the number of channels/maps in the desired data cube)."
   ]
  },
  {
   "cell_type": "code",
   "execution_count": 38,
   "metadata": {},
   "outputs": [],
   "source": [
    "gridder.grid(xcoords.flatten() / 3600, ycoords.flatten() / 3600, reduced_specs.reshape((-1, num_maps)))\n",
    "\n",
    "cygrid_cube = gridder.get_datacube()"
   ]
  },
  {
   "cell_type": "markdown",
   "metadata": {},
   "source": [
    "Again, as a sanity check, we plot one of the channel maps."
   ]
  },
  {
   "cell_type": "code",
   "execution_count": 39,
   "metadata": {},
   "outputs": [
    {
     "data": {
      "image/png": "[encoded data removed]",
      "text/plain": [
       "<matplotlib.figure.Figure at 0x7f2755fd99e8>"
      ]
     },
     "metadata": {
      "image/png": {
       "height": 602,
       "width": 639
      }
     },
     "output_type": "display_data"
    }
   ],
   "source": [
    "tmp_map = cygrid_cube[0]\n",
    "cabs = np.max(np.abs(tmp_map))\n",
    "\n",
    "fig = pl.figure(figsize=(10, 10))\n",
    "ax = fig.add_subplot(111, projection=target_wcs.celestial)\n",
    "ax.imshow(tmp_map, cmap='bwr', interpolation='nearest', origin='lower', vmin=-cabs, vmax=cabs)\n",
    "lon, lat = ax.coords\n",
    "lon.set_axislabel('R.A. [deg]')\n",
    "lat.set_axislabel('Dec [deg]')\n",
    "pl.show()"
   ]
  },
  {
   "cell_type": "markdown",
   "metadata": {},
   "source": [
    "Last but not least, we can measure the noise. There are two possibilities to do this."
   ]
  },
  {
   "cell_type": "markdown",
   "metadata": {},
   "source": [
    "First, we can calculate the RMS over the full data cube."
   ]
  },
  {
   "cell_type": "code",
   "execution_count": 40,
   "metadata": {
    "collapsed": true
   },
   "outputs": [],
   "source": [
    "rms_cube = np.std(cygrid_cube, ddof=1)"
   ]
  },
  {
   "cell_type": "markdown",
   "metadata": {},
   "source": [
    "Second, we can calculate the RMS per plane (and the average over all planes)"
   ]
  },
  {
   "cell_type": "code",
   "execution_count": 41,
   "metadata": {},
   "outputs": [
    {
     "name": "stdout",
     "output_type": "stream",
     "text": [
      "rms_cube 0.000587607 rms_plane 0.000531276\n"
     ]
    }
   ],
   "source": [
    "rms_plane = np.mean(np.std(cygrid_cube, ddof=1, axis=(1, 2)))\n",
    "print('rms_cube', rms_cube, 'rms_plane', rms_plane)"
   ]
  },
  {
   "cell_type": "markdown",
   "metadata": {},
   "source": [
    "The ultimate questions is, what is the noise level in such a map, if we account for real $T_\\mathrm{sys}$ and atmospheric effects, etc."
   ]
  },
  {
   "cell_type": "code",
   "execution_count": 42,
   "metadata": {},
   "outputs": [
    {
     "name": "stdout",
     "output_type": "stream",
     "text": [
      "Tsys_corr [ 175.7  102.2   81.2   71.6   66.3   63.2   60. ]\n"
     ]
    }
   ],
   "source": [
    "elevations = np.array([10, 20, 30, 40, 50, 60, 90])\n",
    "AM = 1. / np.sin(np.radians(elevations))\n",
    "\n",
    "gain_correction = gaincurve(elevations, 0.954, 3.19E-3, -5.42E-5)\n",
    "\n",
    "Tsys_corr = Tsys_zenith + T_atm * (np.exp(opacity * AM) - np.exp(opacity * 1))\n",
    "print('Tsys_corr', Tsys_corr)"
   ]
  },
  {
   "cell_type": "markdown",
   "metadata": {},
   "source": [
    "$T_\\mathrm{A}$ noise is now the measured noise from the gridded maps multiplied with the $T_\\mathrm{sys}$"
   ]
  },
  {
   "cell_type": "code",
   "execution_count": 43,
   "metadata": {},
   "outputs": [],
   "source": [
    "Ta_rms = rms_cube * Tsys_corr\n",
    "\n",
    "if dual_pol:\n",
    "    Ta_rms /= np.sqrt(2.)"
   ]
  },
  {
   "cell_type": "markdown",
   "metadata": {},
   "source": [
    "Note, we don't need to account for the position switch again (division by noisy reference spectrum was already performed in the reduced-spectra array creation)!"
   ]
  },
  {
   "cell_type": "code",
   "execution_count": 44,
   "metadata": {},
   "outputs": [],
   "source": [
    "Tb_rms = Ta_to_Tb * Ta_rms / gain_correction\n",
    "S_rms = Tb_rms / Gamma_MB\n",
    "\n",
    "atm_atten = np.exp(-opacity * AM)"
   ]
  },
  {
   "cell_type": "code",
   "execution_count": 45,
   "metadata": {},
   "outputs": [
    {
     "name": "stdout",
     "output_type": "stream",
     "text": [
      "-----------------------------------------------------------------------------------------------\n",
      "RMS per map\n",
      "-----------------------------------------------------------------------------------------------\n",
      "    Elev  Airmass       Tsys     Ta RMS     Tb RMS      S RMS   AtmAtten Tb_eff RMS  S_eff RMS\n",
      "     [d]                 [K]        [K]        [K]       [Jy]                   [K]       [Jy]\n",
      "   10.00     5.76   175.7436     0.0730     0.0943     0.0665     0.6682     0.1411     0.0995\n",
      "   20.00     2.92   102.2078     0.0425     0.0540     0.0381     0.8149     0.0662     0.0467\n",
      "   30.00     2.00    81.2300     0.0338     0.0427     0.0301     0.8694     0.0491     0.0346\n",
      "   40.00     1.56    71.6143     0.0298     0.0379     0.0267     0.8968     0.0422     0.0298\n",
      "   50.00     1.31    66.3269     0.0276     0.0357     0.0252     0.9127     0.0391     0.0276\n",
      "   60.00     1.15    63.1879     0.0263     0.0350     0.0247     0.9224     0.0379     0.0267\n",
      "   90.00     1.00    60.0000     0.0249     0.0393     0.0278     0.9324     0.0422     0.0298\n",
      "Ta RMS = Antenna temp. noise\n",
      "Tb RMS = Brightness temp. noise\n",
      "S RMS = Flux density noise\n"
     ]
    }
   ],
   "source": [
    "print('-' * 95)\n",
    "print('RMS per map')\n",
    "print('-' * 95)\n",
    "print('{0:>8s} {1:>8s} {2:>10s} {3:>10s} {4:>10s} {5:>10s} {6:>10s} {7:>10s} {8:>10s}'.format(\n",
    "    'Elev', 'Airmass', 'Tsys', 'Ta RMS', 'Tb RMS', 'S RMS', 'AtmAtten', 'Tb_eff RMS', 'S_eff RMS'\n",
    "    ))\n",
    "print('{0:>8s} {1:>8s} {2:>10s} {3:>10s} {4:>10s} {5:>10s} {6:>10s} {7:>10s} {8:>10s}'.format(\n",
    "    '[d]', '', '[K]', '[K]', '[K]', '[Jy]', '', '[K]', '[Jy]'\n",
    "    ))\n",
    "for idx in range(len(elevations)):\n",
    "    print(\n",
    "        '{0:>8.2f} {1:>8.2f} {2:>10.4f} {3:>10.4f} {4:>10.4f} '\n",
    "        '{5:>10.4f} {6:>10.4f} {7:>10.4f} {8:>10.4f}'.format(\n",
    "            elevations[idx], AM[idx], Tsys_corr[idx],\n",
    "            Ta_rms[idx], Tb_rms[idx], S_rms[idx],\n",
    "            atm_atten[idx],\n",
    "            Tb_rms[idx] / atm_atten[idx], S_rms[idx] / atm_atten[idx],\n",
    "            ))\n",
    "\n",
    "print('Ta RMS = Antenna temp. noise')\n",
    "print('Tb RMS = Brightness temp. noise')\n",
    "print('S RMS = Flux density noise')\n"
   ]
  },
  {
   "cell_type": "markdown",
   "metadata": {},
   "source": [
    "To reach the desired RMS of about 10 mK, one would hence need a factor of about 4 lower noise, which is an increase of 16 in observing time (aka 16 coverages of the map)."
   ]
  },
  {
   "cell_type": "code",
   "execution_count": null,
   "metadata": {
    "collapsed": true
   },
   "outputs": [],
   "source": []
  },
  {
   "cell_type": "code",
   "execution_count": null,
   "metadata": {
    "collapsed": true
   },
   "outputs": [],
   "source": []
  }
 ],
 "metadata": {
  "anaconda-cloud": {},
  "kernelspec": {
   "display_name": "Python [Root]",
   "language": "python",
   "name": "Python [Root]"
  },
  "language_info": {
   "codemirror_mode": {
    "name": "ipython",
    "version": 3
   },
   "file_extension": ".py",
   "mimetype": "text/x-python",
   "name": "python",
   "nbconvert_exporter": "python",
   "pygments_lexer": "ipython3",
   "version": "3.5.2"
  }
 },
 "nbformat": 4,
 "nbformat_minor": 0
}
