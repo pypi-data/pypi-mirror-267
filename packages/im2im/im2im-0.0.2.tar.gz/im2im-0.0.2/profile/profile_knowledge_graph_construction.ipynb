{
 "cells": [
  {
   "cell_type": "markdown",
   "id": "8d866c4b-5863-4852-bdb9-73e2b3ee33b2",
   "metadata": {},
   "source": [
    "# Profiling Knowledge Graph Construction"
   ]
  },
  {
   "cell_type": "code",
   "execution_count": 17,
   "id": "3082f080",
   "metadata": {},
   "outputs": [],
   "source": [
    "import os\n",
    "import sys\n",
    "\n",
    "# Assume the current working directory is where this notebook file is located \n",
    "project_dir = os.path.dirname(os.getcwd())\n",
    "if project_dir not in sys.path:\n",
    "    sys.path.append(os.path.join(project_dir, \"src\"))\n",
    "# Alternatively you can install package directly from the Pypi. \n",
    "# %pip install im2im"
   ]
  },
  {
   "cell_type": "code",
   "execution_count": 18,
   "id": "998dadd7-aba4-4ca2-8276-69be6665fdbb",
   "metadata": {},
   "outputs": [
    {
     "name": "stdout",
     "output_type": "stream",
     "text": [
      "8 factories clusters, 62 factories in total,  8 manual edge creation.\n"
     ]
    }
   ],
   "source": [
    "from im2im.knowledge_graph_construction import (metadata_values, factories_clusters,\n",
    "                                                                list_of_conversion_for_metadata_pair,\n",
    "                                                                KnowledgeGraphConstructor)\n",
    "\n",
    "print(f\"{len(factories_clusters)} factories clusters, \"\n",
    "      f\"{sum([len(cluster[1]) for cluster in factories_clusters])} factories in total, \",\n",
    "      f\"{len(list_of_conversion_for_metadata_pair)} manual edge creation.\")"
   ]
  },
  {
   "cell_type": "code",
   "execution_count": 19,
   "id": "a0121a0b",
   "metadata": {},
   "outputs": [
    {
     "name": "stdout",
     "output_type": "stream",
     "text": [
      "Requirement already satisfied: py-cpuinfo in /home/fei/miniconda3/envs/tf-wsl/lib/python3.12/site-packages (9.0.0)\n",
      "Note: you may need to restart the kernel to use updated packages.\n",
      "Requirement already satisfied: gputil in /home/fei/miniconda3/envs/tf-wsl/lib/python3.12/site-packages (1.4.0)\n",
      "Note: you may need to restart the kernel to use updated packages.\n",
      "CPU: Intel(R) Core(TM) i7-7700K CPU @ 4.20GHz\n",
      "GPU:0: NVIDIA GeForce GTX 1080 Ti\n"
     ]
    }
   ],
   "source": [
    "%pip install py-cpuinfo\n",
    "%pip install gputil\n",
    "import cpuinfo\n",
    "import GPUtil\n",
    "cpu_name = cpuinfo.get_cpu_info()['brand_raw']\n",
    "print(f\"CPU: {cpu_name}\")\n",
    "\n",
    "gpus = GPUtil.getGPUs()\n",
    "print(f\"GPU:0: {GPUtil.getGPUs()[0].name}\")"
   ]
  },
  {
   "cell_type": "code",
   "execution_count": 22,
   "id": "458fcc50-38a6-42a5-b556-d4e36e99cea4",
   "metadata": {},
   "outputs": [
    {
     "name": "stdout",
     "output_type": "stream",
     "text": [
      "Construct Knowledge graph from the scratch\n",
      "Knowledge Graph with 553 nodes and 6472 edges.\n",
      "\n",
      "         3013964 function calls (3013949 primitive calls) in 1.532 seconds\n",
      "\n"
     ]
    }
   ],
   "source": [
    "import cProfile\n",
    "import pstats\n",
    "\n",
    "print(\"Construct Knowledge graph from the scratch\")\n",
    "constructor = KnowledgeGraphConstructor(metadata_values, factories_clusters, list_of_conversion_for_metadata_pair)\n",
    "with cProfile.Profile() as profile:\n",
    "    constructor.build_from_scratch()\n",
    "    results = pstats.Stats(profile)\n",
    "    results.sort_stats(pstats.SortKey.TIME)\n",
    "    print(f\"{constructor.knowledge_graph}\\n\")\n",
    "    results.print_stats(0)"
   ]
  },
  {
   "cell_type": "code",
   "execution_count": 21,
   "id": "d8ffcf3d-40ad-4d56-8c36-94a960c6e252",
   "metadata": {},
   "outputs": [
    {
     "name": "stdout",
     "output_type": "stream",
     "text": [
      "Construct Knowledge graph via loading from the file\n",
      "Knowledge Graph with 553 nodes and 6472 edges.\n",
      "         43701 function calls (43691 primitive calls) in 0.161 seconds\n",
      "\n"
     ]
    }
   ],
   "source": [
    "print(\"Construct Knowledge graph via loading from the file\")\n",
    "with cProfile.Profile() as profile:\n",
    "    constructor.load_knowledge_graph_from(constructor._know_graph_file_path)\n",
    "    results = pstats.Stats(profile)\n",
    "    results.sort_stats(pstats.SortKey.TIME)\n",
    "    print(constructor.knowledge_graph)\n",
    "    results.print_stats(0)"
   ]
  }
 ],
 "metadata": {
  "kernelspec": {
   "display_name": "Python 3 (ipykernel)",
   "language": "python",
   "name": "python3"
  },
  "language_info": {
   "codemirror_mode": {
    "name": "ipython",
    "version": 3
   },
   "file_extension": ".py",
   "mimetype": "text/x-python",
   "name": "python",
   "nbconvert_exporter": "python",
   "pygments_lexer": "ipython3",
   "version": "3.12.2"
  }
 },
 "nbformat": 4,
 "nbformat_minor": 5
}
