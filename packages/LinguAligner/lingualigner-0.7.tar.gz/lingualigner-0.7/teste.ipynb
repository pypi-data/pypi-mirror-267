{
 "cells": [
  {
   "cell_type": "code",
   "execution_count": 1,
   "metadata": {},
   "outputs": [
    {
     "name": "stderr",
     "output_type": "stream",
     "text": [
      "c:\\Users\\Filip\\AppData\\Local\\Programs\\Python\\Python39\\lib\\site-packages\\tqdm\\auto.py:22: TqdmWarning: IProgress not found. Please update jupyter and ipywidgets. See https://ipywidgets.readthedocs.io/en/stable/user_install.html\n",
      "  from .autonotebook import tqdm as notebook_tqdm\n"
     ]
    },
    {
     "name": "stdout",
     "output_type": "stream",
     "text": [
      "Loading spacy model: pt_core_news_lg\n",
      "Model loaded\n",
      "Loading WAligner model: bert-base-multilingual-uncased\n",
      "Model loaded\n",
      "{'war': ['guerra'], 'land': ['terra', 'terreno', 'aterrar', 'pousar', 'aterra', 'solo', 'território'], 'fire': ['fogo', 'incêndio', 'demitir', 'despedir', 'fogueira', 'disparar', 'chamas', 'dispare', 'lareira', 'atirar', 'atire']}\n"
     ]
    }
   ],
   "source": [
    "import LinguAligner\n",
    "\n",
    "config= {\n",
    "    \"spacy_model\": \"pt_core_news_lg\",\n",
    "    \"pipeline\": [ \"lemma\", \"external_resource\", \"word_aligner\",\"gestalt\",\"leveinstein\"],\n",
    "    \"WAligner_model\": \"bert-base-multilingual-uncased\",\n",
    "}\n",
    "\n",
    "key = \"f6d44239a73046ca8378bcdc689b395c\"\n",
    "\n",
    "lista = [\"war\",\"land\",\"fire\"]\n",
    "\n",
    "\n",
    "pipeline_ = pipeline.Pipeline(config)\n",
    "\n",
    "print(lookupTable)"
   ]
  },
  {
   "cell_type": "code",
   "execution_count": 2,
   "metadata": {},
   "outputs": [
    {
     "name": "stdout",
     "output_type": "stream",
     "text": [
      "Loading spacy model: pt_core_news_lg\n",
      "Model loaded\n",
      "Loading WAligner model: bert-base-multilingual-uncased\n",
      "Model loaded\n",
      "Lookup table not provided for M_Trans method. (skipped)\n",
      "disparar\n"
     ]
    }
   ],
   "source": [
    "from LinguAligner import Pipeline\n",
    "\n",
    "\"\"\"\n",
    "(By default, the first method used is string matching. If unsuccessful, the alignment pipeline is employed.)\n",
    "Methods:\n",
    "- lemma: Lemmatization\n",
    "- M_Trans: Multiple Translations of a word\n",
    "- word_aligner: mBERT-based word aligner\n",
    "- gestalt: Gestalt pattern matching (character-based)\n",
    "- levenshtein: Levenshtein distance (character-based)\n",
    "\"\"\"\n",
    "\n",
    "config= {\n",
    "    \"pipeline\": [ \"lemma\", \"M_Trans\", \"word_aligner\",\"gestalt\",\"leveinstein\"], # can be changed according to the desired pipeline\n",
    "    \"spacy_model\": \"pt_core_news_lg\", # change according to the language\n",
    "    \"WAligner_model\": \"bert-base-multilingual-uncased\", # needed for word_aligner\n",
    "}\n",
    "\n",
    "\n",
    "aligner = Pipeline(config)\n",
    "x = aligner.align_annotation(\"The soldiers were ordered to fire their weapons\",\"fire\", \"Os soldados receberam ordens para disparar as suas armas\",\"incêndio\")\n",
    "print(x)"
   ]
  },
  {
   "cell_type": "code",
   "execution_count": 4,
   "metadata": {},
   "outputs": [
    {
     "name": "stdout",
     "output_type": "stream",
     "text": [
      "Lookup table not provided for M_Trans method. (skipped)\n",
      "disparar\n"
     ]
    }
   ],
   "source": [
    "x = aligner.align_annotation(\"The soldiers were ordered to fire their weapons\",\"fire\", \"Os soldados receberam ordens para disparar as suas armas\",\"incêndio\")\n",
    "print(x)"
   ]
  },
  {
   "cell_type": "code",
   "execution_count": null,
   "metadata": {},
   "outputs": [],
   "source": [
    "from LinguAligner import multiple_translations\n",
    "lookupTable = {}\n",
    "annotations_list = [\"war\",\"land\",\"fire\"]\n",
    "key = \"MICROSOFT_TRANSLATOR_KEY\"\n",
    "for word in annotations_list:\n",
    "    lookupTable[word] = multiple_translations.getMultipleTranslations(word,\"en-en\",\"pt-pt\",key) # change the language codes according to the desired languages\n",
    "\n",
    "# Then, pass the lookupTable to the align_annotation method\n",
    "x = aligner.align_annotation(\"The soldiers were ordered to fire their weapons\",\"fire\", \"Os soldados receberam ordens para disparar as suas armas\",\"incêndio\",lookupTable)\n"
   ]
  }
 ],
 "metadata": {
  "kernelspec": {
   "display_name": "Python 3",
   "language": "python",
   "name": "python3"
  },
  "language_info": {
   "codemirror_mode": {
    "name": "ipython",
    "version": 3
   },
   "file_extension": ".py",
   "mimetype": "text/x-python",
   "name": "python",
   "nbconvert_exporter": "python",
   "pygments_lexer": "ipython3",
   "version": "3.9.12"
  }
 },
 "nbformat": 4,
 "nbformat_minor": 2
}
