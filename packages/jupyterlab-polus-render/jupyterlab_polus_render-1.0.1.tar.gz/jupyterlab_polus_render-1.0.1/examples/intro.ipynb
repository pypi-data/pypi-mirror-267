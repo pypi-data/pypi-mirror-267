{
 "cells": [
  {
   "cell_type": "code",
   "execution_count": 1,
   "id": "8913ae6f-16cd-4c33-878d-b5e0d0cb279b",
   "metadata": {},
   "outputs": [],
   "source": [
    "from jupyterlab_polus_render import Render"
   ]
  },
  {
   "cell_type": "code",
   "execution_count": null,
   "id": "faed3bd8-5381-45ff-9441-28b82bcd1af5",
   "metadata": {},
   "outputs": [],
   "source": [
    "Render(imagePath = 'https://viv-demo.storage.googleapis.com/LuCa-7color_3x3component_data.ome.tif')"
   ]
  },
  {
   "cell_type": "code",
   "execution_count": 2,
   "id": "1ef25860-fb82-4d99-917a-6da0c3366767",
   "metadata": {},
   "outputs": [
    {
     "data": {
      "application/vnd.jupyter.widget-view+json": {
       "model_id": "eabb4cbd214544e680845181d2193c1c",
       "version_major": 2,
       "version_minor": 0
      },
      "text/plain": [
       "Render(imagePath='/Users/taletskiyk2/git/jupyterlab-extensions/jupyterlab_polus_render/examples/../images/pyra…"
      ]
     },
     "execution_count": 2,
     "metadata": {},
     "output_type": "execute_result"
    }
   ],
   "source": [
    "Render(imagePath = '../images/pyramid.zarr')"
   ]
  },
  {
   "cell_type": "code",
   "execution_count": null,
   "id": "72cb2f13-5c3b-4b36-a662-2c5bcbe633bb",
   "metadata": {},
   "outputs": [],
   "source": []
  }
 ],
 "metadata": {
  "kernelspec": {
   "display_name": "Python 3 (ipykernel)",
   "language": "python",
   "name": "python3"
  },
  "language_info": {
   "codemirror_mode": {
    "name": "ipython",
    "version": 3
   },
   "file_extension": ".py",
   "mimetype": "text/x-python",
   "name": "python",
   "nbconvert_exporter": "python",
   "pygments_lexer": "ipython3",
   "version": "3.10.13"
  }
 },
 "nbformat": 4,
 "nbformat_minor": 5
}
