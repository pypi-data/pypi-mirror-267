{
 "cells": [
  {
   "cell_type": "code",
   "execution_count": 1,
   "metadata": {},
   "outputs": [],
   "source": [
    "import polars as pl\n",
    "from test_cfg import *"
   ]
  },
  {
   "cell_type": "code",
   "execution_count": 2,
   "metadata": {},
   "outputs": [],
   "source": [
    "all_df, daily_df = get_dfs()"
   ]
  },
  {
   "cell_type": "code",
   "execution_count": 15,
   "metadata": {},
   "outputs": [],
   "source": [
    "daily_pdf = daily_df.to_pandas()"
   ]
  },
  {
   "cell_type": "code",
   "execution_count": 3,
   "metadata": {},
   "outputs": [
    {
     "data": {
      "text/html": [
       "<div><style>\n",
       ".dataframe > thead > tr,\n",
       ".dataframe > tbody > tr {\n",
       "  text-align: right;\n",
       "  white-space: pre-wrap;\n",
       "}\n",
       "</style>\n",
       "<small>shape: (28_677_250, 6)</small><table border=\"1\" class=\"dataframe\"><thead><tr><th>stock</th><th>date</th><th>time</th><th>midEnd</th><th>trade</th><th>volume</th></tr><tr><td>cat</td><td>date</td><td>time</td><td>f64</td><td>i32</td><td>i32</td></tr></thead><tbody><tr><td>&quot;ADSK&quot;</td><td>2019-01-02</td><td>09:30:00</td><td>125.205</td><td>-287</td><td>287</td></tr><tr><td>&quot;ADSK&quot;</td><td>2019-01-02</td><td>09:30:10</td><td>124.61</td><td>20</td><td>20</td></tr><tr><td>&quot;ADSK&quot;</td><td>2019-01-02</td><td>09:30:20</td><td>124.61</td><td>0</td><td>0</td></tr><tr><td>&quot;ADSK&quot;</td><td>2019-01-02</td><td>09:30:30</td><td>125.155</td><td>200</td><td>200</td></tr><tr><td>&quot;ADSK&quot;</td><td>2019-01-02</td><td>09:30:40</td><td>125.705</td><td>-385</td><td>385</td></tr><tr><td>&hellip;</td><td>&hellip;</td><td>&hellip;</td><td>&hellip;</td><td>&hellip;</td><td>&hellip;</td></tr><tr><td>&quot;ADS&quot;</td><td>2019-12-27</td><td>15:59:20</td><td>110.915</td><td>0</td><td>0</td></tr><tr><td>&quot;ADS&quot;</td><td>2019-12-27</td><td>15:59:30</td><td>110.95</td><td>0</td><td>0</td></tr><tr><td>&quot;ADS&quot;</td><td>2019-12-27</td><td>15:59:40</td><td>110.92</td><td>0</td><td>0</td></tr><tr><td>&quot;ADS&quot;</td><td>2019-12-27</td><td>15:59:50</td><td>110.91</td><td>-2</td><td>2</td></tr><tr><td>&quot;ADS&quot;</td><td>2019-12-27</td><td>16:00:00</td><td>110.91</td><td>0</td><td>0</td></tr></tbody></table></div>"
      ],
      "text/plain": [
       "shape: (28_677_250, 6)\n",
       "┌───────┬────────────┬──────────┬─────────┬───────┬────────┐\n",
       "│ stock ┆ date       ┆ time     ┆ midEnd  ┆ trade ┆ volume │\n",
       "│ ---   ┆ ---        ┆ ---      ┆ ---     ┆ ---   ┆ ---    │\n",
       "│ cat   ┆ date       ┆ time     ┆ f64     ┆ i32   ┆ i32    │\n",
       "╞═══════╪════════════╪══════════╪═════════╪═══════╪════════╡\n",
       "│ ADSK  ┆ 2019-01-02 ┆ 09:30:00 ┆ 125.205 ┆ -287  ┆ 287    │\n",
       "│ ADSK  ┆ 2019-01-02 ┆ 09:30:10 ┆ 124.61  ┆ 20    ┆ 20     │\n",
       "│ ADSK  ┆ 2019-01-02 ┆ 09:30:20 ┆ 124.61  ┆ 0     ┆ 0      │\n",
       "│ ADSK  ┆ 2019-01-02 ┆ 09:30:30 ┆ 125.155 ┆ 200   ┆ 200    │\n",
       "│ ADSK  ┆ 2019-01-02 ┆ 09:30:40 ┆ 125.705 ┆ -385  ┆ 385    │\n",
       "│ …     ┆ …          ┆ …        ┆ …       ┆ …     ┆ …      │\n",
       "│ ADS   ┆ 2019-12-27 ┆ 15:59:20 ┆ 110.915 ┆ 0     ┆ 0      │\n",
       "│ ADS   ┆ 2019-12-27 ┆ 15:59:30 ┆ 110.95  ┆ 0     ┆ 0      │\n",
       "│ ADS   ┆ 2019-12-27 ┆ 15:59:40 ┆ 110.92  ┆ 0     ┆ 0      │\n",
       "│ ADS   ┆ 2019-12-27 ┆ 15:59:50 ┆ 110.91  ┆ -2    ┆ 2      │\n",
       "│ ADS   ┆ 2019-12-27 ┆ 16:00:00 ┆ 110.91  ┆ 0     ┆ 0      │\n",
       "└───────┴────────────┴──────────┴─────────┴───────┴────────┘"
      ]
     },
     "execution_count": 3,
     "metadata": {},
     "output_type": "execute_result"
    }
   ],
   "source": [
    "all_df"
   ]
  },
  {
   "cell_type": "code",
   "execution_count": null,
   "metadata": {},
   "outputs": [],
   "source": [
    "daily_pdf.pivot(index='stock', columns='date', values='adv').T.plot()"
   ]
  },
  {
   "cell_type": "code",
   "execution_count": 51,
   "metadata": {},
   "outputs": [
    {
     "data": {
      "text/html": [
       "<div><style>\n",
       ".dataframe > thead > tr,\n",
       ".dataframe > tbody > tr {\n",
       "  text-align: right;\n",
       "  white-space: pre-wrap;\n",
       "}\n",
       "</style>\n",
       "<small>shape: (249, 4)</small><table border=\"1\" class=\"dataframe\"><thead><tr><th>stock</th><th>date</th><th>adv</th><th>vol</th></tr><tr><td>cat</td><td>date</td><td>f64</td><td>f64</td></tr></thead><tbody><tr><td>&quot;ADS&quot;</td><td>2019-01-02</td><td>null</td><td>null</td></tr><tr><td>&quot;ADS&quot;</td><td>2019-01-03</td><td>null</td><td>null</td></tr><tr><td>&quot;ADS&quot;</td><td>2019-01-04</td><td>null</td><td>null</td></tr><tr><td>&quot;ADS&quot;</td><td>2019-01-07</td><td>null</td><td>null</td></tr><tr><td>&quot;ADS&quot;</td><td>2019-01-08</td><td>null</td><td>null</td></tr><tr><td>&hellip;</td><td>&hellip;</td><td>&hellip;</td><td>&hellip;</td></tr><tr><td>&quot;ADS&quot;</td><td>2019-12-19</td><td>90423.619048</td><td>0.000303</td></tr><tr><td>&quot;ADS&quot;</td><td>2019-12-20</td><td>88878.952381</td><td>0.000304</td></tr><tr><td>&quot;ADS&quot;</td><td>2019-12-23</td><td>85781.4</td><td>0.000297</td></tr><tr><td>&quot;ADS&quot;</td><td>2019-12-24</td><td>82936.666667</td><td>0.000293</td></tr><tr><td>&quot;ADS&quot;</td><td>2019-12-26</td><td>81498.9</td><td>0.000286</td></tr></tbody></table></div>"
      ],
      "text/plain": [
       "shape: (249, 4)\n",
       "┌───────┬────────────┬──────────────┬──────────┐\n",
       "│ stock ┆ date       ┆ adv          ┆ vol      │\n",
       "│ ---   ┆ ---        ┆ ---          ┆ ---      │\n",
       "│ cat   ┆ date       ┆ f64          ┆ f64      │\n",
       "╞═══════╪════════════╪══════════════╪══════════╡\n",
       "│ ADS   ┆ 2019-01-02 ┆ null         ┆ null     │\n",
       "│ ADS   ┆ 2019-01-03 ┆ null         ┆ null     │\n",
       "│ ADS   ┆ 2019-01-04 ┆ null         ┆ null     │\n",
       "│ ADS   ┆ 2019-01-07 ┆ null         ┆ null     │\n",
       "│ ADS   ┆ 2019-01-08 ┆ null         ┆ null     │\n",
       "│ …     ┆ …          ┆ …            ┆ …        │\n",
       "│ ADS   ┆ 2019-12-19 ┆ 90423.619048 ┆ 0.000303 │\n",
       "│ ADS   ┆ 2019-12-20 ┆ 88878.952381 ┆ 0.000304 │\n",
       "│ ADS   ┆ 2019-12-23 ┆ 85781.4      ┆ 0.000297 │\n",
       "│ ADS   ┆ 2019-12-24 ┆ 82936.666667 ┆ 0.000293 │\n",
       "│ ADS   ┆ 2019-12-26 ┆ 81498.9      ┆ 0.000286 │\n",
       "└───────┴────────────┴──────────────┴──────────┘"
      ]
     },
     "execution_count": 51,
     "metadata": {},
     "output_type": "execute_result"
    }
   ],
   "source": [
    "daily_df.filter(pl.col('stock') == 'ADS')"
   ]
  },
  {
   "cell_type": "code",
   "execution_count": 6,
   "metadata": {},
   "outputs": [],
   "source": [
    "import sys\n",
    "sys.path.append('../')\n",
    "from models.impact_model import *"
   ]
  },
  {
   "cell_type": "code",
   "execution_count": 12,
   "metadata": {},
   "outputs": [],
   "source": [
    "trade_df = all_df"
   ]
  },
  {
   "cell_type": "code",
   "execution_count": 13,
   "metadata": {},
   "outputs": [],
   "source": [
    "trade_df = trade_df.join(daily_df, how='left', on=['stock', 'date'])"
   ]
  },
  {
   "cell_type": "code",
   "execution_count": 20,
   "metadata": {},
   "outputs": [],
   "source": [
    "ow = OWModel(0.98, 100000)\n",
    "impacted_df = ow.subtract_impact(trade_df).collect()"
   ]
  },
  {
   "cell_type": "code",
   "execution_count": 21,
   "metadata": {},
   "outputs": [
    {
     "data": {
      "text/html": [
       "<div><style>\n",
       ".dataframe > thead > tr,\n",
       ".dataframe > tbody > tr {\n",
       "  text-align: right;\n",
       "  white-space: pre-wrap;\n",
       "}\n",
       "</style>\n",
       "<small>shape: (26_151_311, 10)</small><table border=\"1\" class=\"dataframe\"><thead><tr><th>stock</th><th>date</th><th>time</th><th>midEnd</th><th>trade</th><th>volume</th><th>adv</th><th>vol</th><th>impact</th><th>impacted_price</th></tr><tr><td>cat</td><td>date</td><td>time</td><td>f64</td><td>i32</td><td>i32</td><td>f64</td><td>f64</td><td>f64</td><td>f64</td></tr></thead><tbody><tr><td>&quot;ADSK&quot;</td><td>2019-02-04</td><td>09:30:00</td><td>149.25</td><td>-404</td><td>404</td><td>237350.7</td><td>0.000308</td><td>-0.001071</td><td>149.248929</td></tr><tr><td>&quot;ADSK&quot;</td><td>2019-02-04</td><td>09:30:10</td><td>149.22</td><td>0</td><td>0</td><td>237350.7</td><td>0.000308</td><td>-0.00105</td><td>149.21895</td></tr><tr><td>&quot;ADSK&quot;</td><td>2019-02-04</td><td>09:30:20</td><td>149.22</td><td>0</td><td>0</td><td>237350.7</td><td>0.000308</td><td>-0.001029</td><td>149.218971</td></tr><tr><td>&quot;ADSK&quot;</td><td>2019-02-04</td><td>09:30:30</td><td>149.22</td><td>0</td><td>0</td><td>237350.7</td><td>0.000308</td><td>-0.001008</td><td>149.218992</td></tr><tr><td>&quot;ADSK&quot;</td><td>2019-02-04</td><td>09:30:40</td><td>149.22</td><td>0</td><td>0</td><td>237350.7</td><td>0.000308</td><td>-0.000988</td><td>149.219012</td></tr><tr><td>&hellip;</td><td>&hellip;</td><td>&hellip;</td><td>&hellip;</td><td>&hellip;</td><td>&hellip;</td><td>&hellip;</td><td>&hellip;</td><td>&hellip;</td><td>&hellip;</td></tr><tr><td>&quot;ADS&quot;</td><td>2019-12-26</td><td>15:59:20</td><td>110.285</td><td>-85</td><td>85</td><td>81498.9</td><td>0.000286</td><td>0.002311</td><td>110.287311</td></tr><tr><td>&quot;ADS&quot;</td><td>2019-12-26</td><td>15:59:30</td><td>110.27</td><td>-88</td><td>88</td><td>81498.9</td><td>0.000286</td><td>0.001634</td><td>110.271634</td></tr><tr><td>&quot;ADS&quot;</td><td>2019-12-26</td><td>15:59:40</td><td>110.335</td><td>-100</td><td>100</td><td>81498.9</td><td>0.000286</td><td>0.000885</td><td>110.335885</td></tr><tr><td>&quot;ADS&quot;</td><td>2019-12-26</td><td>15:59:50</td><td>110.355</td><td>0</td><td>0</td><td>81498.9</td><td>0.000286</td><td>0.000867</td><td>110.355867</td></tr><tr><td>&quot;ADS&quot;</td><td>2019-12-26</td><td>16:00:00</td><td>110.355</td><td>0</td><td>0</td><td>81498.9</td><td>0.000286</td><td>0.00085</td><td>110.35585</td></tr></tbody></table></div>"
      ],
      "text/plain": [
       "shape: (26_151_311, 10)\n",
       "┌───────┬────────────┬──────────┬─────────┬───┬──────────┬──────────┬───────────┬────────────────┐\n",
       "│ stock ┆ date       ┆ time     ┆ midEnd  ┆ … ┆ adv      ┆ vol      ┆ impact    ┆ impacted_price │\n",
       "│ ---   ┆ ---        ┆ ---      ┆ ---     ┆   ┆ ---      ┆ ---      ┆ ---       ┆ ---            │\n",
       "│ cat   ┆ date       ┆ time     ┆ f64     ┆   ┆ f64      ┆ f64      ┆ f64       ┆ f64            │\n",
       "╞═══════╪════════════╪══════════╪═════════╪═══╪══════════╪══════════╪═══════════╪════════════════╡\n",
       "│ ADSK  ┆ 2019-02-04 ┆ 09:30:00 ┆ 149.25  ┆ … ┆ 237350.7 ┆ 0.000308 ┆ -0.001071 ┆ 149.248929     │\n",
       "│ ADSK  ┆ 2019-02-04 ┆ 09:30:10 ┆ 149.22  ┆ … ┆ 237350.7 ┆ 0.000308 ┆ -0.00105  ┆ 149.21895      │\n",
       "│ ADSK  ┆ 2019-02-04 ┆ 09:30:20 ┆ 149.22  ┆ … ┆ 237350.7 ┆ 0.000308 ┆ -0.001029 ┆ 149.218971     │\n",
       "│ ADSK  ┆ 2019-02-04 ┆ 09:30:30 ┆ 149.22  ┆ … ┆ 237350.7 ┆ 0.000308 ┆ -0.001008 ┆ 149.218992     │\n",
       "│ ADSK  ┆ 2019-02-04 ┆ 09:30:40 ┆ 149.22  ┆ … ┆ 237350.7 ┆ 0.000308 ┆ -0.000988 ┆ 149.219012     │\n",
       "│ …     ┆ …          ┆ …        ┆ …       ┆ … ┆ …        ┆ …        ┆ …         ┆ …              │\n",
       "│ ADS   ┆ 2019-12-26 ┆ 15:59:20 ┆ 110.285 ┆ … ┆ 81498.9  ┆ 0.000286 ┆ 0.002311  ┆ 110.287311     │\n",
       "│ ADS   ┆ 2019-12-26 ┆ 15:59:30 ┆ 110.27  ┆ … ┆ 81498.9  ┆ 0.000286 ┆ 0.001634  ┆ 110.271634     │\n",
       "│ ADS   ┆ 2019-12-26 ┆ 15:59:40 ┆ 110.335 ┆ … ┆ 81498.9  ┆ 0.000286 ┆ 0.000885  ┆ 110.335885     │\n",
       "│ ADS   ┆ 2019-12-26 ┆ 15:59:50 ┆ 110.355 ┆ … ┆ 81498.9  ┆ 0.000286 ┆ 0.000867  ┆ 110.355867     │\n",
       "│ ADS   ┆ 2019-12-26 ┆ 16:00:00 ┆ 110.355 ┆ … ┆ 81498.9  ┆ 0.000286 ┆ 0.00085   ┆ 110.35585      │\n",
       "└───────┴────────────┴──────────┴─────────┴───┴──────────┴──────────┴───────────┴────────────────┘"
      ]
     },
     "execution_count": 21,
     "metadata": {},
     "output_type": "execute_result"
    }
   ],
   "source": [
    "# Is vol too low? need to multiply by 100?\n",
    "impacted_df.filter(pl.col('impacted_price').is_not_null())"
   ]
  }
 ],
 "metadata": {
  "kernelspec": {
   "display_name": "ImpactPy",
   "language": "python",
   "name": "python3"
  },
  "language_info": {
   "codemirror_mode": {
    "name": "ipython",
    "version": 3
   },
   "file_extension": ".py",
   "mimetype": "text/x-python",
   "name": "python",
   "nbconvert_exporter": "python",
   "pygments_lexer": "ipython3",
   "version": "3.12.2"
  }
 },
 "nbformat": 4,
 "nbformat_minor": 2
}
