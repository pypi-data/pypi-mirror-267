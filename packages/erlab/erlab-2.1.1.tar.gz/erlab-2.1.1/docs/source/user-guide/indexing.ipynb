{
 "cells": [
  {
   "cell_type": "raw",
   "id": "37312770",
   "metadata": {
    "editable": true,
    "raw_mimetype": "text/restructuredtext",
    "slideshow": {
     "slide_type": ""
    },
    "tags": []
   },
   "source": [
    "Selecting and indexing data\n",
    "===========================\n",
    "\n",
    "In most cases, the powerful data manipulation and indexing methods provided by :mod:`xarray` are sufficient. In this page, some frequently used :mod:`xarray` features are summarized in addition to some utilities provided by this package. Refer to the `xarray user guide <https://docs.xarray.dev/en/stable/usedatr-guide/indexing.html>`_ for more information.\n",
    "\n",
    "First, let us import some example data: a simple tight binding simulation of graphene."
   ]
  },
  {
   "cell_type": "code",
   "execution_count": null,
   "id": "a1be0841",
   "metadata": {},
   "outputs": [],
   "source": [
    "import xarray as xr\n",
    "\n",
    "xr.set_options(display_expand_data=False)"
   ]
  },
  {
   "cell_type": "code",
   "execution_count": null,
   "id": "8633209c",
   "metadata": {
    "editable": true,
    "slideshow": {
     "slide_type": ""
    },
    "tags": []
   },
   "outputs": [],
   "source": [
    "from erlab.interactive.exampledata import generate_data\n",
    "\n",
    "dat = generate_data()"
   ]
  },
  {
   "cell_type": "code",
   "execution_count": null,
   "id": "082ec477",
   "metadata": {
    "editable": true,
    "slideshow": {
     "slide_type": ""
    },
    "tags": []
   },
   "outputs": [],
   "source": [
    "dat"
   ]
  },
  {
   "cell_type": "raw",
   "id": "0d36f0c0",
   "metadata": {
    "editable": true,
    "raw_mimetype": "text/restructuredtext",
    "slideshow": {
     "slide_type": ""
    },
    "tags": []
   },
   "source": [
    "We can see that the generated data is a three-dimensional :class:`xarray.DataArray` . Now, let's extract a cut along :math:`k_y = 0.3`."
   ]
  },
  {
   "cell_type": "code",
   "execution_count": null,
   "id": "c00a34a2",
   "metadata": {
    "editable": true,
    "slideshow": {
     "slide_type": ""
    },
    "tags": []
   },
   "outputs": [],
   "source": [
    "dat.sel(ky=0.3, method=\"nearest\")"
   ]
  },
  {
   "cell_type": "markdown",
   "id": "8f54de42",
   "metadata": {},
   "source": [
    "How about the Fermi surface?"
   ]
  },
  {
   "cell_type": "code",
   "execution_count": null,
   "id": "ee860369",
   "metadata": {},
   "outputs": [],
   "source": [
    "dat.sel(eV=0.0, method=\"nearest\")"
   ]
  },
  {
   "cell_type": "raw",
   "id": "41bac675",
   "metadata": {
    "editable": true,
    "raw_mimetype": "text/restructuredtext",
    "slideshow": {
     "slide_type": ""
    },
    "tags": []
   },
   "source": [
    "In many scenarios, it is necessary to perform integration across multiple array slices. This can be done by slicing and averaging. The following code integrates the intensity over a window of 50 meV centered at :math:`E_F`."
   ]
  },
  {
   "cell_type": "code",
   "execution_count": null,
   "id": "b495a686",
   "metadata": {},
   "outputs": [],
   "source": [
    "dat.sel(eV=slice(-0.025, 0.025)).mean(\"eV\")"
   ]
  },
  {
   "cell_type": "raw",
   "id": "9e68fdb4",
   "metadata": {
    "editable": true,
    "raw_mimetype": "text/restructuredtext",
    "slideshow": {
     "slide_type": ""
    },
    "tags": []
   },
   "source": [
    "However, doing this every time is cumbersome, and we have lost the coordinate `eV`. ERLabPy provides a callable accessor :class:`qsel <erlab.accessors.SelectionAccessor>` to streamline this process."
   ]
  },
  {
   "cell_type": "code",
   "execution_count": null,
   "id": "00d3b00f",
   "metadata": {},
   "outputs": [],
   "source": [
    "dat.qsel(eV=0.0, eV_width=0.05)"
   ]
  },
  {
   "cell_type": "raw",
   "id": "dfc0348b",
   "metadata": {
    "editable": true,
    "raw_mimetype": "text/restructuredtext",
    "slideshow": {
     "slide_type": ""
    },
    "tags": []
   },
   "source": [
    "Note that the averaged coordinate is automatically added to the data array. This is useful for plotting and further analysis.\n",
    "\n",
    "If the width is not specified, :class:`qsel <erlab.accessors.SelectionAccessor>` behaves like passing `method='nearest'` to `sel`. If a slice is given instead of a single value, no integration is performed. All of these methods can be combined:"
   ]
  },
  {
   "cell_type": "code",
   "execution_count": null,
   "id": "e3bdd1ba",
   "metadata": {},
   "outputs": [],
   "source": [
    "dat.qsel(kx=slice(-0.3, 0.3), ky=0.3, eV=0.0, eV_width=0.05)"
   ]
  }
 ],
 "metadata": {
  "kernelspec": {
   "display_name": "Python 3 (ipykernel)",
   "language": "python",
   "name": "python3"
  },
  "language_info": {
   "codemirror_mode": {
    "name": "ipython",
    "version": 3
   },
   "file_extension": ".py",
   "mimetype": "text/x-python",
   "name": "python",
   "nbconvert_exporter": "python",
   "pygments_lexer": "ipython3",
   "version": "3.11.8"
  }
 },
 "nbformat": 4,
 "nbformat_minor": 5
}
