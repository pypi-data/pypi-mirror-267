{
    "cells": [
        {
            "cell_type": "raw",
            "metadata": {
                "editable": true,
                "raw_mimetype": "text/restructuredtext",
                "slideshow": {
                    "slide_type": ""
                },
                "tags": [],
                "vscode": {
                    "languageId": "raw"
                }
            },
            "source": [
                "Curve fitting\n",
                "=============\n",
                "\n",
                "ERLabPy provides two choices for curve fitting: `lmfit\n",
                "<https://lmfit.github.io/lmfit-py/>`_ and `iminuit\n",
                "<https://github.com/scikit-hep/iminuit>`_. \n",
                "\n",
                "- `lmfit <https://lmfit.github.io/lmfit-py/>`_ provides a high-level interface to\n",
                "  optimization and curve fitting problems for Python. It builds on and extends many of\n",
                "  the optimization methods of :mod:`scipy.optimize`, and provides a common interface for\n",
                "  all of its supported optimization methods.\n",
                "\n",
                "- `iminuit <https://github.com/scikit-hep/iminuit>`_ is a Python interface to the Minuit\n",
                "  C++ library, highly compatible with Jupyter notebooks and the SciPy ecosystem.\n",
                "  Although developed for high-energy physics, it is a simple and easy-to-use tool for\n",
                "  solving optimization problems.\n",
                "\n",
                "In this tutorial, we will show how to use both libraries to fit a simple function to a set of data points."
            ]
        },
        {
            "cell_type": "code",
            "execution_count": null,
            "metadata": {},
            "outputs": [],
            "source": [
                "import matplotlib.pyplot as plt\n",
                "import numpy as np\n",
                "import xarray as xr\n",
                "from erlab.interactive.exampledata import generate_data"
            ]
        },
        {
            "cell_type": "code",
            "execution_count": null,
            "metadata": {
                "nbsphinx": "hidden"
            },
            "outputs": [],
            "source": [
                "%config InlineBackend.figure_formats = [\"svg\", \"pdf\"]\n",
                "plt.rcParams[\"figure.dpi\"] = 96\n",
                "plt.rcParams[\"image.cmap\"] = \"viridis\"\n",
                "\n",
                "xr.set_options(display_expand_data=False)\n",
                "nb_execution_mode = \"cache\""
            ]
        },
        {
            "cell_type": "markdown",
            "metadata": {},
            "source": [
                "Let's start by defining a model function and the data to fit."
            ]
        },
        {
            "cell_type": "code",
            "execution_count": null,
            "metadata": {},
            "outputs": [],
            "source": [
                "def poly1(x, a, b):\n",
                "    return a * x + b\n",
                "\n",
                "# Generate some toy data\n",
                "x = np.linspace(0, 10, 20)\n",
                "y = poly1(x, 1, 2)\n",
                "\n",
                "# Add some noise with fixed seed for reproducibility\n",
                "rng = np.random.default_rng(1)\n",
                "yerr = np.full_like(x, 0.5)\n",
                "y = rng.normal(y, yerr)"
            ]
        },
        {
            "cell_type": "raw",
            "metadata": {
                "editable": true,
                "raw_mimetype": "text/restructuredtext",
                "slideshow": {
                    "slide_type": ""
                },
                "tags": [],
                "vscode": {
                    "languageId": "raw"
                }
            },
            "source": [
                "Fitting a simple function\n",
                "-------------------------\n",
                "\n",
                "A lmfit model can be created by calling :class:`lmfit.Model` class with the model\n",
                "function and the independent variable(s) as arguments."
            ]
        },
        {
            "cell_type": "code",
            "execution_count": null,
            "metadata": {},
            "outputs": [],
            "source": [
                "import lmfit\n",
                "\n",
                "model = lmfit.Model(poly1)\n",
                "params = model.make_params(a=1.0, b=2.0)\n",
                "result = model.fit(y, x=x, params=params, weights=1 / yerr)\n",
                "\n",
                "result.plot()\n",
                "result"
            ]
        },
        {
            "cell_type": "markdown",
            "metadata": {},
            "source": [
                "By passing dictionaries to `make_params`, we can set the initial values of the parameters and also set the bounds for the parameters."
            ]
        },
        {
            "cell_type": "code",
            "execution_count": null,
            "metadata": {},
            "outputs": [],
            "source": [
                "model = lmfit.Model(poly1)\n",
                "params = model.make_params(\n",
                "    a=dict(value=1.0, min=0.0),\n",
                "    b=dict(value=2.0, vary=False),\n",
                ")\n",
                "result = model.fit(y, x=x, params=params, weights=1 / yerr)\n",
                "_ = result.plot()"
            ]
        },
        {
            "cell_type": "raw",
            "metadata": {
                "editable": true,
                "raw_mimetype": "text/restructuredtext",
                "slideshow": {
                    "slide_type": ""
                },
                "tags": [],
                "vscode": {
                    "languageId": "raw"
                }
            },
            "source": [
                "``result`` is a :class:`lmfit.model.ModelResult` object that contains the results of the\n",
                "fit. The best-fit parameters can be accessed through the ``result.params`` attribute.\n",
                "\n"
            ]
        },
        {
            "cell_type": "code",
            "execution_count": null,
            "metadata": {},
            "outputs": [],
            "source": [
                "result.params"
            ]
        },
        {
            "cell_type": "code",
            "execution_count": null,
            "metadata": {},
            "outputs": [],
            "source": [
                "result.params[\"a\"].value, result.params[\"a\"].stderr"
            ]
        },
        {
            "cell_type": "markdown",
            "metadata": {},
            "source": [
                "The parameters can also be retrieved in a form that allows easy error propagation calculation, enabled by the [uncertainties](https://github.com/lmfit/uncertainties) package."
            ]
        },
        {
            "cell_type": "code",
            "execution_count": null,
            "metadata": {},
            "outputs": [],
            "source": [
                "a_uvar = result.uvars[\"a\"]\n",
                "print(a_uvar)\n",
                "print(a_uvar**2)"
            ]
        },
        {
            "cell_type": "raw",
            "metadata": {
                "editable": true,
                "raw_mimetype": "text/restructuredtext",
                "slideshow": {
                    "slide_type": ""
                },
                "tags": [],
                "vscode": {
                    "languageId": "raw"
                }
            },
            "source": [
                "Fitting with composite models\n",
                "-----------------------------\n",
                "\n",
                "Before fitting, let us generate a Gaussian peak on a linear background."
            ]
        },
        {
            "cell_type": "code",
            "execution_count": null,
            "metadata": {},
            "outputs": [],
            "source": [
                "from lmfit.models import LinearModel, GaussianModel\n",
                "\n",
                "# Generate toy data\n",
                "x = np.linspace(0, 10, 100)\n",
                "y = -0.1 * x + 2 + 3 * np.exp(-((x - 5) ** 2) / (2 * 1 ** 2))\n",
                "\n",
                "# Add some noise with fixed seed for reproducibility\n",
                "rng = np.random.default_rng(1)\n",
                "yerr = np.full_like(x, 0.4)\n",
                "y = rng.normal(y, yerr)\n",
                "\n",
                "# Plot the data\n",
                "plt.errorbar(x, y, yerr, fmt=\"o\")"
            ]
        },
        {
            "cell_type": "markdown",
            "metadata": {},
            "source": [
                "A composite model can be created by adding multiple models together."
            ]
        },
        {
            "cell_type": "code",
            "execution_count": null,
            "metadata": {},
            "outputs": [],
            "source": [
                "model = LinearModel() + GaussianModel()\n",
                "params = model.make_params(slope=-0.1, center=5.0, sigma=dict(value=0.1, min=0))\n",
                "params"
            ]
        },
        {
            "cell_type": "code",
            "execution_count": null,
            "metadata": {},
            "outputs": [],
            "source": [
                "result = model.fit(y, x=x, params=params, weights=1 / yerr)\n",
                "result.plot()\n",
                "result"
            ]
        },
        {
            "cell_type": "markdown",
            "metadata": {},
            "source": [
                "How about multiple gaussian peaks? Since the parameter names overlap between the models, we must use the `prefix` argument to distinguish between them."
            ]
        },
        {
            "cell_type": "code",
            "execution_count": null,
            "metadata": {},
            "outputs": [],
            "source": [
                "model = LinearModel() + GaussianModel(prefix=\"p0_\") + GaussianModel(prefix=\"p1_\")\n",
                "model.make_params()"
            ]
        },
        {
            "cell_type": "raw",
            "metadata": {
                "editable": true,
                "raw_mimetype": "text/restructuredtext",
                "slideshow": {
                    "slide_type": ""
                },
                "tags": [],
                "vscode": {
                    "languageId": "raw"
                }
            },
            "source": [
                "For more information, see the `lmfit documentation\n",
                "<https://lmfit.github.io/lmfit-py/fitting.html>`_.\n",
                "\n",
                "Fitting with pre-defined models\n",
                "-------------------------------\n",
                "\n",
                "Creating composite models with different prefixes every time can be cumbersome, so\n",
                "ERLabPy provides some pre-defined models in :mod:`erlab.analysis.fit.models`. One\n",
                "example is :class:`MultiPeakModel <erlab.analysis.fit.models.MultiPeakModel>`, which is\n",
                "a composite model of multiple Gaussian or Lorentzian peaks on a linear background. By\n",
                "supplying keyword arguments, you can specify the number of peaks, their shapes, whether\n",
                "to multiply with a Fermi-Dirac distribution, and whether to convolve the result with\n",
                "experimental resolution."
            ]
        },
        {
            "cell_type": "code",
            "execution_count": null,
            "metadata": {},
            "outputs": [],
            "source": [
                "from erlab.analysis.fit.models import MultiPeakModel\n",
                "\n",
                "model = MultiPeakModel(npeaks=1, peak_shapes=[\"gaussian\"], fd=False, convolve=False)\n",
                "params = model.make_params(p0_center=5.0, p0_width=0.2, p0_height=3.0)\n",
                "params"
            ]
        },
        {
            "cell_type": "code",
            "execution_count": null,
            "metadata": {},
            "outputs": [],
            "source": [
                "result = model.fit(y, x=x, params=params, weights=1 / yerr)\n",
                "_ = result.plot()"
            ]
        },
        {
            "cell_type": "markdown",
            "metadata": {},
            "source": [
                "We can also plot components."
            ]
        },
        {
            "cell_type": "code",
            "execution_count": null,
            "metadata": {},
            "outputs": [],
            "source": [
                "comps = result.eval_components()\n",
                "plt.errorbar(x, y, yerr, fmt=\"o\", zorder=-1, alpha=0.3)\n",
                "plt.plot(x, result.eval(), label=\"Best fit\")\n",
                "plt.plot(x, comps[\"1Peak_p0\"], \"--\", label=\"Peak\")\n",
                "plt.plot(x, comps[\"1Peak_bkg\"], \"--\", label=\"Background\")\n",
                "plt.legend()"
            ]
        },
        {
            "cell_type": "markdown",
            "metadata": {},
            "source": [
                "Now, let us try fitting MDCs cut from simulated data with multiple Lorentzian peaks, convolved with a common instrumental resolution."
            ]
        },
        {
            "cell_type": "code",
            "execution_count": null,
            "metadata": {},
            "outputs": [],
            "source": [
                "data = generate_data(bandshift=-0.2, count=30).T\n",
                "cut = data.qsel(ky=0.3)\n",
                "cut.qplot(colorbar=True)"
            ]
        },
        {
            "cell_type": "code",
            "execution_count": null,
            "metadata": {},
            "outputs": [],
            "source": [
                "mdc = cut.qsel(eV=0.0)\n",
                "mdc.plot()"
            ]
        },
        {
            "cell_type": "markdown",
            "metadata": {},
            "source": [
                "First, we define the model and set the initial parameters."
            ]
        },
        {
            "cell_type": "code",
            "execution_count": null,
            "metadata": {},
            "outputs": [],
            "source": [
                "from erlab.analysis.fit.models import MultiPeakModel\n",
                "\n",
                "model = MultiPeakModel(npeaks=4, peak_shapes=[\"lorentzian\"], fd=False, convolve=True)\n",
                "\n",
                "params = model.make_params(\n",
                "    p0_center=-0.59,\n",
                "    p1_center=-0.45,\n",
                "    p2_center=0.45,\n",
                "    p3_center=0.6,\n",
                "    p0_width=0.02,\n",
                "    p1_width=0.02,\n",
                "    p2_width=0.02,\n",
                "    p3_width=0.02,\n",
                "    lin_bkg=dict(value=0.0, vary=False),\n",
                "    const_bkg=0.0,\n",
                "    resolution=0.03,\n",
                ")\n",
                "params"
            ]
        },
        {
            "cell_type": "markdown",
            "metadata": {},
            "source": [
                "Then, we can fit the model to the data:"
            ]
        },
        {
            "cell_type": "code",
            "execution_count": null,
            "metadata": {},
            "outputs": [],
            "source": [
                "result = model.fit(mdc, x=mdc.kx, params=params)\n",
                "result.plot()\n",
                "result"
            ]
        },
        {
            "cell_type": "raw",
            "metadata": {
                "editable": true,
                "raw_mimetype": "text/restructuredtext",
                "slideshow": {
                    "slide_type": ""
                },
                "tags": [],
                "vscode": {
                    "languageId": "raw"
                }
            },
            "source": [
                "Using iminuit\n",
                "-------------\n",
                "\n",
                "ERLabPy provides a thin wrapper around :class:`iminuit.Minuit` that allows you to use\n",
                "lmfit models with iminuit. The example below conducts the same fit as the previous one,\n",
                "but using iminuit."
            ]
        },
        {
            "cell_type": "code",
            "execution_count": null,
            "metadata": {},
            "outputs": [],
            "source": [
                "from erlab.analysis.fit.minuit import Minuit\n",
                "from erlab.analysis.fit.models import MultiPeakModel\n",
                "\n",
                "model = MultiPeakModel(npeaks=4, peak_shapes=[\"lorentzian\"], fd=False, convolve=True)\n",
                "\n",
                "m = Minuit.from_lmfit(\n",
                "    model,\n",
                "    mdc,\n",
                "    mdc.kx,\n",
                "    p0_center=-0.59,\n",
                "    p1_center=-0.45,\n",
                "    p2_center=0.45,\n",
                "    p3_center=0.6,\n",
                "    p0_width=0.02,\n",
                "    p1_width=0.02,\n",
                "    p2_width=0.02,\n",
                "    p3_width=0.02,\n",
                "    p0_height=1500,\n",
                "    p1_height=50,\n",
                "    p2_height=50,\n",
                "    p3_height=1500,\n",
                "    lin_bkg=dict(value=0.0, vary=False),\n",
                "    const_bkg=0.0,\n",
                "    resolution=0.03,\n",
                ")\n",
                "\n",
                "m.migrad()\n",
                "m.minos()\n",
                "m.hesse()"
            ]
        },
        {
            "cell_type": "raw",
            "metadata": {
                "editable": true,
                "raw_mimetype": "text/restructuredtext",
                "slideshow": {
                    "slide_type": ""
                },
                "tags": [],
                "vscode": {
                    "languageId": "raw"
                }
            },
            "source": [
                "You can also use the `interactive fitting interface\n",
                "<https://scikit-hep.org/iminuit/notebooks/interactive.html>`_ provided by iminuit.\n",
                "\n",
                ".. note::\n",
                "\n",
                "    - Requires `ipywidgets <https://github.com/jupyter-widgets/ipywidgets>`_ to be installed.\n",
                "    - If you are viewing this documentation online, changing the sliders won’t change the plot. run the code locally to try it out.\n"
            ]
        },
        {
            "cell_type": "raw",
            "metadata": {
                "vscode": {
                    "languageId": "raw"
                }
            },
            "source": []
        },
        {
            "cell_type": "code",
            "execution_count": null,
            "metadata": {
                "notebookRunGroups": {
                    "groupValue": ""
                }
            },
            "outputs": [],
            "source": [
                "m.interactive()"
            ]
        },
        {
            "cell_type": "raw",
            "metadata": {
                "editable": true,
                "raw_mimetype": "text/restructuredtext",
                "slideshow": {
                    "slide_type": ""
                },
                "tags": [],
                "vscode": {
                    "languageId": "raw"
                }
            },
            "source": [
                "Fermi edge fitting\n",
                "------------------\n",
                "\n",
                "Functions related to Fermi edge fitting are available in :mod:`erlab.analysis.gold`.\n",
                "\n",
                "Also check out the interactive Fermi edge fitting tool,\n",
                ":func:`erlab.interactive.goldtool`.\n"
            ]
        },
        {
            "cell_type": "raw",
            "metadata": {
                "editable": true,
                "raw_mimetype": "text/restructuredtext",
                "slideshow": {
                    "slide_type": ""
                },
                "tags": [],
                "vscode": {
                    "languageId": "raw"
                }
            },
            "source": []
        },
        {
            "cell_type": "raw",
            "metadata": {
                "editable": true,
                "raw_mimetype": "text/restructuredtext",
                "slideshow": {
                    "slide_type": ""
                },
                "tags": [],
                "vscode": {
                    "languageId": "raw"
                }
            },
            "source": []
        },
        {
            "cell_type": "raw",
            "metadata": {
                "editable": true,
                "raw_mimetype": "text/restructuredtext",
                "slideshow": {
                    "slide_type": ""
                },
                "tags": [],
                "vscode": {
                    "languageId": "raw"
                }
            },
            "source": []
        }
    ],
    "metadata": {
        "kernelspec": {
            "display_name": "Python 3 (ipykernel)",
            "language": "python",
            "name": "python3"
        },
        "language_info": {
            "codemirror_mode": {
                "name": "ipython",
                "version": 3
            },
            "file_extension": ".py",
            "mimetype": "text/x-python",
            "name": "python",
            "nbconvert_exporter": "python",
            "pygments_lexer": "ipython3",
            "version": "3.11.8"
        }
    },
    "nbformat": 4,
    "nbformat_minor": 4
}
