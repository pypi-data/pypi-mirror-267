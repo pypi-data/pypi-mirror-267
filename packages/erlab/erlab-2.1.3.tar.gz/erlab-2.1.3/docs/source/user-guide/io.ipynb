{
    "cells": [
        {
            "cell_type": "raw",
            "metadata": {
                "editable": true,
                "raw_mimetype": "text/restructuredtext",
                "slideshow": {
                    "slide_type": ""
                },
                "tags": [],
                "vscode": {
                    "languageId": "raw"
                }
            },
            "source": [
                "Reading and writing data\n",
                "========================\n",
                "\n",
                "In ERLabPy, most data are represented as :class:`xarray.Dataset` objects or\n",
                ":class:`xarray.DataArray` objects. :class:`xarray.DataArray` are similar to waves in\n",
                "igor pro, but are much more flexible. Apposed to the maximum of 4 dimensions in igor\n",
                "pro, :class:`xarray.DataArray` can have as many dimensions as you want (up to 64).\n",
                "Another advantage is that the coordinates of the dimensions do not have to be evenly\n",
                "spaced. In fact, they are not limited to numbers, but can be any type of data, such as\n",
                "date and time representations.\n",
                "\n",
                "This guide will introduce you to reading and writing data from and to various file\n",
                "formats, and how to implement a custom reader for a experimental setup.\n",
                "\n",
                "Skip to the `corresponding section <#Loading-ARPES-data>`_ for guides on loading ARPES\n",
                "data.\n",
                "\n",
                "From Igor Pro\n",
                "-------------\n",
                "\n",
                ".. warning::\n",
                "\n",
                "   Loading waves from complex ``.pxp`` files may fail or produce unexpected results. It\n",
                "   is recommended to export the waves to a ``.ibw`` file to load them in ERLabPy. If you\n",
                "   encounter any problems, please let us know by opening an issue.\n",
                "\n",
                "\n",
                "ERLabPy can read ``.ibw``, ``.pxt``, ``.pxp``, and HDF5 files exported from Igor Pro by\n",
                "using the following functions in :mod:`erlab.io.igor`:\n",
                "\n",
                ".. list-table::\n",
                "   :widths: 50 50\n",
                "   :header-rows: 1\n",
                "\n",
                "   * - File extension\n",
                "     - Function\n",
                "   * - ``.ibw``\n",
                "     - :func:`erlab.io.igor.load_wave`\n",
                "   * - ``.pxt``, ``.pxp``\n",
                "     - :func:`erlab.io.igor.load_experiment`\n",
                "   * - ``.h5``\n",
                "     - :func:`erlab.io.igor.load_igor_hdf5`\n",
                "\n",
                "For easy access, the first two functions are also available in the :mod:`erlab.io`\n",
                "namespace.\n",
                "\n",
                ".. Note::\n",
                "   \n",
                "   Internally, the `igor2 <https://github.com/AFM-analysis/igor2>`_ package is used to\n",
                "   read the data."
            ]
        },
        {
            "cell_type": "raw",
            "metadata": {
                "editable": true,
                "raw_mimetype": "text/restructuredtext",
                "slideshow": {
                    "slide_type": ""
                },
                "tags": [],
                "vscode": {
                    "languageId": "raw"
                }
            },
            "source": [
                "From arbitrary formats\n",
                "----------------------\n",
                "\n",
                "Spreadsheet data can be read using :func:`pandas.read_csv` or :func:`pandas.read_excel`.\n",
                "The resulting DataFrame can be converted to an xarray object using\n",
                ":meth:`pandas.DataFrame.to_xarray` or :meth:`xarray.Dataset.from_dataframe`.\n",
                "\n",
                "For reading HDF5 files with arbitrary groups and metadata, explore each group using\n",
                "`h5netcdf <https://h5netcdf.org/>`_. Loading into an xarray object can be done using\n",
                ":func:`xarray.open_dataset` or :func:`xarray.open_mfdataset` by supplying the ``group``\n",
                "argument. For an example that handles complex HDF5 groups, see the implementation of\n",
                ":meth:`erlab.io.plugins.ssrl52.SSRL52Loader.load_single`.\n",
                "\n",
                "FITS files can be read with `astropy\n",
                "<https://docs.astropy.org/en/stable/io/fits/index.html>`_."
            ]
        },
        {
            "cell_type": "raw",
            "metadata": {
                "editable": true,
                "raw_mimetype": "text/restructuredtext",
                "slideshow": {
                    "slide_type": ""
                },
                "tags": [],
                "vscode": {
                    "languageId": "raw"
                }
            },
            "source": [
                "Writing data\n",
                "------------\n",
                "\n",
                "Since the state and variables of a Python interpreter are not saved, it is important to\n",
                "save your data in a format that can be easily read and written.\n",
                "\n",
                "While it is possible to save and load entire Python interpreter sessions using `pickle`\n",
                "or the more versatile `dill <https://github.com/uqfoundation/dill>`_, it is out of the\n",
                "scope of this guide. Instead, we recommend saving your data in a format that is easy to\n",
                "read and write, such as HDF5 or NetCDF. These formats are supported by many programming\n",
                "languages and are optimized for fast read and write operations.\n",
                "\n",
                "To save and load :mod:`xarray` objects, see the :mod:`xarray` documentation on `I/O\n",
                "operations <https://docs.xarray.dev/en/stable/user-guide/io.html>`_. ERLabPy offers\n",
                "convenience functions :func:`load_hdf5 <erlab.io.load_hdf5>` and :func:`save_as_hdf5\n",
                "<erlab.io.save_as_hdf5>` for loading and saving xarray objects from and to HDF5 files.\n",
                "\n",
                ".. note::\n",
                "\n",
                "   As an experimental feature, :func:`save_as_hdf5 <erlab.io.save_as_hdf5>` can save\n",
                "   certain :class:`xarray.DataArray`\\ s in a format that is compatible with the Igor Pro\n",
                "   HDF5 loader. An `accompanying Igor procedure\n",
                "   <https://github.com/kmnhan/erlabpy/blob/main/PythonInterface.ipf>`_ is available in\n",
                "   the repository. If loading in Igor Pro fails, try saving again with all attributes\n",
                "   removed.\n",
                "\n"
            ]
        },
        {
            "cell_type": "raw",
            "metadata": {
                "editable": true,
                "raw_mimetype": "text/restructuredtext",
                "slideshow": {
                    "slide_type": ""
                },
                "tags": [],
                "vscode": {
                    "languageId": "raw"
                }
            },
            "source": [
                "Loading ARPES data\n",
                "------------------\n",
                "\n",
                "ERLabPy's data loading framework consists of various plugins, or *loaders*, each\n",
                "designed to load data from a different beamline or laboratory. Each loader is a class\n",
                "that has a ``load`` method that takes a file path or sequence number as input and\n",
                "returns the corresponding data.\n",
                "\n",
                "Let's see the list of loaders available by default:"
            ]
        },
        {
            "cell_type": "code",
            "execution_count": 1,
            "metadata": {
                "editable": true,
                "notebookRunGroups": {
                    "groupValue": ""
                },
                "slideshow": {
                    "slide_type": ""
                },
                "tags": []
            },
            "outputs": [
                {
                    "data": {
                        "text/html": [
                            "<table><thead><tr><th style='text-align:left;'><b>Name</b></th><th style='text-align:left;'><b>Aliases</b></th><th style='text-align:left;'><b>Loader class</b></th></tr></thead><tbody><tr><td style='text-align:left;'>kriss</td><td style='text-align:left;'>KRISS</td><td style='text-align:left;'>erlab.io.plugins.kriss.KRISSLoader</td></tr><tr><td style='text-align:left;'>merlin</td><td style='text-align:left;'>ALS_BL4, als_bl4, BL403, bl403</td><td style='text-align:left;'>erlab.io.plugins.merlin.BL403Loader</td></tr><tr><td style='text-align:left;'>ssrl</td><td style='text-align:left;'>ssrl52, bl5-2</td><td style='text-align:left;'>erlab.io.plugins.ssrl52.SSRL52Loader</td></tr></tbody></table>"
                        ],
                        "text/plain": [
                            "Registered data loaders\n",
                            "=======================\n",
                            "\n",
                            "Loaders\n",
                            "-------\n",
                            "kriss: <class 'erlab.io.plugins.kriss.KRISSLoader'>\n",
                            "merlin: <erlab.io.plugins.merlin.BL403Loader object at 0x126251210>\n",
                            "ssrl: <erlab.io.plugins.ssrl52.SSRL52Loader object at 0x125ef46d0>\n",
                            "\n",
                            "Aliases\n",
                            "-------\n",
                            "kriss: ['KRISS']\n",
                            "merlin: ['ALS_BL4', 'als_bl4', 'BL403', 'bl403']\n",
                            "ssrl: ['ssrl52', 'bl5-2']"
                        ]
                    },
                    "execution_count": 1,
                    "metadata": {},
                    "output_type": "execute_result"
                }
            ],
            "source": [
                "import erlab.io\n",
                "\n",
                "erlab.io.loaders"
            ]
        },
        {
            "cell_type": "raw",
            "metadata": {
                "editable": true,
                "raw_mimetype": "text/restructuredtext",
                "slideshow": {
                    "slide_type": ""
                },
                "tags": [],
                "vscode": {
                    "languageId": "raw"
                }
            },
            "source": [
                "You can access each loader by its name or alias, both as an attribute or an item. For\n",
                "example, to access the loader for the ALS beamline 4.0.3, you can use any of the\n",
                "following:"
            ]
        },
        {
            "cell_type": "code",
            "execution_count": 2,
            "metadata": {
                "notebookRunGroups": {
                    "groupValue": ""
                }
            },
            "outputs": [
                {
                    "data": {
                        "text/plain": [
                            "<erlab.io.plugins.merlin.BL403Loader at 0x126251210>"
                        ]
                    },
                    "execution_count": 2,
                    "metadata": {},
                    "output_type": "execute_result"
                }
            ],
            "source": [
                "erlab.io.loaders[\"merlin\"]\n",
                "erlab.io.loaders[\"bl403\"]\n",
                "erlab.io.loaders.merlin\n",
                "erlab.io.loaders.bl403"
            ]
        },
        {
            "cell_type": "raw",
            "metadata": {
                "editable": true,
                "raw_mimetype": "text/restructuredtext",
                "slideshow": {
                    "slide_type": ""
                },
                "tags": [],
                "vscode": {
                    "languageId": "raw"
                }
            },
            "source": [
                "Data loading is done by calling the :meth:`load <erlab.io.dataloader.LoaderBase.load>`\n",
                "method of the loader. It requires an ``identifier`` parameter, which can be a path to a\n",
                "file or a sequence number. :meth:`load <erlab.io.dataloader.LoaderBase.load>` also\n",
                "accepts a ``data_dir`` parameter, which specifies the directory where the data is\n",
                "stored.\n",
                "\n",
                "If the ``identifier`` is a sequence number, ``data_dir`` is mandatory. If ``identifier``\n",
                "is a file path, the full path is constructed by joining the ``data_dir`` and the\n",
                "``identifier``. If ``data_dir`` is not provided, the given ``identifier`` is treated as\n",
                "a full path.\n",
                "\n",
                "Suppose we have data from the ALS beamline 4.0.3 stored as ``f_001.pxt``, ``f_002.pxt``,\n",
                "etc. under the directory ``/path/to/data``. To load the data from ``f_001.pxt``, all of\n",
                "the following will work:\n",
                "\n",
                ".. code-block:: python\n",
                "\n",
                "   erlab.io.loaders[\"merlin\"].load(\"/path/to/data/f_001.pxt\")\n",
                "   erlab.io.loaders[\"merlin\"].load(\"f_001.pxt\", \"/path/to/data\")\n",
                "   erlab.io.loaders[\"merlin\"].load(1, \"/path/to/data\")\n",
                "\n",
                "Setting the default loader and data directory\n",
                "~~~~~~~~~~~~~~~~~~~~~~~~~~~~~~~~~~~~~~~~~~~~~\n",
                "\n",
                "In practice, a loader and a single directory will be used repeatedly in a session to\n",
                "load different data from the same experiment.\n",
                "\n",
                "Instead of explicitly specifying the loader and directory each time, the default loader\n",
                "and data directory can be set with :func:`erlab.io.set_loader` and\n",
                ":func:`erlab.io.set_data_dir`. This way, the loader and data directory only needs to be\n",
                "set once at the beginning of the session, and all subsequent calls to\n",
                ":func:`erlab.io.load` will use the same loader and data directory.\n",
                "\n",
                ".. code-block:: python\n",
                "\n",
                "   erlab.io.set_loader(\"merlin\")\n",
                "   erlab.io.set_data_dir(\"/path/to/data\")\n",
                "   data_1 = erlab.io.load(1)\n",
                "   data_2 = erlab.io.load(2)\n",
                "\n",
                "The loader and data directory can also be controlled with a `context manager\n",
                "<https://www.google.com/search?q=python+context+manager>`_:\n",
                "\n",
                ".. code-block:: python\n",
                "\n",
                "   with erlab.io.loader_context(\"merlin\", data_dir=\"/path/to/data\"):\n",
                "       data_1 = erlab.io.load(1)\n",
                "\n",
                "Data with multiple files\n",
                "~~~~~~~~~~~~~~~~~~~~~~~~\n",
                "\n",
                "For some setups like the ALS beamline 4.0.3, some scans are stored over multiple files,\n",
                "like ``f_003_S001.pxt``, ``f_003_S002.pxt``, and so on. In this case, the loader will\n",
                "automatically combine all files that belong to the same scan. For example, all of the\n",
                "following will return the same concatenated data:\n",
                "\n",
                ".. code-block:: python\n",
                "\n",
                "   erlab.io.load(3)\n",
                "   erlab.io.load(\"f_003_S001.pxt\")\n",
                "   erlab.io.load(\"f_003_S002.pxt\")\n",
                "\n",
                "If you want to load only a single file from a multiple file scan, you can pass the\n",
                "``single`` parameter to :meth:`load <erlab.io.dataloader.LoaderBase.load>`. For example,\n",
                "to load only the first file of scan #3:\n",
                "\n",
                ".. code-block:: python\n",
                "\n",
                "   erlab.io.load(\"f_003_S001.pxt\", single=True)\n",
                "\n",
                "Handling multiple data directories\n",
                "~~~~~~~~~~~~~~~~~~~~~~~~~~~~~~~~~~\n",
                "   \n",
                "If you have multiple calls to :func:`erlab.io.set_loader` or\n",
                ":func:`erlab.io.set_data_dir`, the last call will override the previous ones. While this\n",
                "is useful for changing the loader or data directory, it makes data loading dependent on\n",
                "execution order which may lead to unexpected behavior. If you plan to use multiple\n",
                "loaders or data directories in the same session, it is recommended to use the context\n",
                "manager interface or define several functions that set the loader and data directory and\n",
                "call :func:`erlab.io.load` with the appropriate arguments.\n",
                "\n",
                "Summarizing data\n",
                "~~~~~~~~~~~~~~~~\n",
                "\n",
                "Some loaders implement :meth:`summarize <erlab.io.dataloader.LoaderBase.summarize>`,\n",
                "which provides a summary of the data available in the directory. This can be useful for\n",
                "quickly skimming through the data. For example, to display a summary of the data\n",
                "available in the directory ``/path/to/data`` using the ALS Beamline 4.0.3 loader:"
            ]
        },
        {
            "cell_type": "raw",
            "metadata": {
                "editable": true,
                "raw_mimetype": "text/restructuredtext",
                "slideshow": {
                    "slide_type": ""
                },
                "tags": [],
                "vscode": {
                    "languageId": "raw"
                }
            },
            "source": []
        },
        {
            "cell_type": "raw",
            "metadata": {
                "editable": true,
                "raw_mimetype": "text/restructuredtext",
                "slideshow": {
                    "slide_type": ""
                },
                "tags": [],
                "vscode": {
                    "languageId": "raw"
                }
            },
            "source": []
        },
        {
            "cell_type": "raw",
            "metadata": {
                "editable": true,
                "raw_mimetype": "text/restructuredtext",
                "slideshow": {
                    "slide_type": ""
                },
                "tags": [],
                "vscode": {
                    "languageId": "raw"
                }
            },
            "source": []
        },
        {
            "cell_type": "code",
            "execution_count": 3,
            "metadata": {
                "notebookRunGroups": {
                    "groupValue": ""
                }
            },
            "outputs": [
                {
                    "data": {
                        "text/html": [
                            "<style type=\"text/css\">\n",
                            "</style>\n",
                            "<table id=\"T_937ab\">\n",
                            "  <thead>\n",
                            "    <tr>\n",
                            "      <th class=\"blank level0\" >&nbsp;</th>\n",
                            "      <th id=\"T_937ab_level0_col1\" class=\"col_heading level0 col1\" >Type</th>\n",
                            "      <th id=\"T_937ab_level0_col2\" class=\"col_heading level0 col2\" >Lens Mode</th>\n",
                            "      <th id=\"T_937ab_level0_col3\" class=\"col_heading level0 col3\" >Scan Type</th>\n",
                            "      <th id=\"T_937ab_level0_col4\" class=\"col_heading level0 col4\" >T(K)</th>\n",
                            "      <th id=\"T_937ab_level0_col5\" class=\"col_heading level0 col5\" >Pass E</th>\n",
                            "      <th id=\"T_937ab_level0_col6\" class=\"col_heading level0 col6\" >Analyzer Slit</th>\n",
                            "      <th id=\"T_937ab_level0_col7\" class=\"col_heading level0 col7\" >Polarization</th>\n",
                            "      <th id=\"T_937ab_level0_col8\" class=\"col_heading level0 col8\" >hv</th>\n",
                            "      <th id=\"T_937ab_level0_col9\" class=\"col_heading level0 col9\" >Entrance Slit</th>\n",
                            "      <th id=\"T_937ab_level0_col10\" class=\"col_heading level0 col10\" >Exit Slit</th>\n",
                            "      <th id=\"T_937ab_level0_col11\" class=\"col_heading level0 col11\" >x</th>\n",
                            "      <th id=\"T_937ab_level0_col12\" class=\"col_heading level0 col12\" >y</th>\n",
                            "      <th id=\"T_937ab_level0_col13\" class=\"col_heading level0 col13\" >z</th>\n",
                            "      <th id=\"T_937ab_level0_col14\" class=\"col_heading level0 col14\" >polar</th>\n",
                            "      <th id=\"T_937ab_level0_col15\" class=\"col_heading level0 col15\" >tilt</th>\n",
                            "      <th id=\"T_937ab_level0_col16\" class=\"col_heading level0 col16\" >azi</th>\n",
                            "    </tr>\n",
                            "    <tr>\n",
                            "      <th class=\"index_name level0\" >File Name</th>\n",
                            "      <th class=\"blank col1\" >&nbsp;</th>\n",
                            "      <th class=\"blank col2\" >&nbsp;</th>\n",
                            "      <th class=\"blank col3\" >&nbsp;</th>\n",
                            "      <th class=\"blank col4\" >&nbsp;</th>\n",
                            "      <th class=\"blank col5\" >&nbsp;</th>\n",
                            "      <th class=\"blank col6\" >&nbsp;</th>\n",
                            "      <th class=\"blank col7\" >&nbsp;</th>\n",
                            "      <th class=\"blank col8\" >&nbsp;</th>\n",
                            "      <th class=\"blank col9\" >&nbsp;</th>\n",
                            "      <th class=\"blank col10\" >&nbsp;</th>\n",
                            "      <th class=\"blank col11\" >&nbsp;</th>\n",
                            "      <th class=\"blank col12\" >&nbsp;</th>\n",
                            "      <th class=\"blank col13\" >&nbsp;</th>\n",
                            "      <th class=\"blank col14\" >&nbsp;</th>\n",
                            "      <th class=\"blank col15\" >&nbsp;</th>\n",
                            "      <th class=\"blank col16\" >&nbsp;</th>\n",
                            "    </tr>\n",
                            "  </thead>\n",
                            "  <tbody>\n",
                            "    <tr>\n",
                            "      <th id=\"T_937ab_level0_row0\" class=\"row_heading level0 row0\" >lxy_1</th>\n",
                            "      <td id=\"T_937ab_row0_col1\" class=\"data row0 col1\" >LXY</td>\n",
                            "      <td id=\"T_937ab_row0_col2\" class=\"data row0 col2\" >A30</td>\n",
                            "      <td id=\"T_937ab_row0_col3\" class=\"data row0 col3\" >Dither</td>\n",
                            "      <td id=\"T_937ab_row0_col4\" class=\"data row0 col4\" >10.62</td>\n",
                            "      <td id=\"T_937ab_row0_col5\" class=\"data row0 col5\" >20</td>\n",
                            "      <td id=\"T_937ab_row0_col6\" class=\"data row0 col6\" >7</td>\n",
                            "      <td id=\"T_937ab_row0_col7\" class=\"data row0 col7\" >LH</td>\n",
                            "      <td id=\"T_937ab_row0_col8\" class=\"data row0 col8\" >111</td>\n",
                            "      <td id=\"T_937ab_row0_col9\" class=\"data row0 col9\" >90</td>\n",
                            "      <td id=\"T_937ab_row0_col10\" class=\"data row0 col10\" >90</td>\n",
                            "      <td id=\"T_937ab_row0_col11\" class=\"data row0 col11\" >−0.4823→1.1677 (0.05)</td>\n",
                            "      <td id=\"T_937ab_row0_col12\" class=\"data row0 col12\" >0.45→1.5 (0.05)</td>\n",
                            "      <td id=\"T_937ab_row0_col13\" class=\"data row0 col13\" >−1.276</td>\n",
                            "      <td id=\"T_937ab_row0_col14\" class=\"data row0 col14\" >−7.352</td>\n",
                            "      <td id=\"T_937ab_row0_col15\" class=\"data row0 col15\" >−2</td>\n",
                            "      <td id=\"T_937ab_row0_col16\" class=\"data row0 col16\" >32.501</td>\n",
                            "    </tr>\n",
                            "    <tr>\n",
                            "      <th id=\"T_937ab_level0_row1\" class=\"row_heading level0 row1\" >f_001</th>\n",
                            "      <td id=\"T_937ab_row1_col1\" class=\"data row1 col1\" >cut</td>\n",
                            "      <td id=\"T_937ab_row1_col2\" class=\"data row1 col2\" >A30</td>\n",
                            "      <td id=\"T_937ab_row1_col3\" class=\"data row1 col3\" >Dither</td>\n",
                            "      <td id=\"T_937ab_row1_col4\" class=\"data row1 col4\" >10.71</td>\n",
                            "      <td id=\"T_937ab_row1_col5\" class=\"data row1 col5\" >20</td>\n",
                            "      <td id=\"T_937ab_row1_col6\" class=\"data row1 col6\" >7</td>\n",
                            "      <td id=\"T_937ab_row1_col7\" class=\"data row1 col7\" >LH</td>\n",
                            "      <td id=\"T_937ab_row1_col8\" class=\"data row1 col8\" >111</td>\n",
                            "      <td id=\"T_937ab_row1_col9\" class=\"data row1 col9\" >90</td>\n",
                            "      <td id=\"T_937ab_row1_col10\" class=\"data row1 col10\" >90</td>\n",
                            "      <td id=\"T_937ab_row1_col11\" class=\"data row1 col11\" >0.589</td>\n",
                            "      <td id=\"T_937ab_row1_col12\" class=\"data row1 col12\" >1.13</td>\n",
                            "      <td id=\"T_937ab_row1_col13\" class=\"data row1 col13\" >−1.276</td>\n",
                            "      <td id=\"T_937ab_row1_col14\" class=\"data row1 col14\" >−7.352</td>\n",
                            "      <td id=\"T_937ab_row1_col15\" class=\"data row1 col15\" >−2</td>\n",
                            "      <td id=\"T_937ab_row1_col16\" class=\"data row1 col16\" >32.501</td>\n",
                            "    </tr>\n",
                            "    <tr>\n",
                            "      <th id=\"T_937ab_level0_row2\" class=\"row_heading level0 row2\" >f_002</th>\n",
                            "      <td id=\"T_937ab_row2_col1\" class=\"data row2 col1\" >cut</td>\n",
                            "      <td id=\"T_937ab_row2_col2\" class=\"data row2 col2\" >A30</td>\n",
                            "      <td id=\"T_937ab_row2_col3\" class=\"data row2 col3\" >Dither</td>\n",
                            "      <td id=\"T_937ab_row2_col4\" class=\"data row2 col4\" >10.78</td>\n",
                            "      <td id=\"T_937ab_row2_col5\" class=\"data row2 col5\" >20</td>\n",
                            "      <td id=\"T_937ab_row2_col6\" class=\"data row2 col6\" >7</td>\n",
                            "      <td id=\"T_937ab_row2_col7\" class=\"data row2 col7\" >LH</td>\n",
                            "      <td id=\"T_937ab_row2_col8\" class=\"data row2 col8\" >111</td>\n",
                            "      <td id=\"T_937ab_row2_col9\" class=\"data row2 col9\" >90</td>\n",
                            "      <td id=\"T_937ab_row2_col10\" class=\"data row2 col10\" >90</td>\n",
                            "      <td id=\"T_937ab_row2_col11\" class=\"data row2 col11\" >0.354</td>\n",
                            "      <td id=\"T_937ab_row2_col12\" class=\"data row2 col12\" >1.174</td>\n",
                            "      <td id=\"T_937ab_row2_col13\" class=\"data row2 col13\" >−1.276</td>\n",
                            "      <td id=\"T_937ab_row2_col14\" class=\"data row2 col14\" >−7.352</td>\n",
                            "      <td id=\"T_937ab_row2_col15\" class=\"data row2 col15\" >−2</td>\n",
                            "      <td id=\"T_937ab_row2_col16\" class=\"data row2 col16\" >32.501</td>\n",
                            "    </tr>\n",
                            "    <tr>\n",
                            "      <th id=\"T_937ab_level0_row3\" class=\"row_heading level0 row3\" >f_003</th>\n",
                            "      <td id=\"T_937ab_row3_col1\" class=\"data row3 col1\" >cut</td>\n",
                            "      <td id=\"T_937ab_row3_col2\" class=\"data row3 col2\" >A30</td>\n",
                            "      <td id=\"T_937ab_row3_col3\" class=\"data row3 col3\" >Dither</td>\n",
                            "      <td id=\"T_937ab_row3_col4\" class=\"data row3 col4\" >10.79</td>\n",
                            "      <td id=\"T_937ab_row3_col5\" class=\"data row3 col5\" >20</td>\n",
                            "      <td id=\"T_937ab_row3_col6\" class=\"data row3 col6\" >6.9</td>\n",
                            "      <td id=\"T_937ab_row3_col7\" class=\"data row3 col7\" >LH</td>\n",
                            "      <td id=\"T_937ab_row3_col8\" class=\"data row3 col8\" >111</td>\n",
                            "      <td id=\"T_937ab_row3_col9\" class=\"data row3 col9\" >90</td>\n",
                            "      <td id=\"T_937ab_row3_col10\" class=\"data row3 col10\" >90</td>\n",
                            "      <td id=\"T_937ab_row3_col11\" class=\"data row3 col11\" >0.801</td>\n",
                            "      <td id=\"T_937ab_row3_col12\" class=\"data row3 col12\" >1.093</td>\n",
                            "      <td id=\"T_937ab_row3_col13\" class=\"data row3 col13\" >−1.256</td>\n",
                            "      <td id=\"T_937ab_row3_col14\" class=\"data row3 col14\" >−7.352</td>\n",
                            "      <td id=\"T_937ab_row3_col15\" class=\"data row3 col15\" >−2</td>\n",
                            "      <td id=\"T_937ab_row3_col16\" class=\"data row3 col16\" >32.501</td>\n",
                            "    </tr>\n",
                            "    <tr>\n",
                            "      <th id=\"T_937ab_level0_row4\" class=\"row_heading level0 row4\" >f_004</th>\n",
                            "      <td id=\"T_937ab_row4_col1\" class=\"data row4 col1\" >cut</td>\n",
                            "      <td id=\"T_937ab_row4_col2\" class=\"data row4 col2\" >A30</td>\n",
                            "      <td id=\"T_937ab_row4_col3\" class=\"data row4 col3\" >Dither</td>\n",
                            "      <td id=\"T_937ab_row4_col4\" class=\"data row4 col4\" >10.83</td>\n",
                            "      <td id=\"T_937ab_row4_col5\" class=\"data row4 col5\" >20</td>\n",
                            "      <td id=\"T_937ab_row4_col6\" class=\"data row4 col6\" >7</td>\n",
                            "      <td id=\"T_937ab_row4_col7\" class=\"data row4 col7\" >LH</td>\n",
                            "      <td id=\"T_937ab_row4_col8\" class=\"data row4 col8\" >111</td>\n",
                            "      <td id=\"T_937ab_row4_col9\" class=\"data row4 col9\" >90</td>\n",
                            "      <td id=\"T_937ab_row4_col10\" class=\"data row4 col10\" >90</td>\n",
                            "      <td id=\"T_937ab_row4_col11\" class=\"data row4 col11\" >0.387</td>\n",
                            "      <td id=\"T_937ab_row4_col12\" class=\"data row4 col12\" >1.2</td>\n",
                            "      <td id=\"T_937ab_row4_col13\" class=\"data row4 col13\" >−1.336</td>\n",
                            "      <td id=\"T_937ab_row4_col14\" class=\"data row4 col14\" >−7.352</td>\n",
                            "      <td id=\"T_937ab_row4_col15\" class=\"data row4 col15\" >−2</td>\n",
                            "      <td id=\"T_937ab_row4_col16\" class=\"data row4 col16\" >32.501</td>\n",
                            "    </tr>\n",
                            "    <tr>\n",
                            "      <th id=\"T_937ab_level0_row5\" class=\"row_heading level0 row5\" >LP_1</th>\n",
                            "      <td id=\"T_937ab_row5_col1\" class=\"data row5 col1\" >LP</td>\n",
                            "      <td id=\"T_937ab_row5_col2\" class=\"data row5 col2\" >A30</td>\n",
                            "      <td id=\"T_937ab_row5_col3\" class=\"data row5 col3\" >Dither</td>\n",
                            "      <td id=\"T_937ab_row5_col4\" class=\"data row5 col4\" >10.84</td>\n",
                            "      <td id=\"T_937ab_row5_col5\" class=\"data row5 col5\" >20</td>\n",
                            "      <td id=\"T_937ab_row5_col6\" class=\"data row5 col6\" >7</td>\n",
                            "      <td id=\"T_937ab_row5_col7\" class=\"data row5 col7\" >LH</td>\n",
                            "      <td id=\"T_937ab_row5_col8\" class=\"data row5 col8\" >111</td>\n",
                            "      <td id=\"T_937ab_row5_col9\" class=\"data row5 col9\" >90</td>\n",
                            "      <td id=\"T_937ab_row5_col10\" class=\"data row5 col10\" >90</td>\n",
                            "      <td id=\"T_937ab_row5_col11\" class=\"data row5 col11\" >0.387</td>\n",
                            "      <td id=\"T_937ab_row5_col12\" class=\"data row5 col12\" >1.2</td>\n",
                            "      <td id=\"T_937ab_row5_col13\" class=\"data row5 col13\" >−1.336</td>\n",
                            "      <td id=\"T_937ab_row5_col14\" class=\"data row5 col14\" >−15.0466→14.9534 (0.25)</td>\n",
                            "      <td id=\"T_937ab_row5_col15\" class=\"data row5 col15\" >−2</td>\n",
                            "      <td id=\"T_937ab_row5_col16\" class=\"data row5 col16\" >32.501</td>\n",
                            "    </tr>\n",
                            "    <tr>\n",
                            "      <th id=\"T_937ab_level0_row6\" class=\"row_heading level0 row6\" >LP_2</th>\n",
                            "      <td id=\"T_937ab_row6_col1\" class=\"data row6 col1\" >LP</td>\n",
                            "      <td id=\"T_937ab_row6_col2\" class=\"data row6 col2\" >A30</td>\n",
                            "      <td id=\"T_937ab_row6_col3\" class=\"data row6 col3\" >Dither</td>\n",
                            "      <td id=\"T_937ab_row6_col4\" class=\"data row6 col4\" >10.83</td>\n",
                            "      <td id=\"T_937ab_row6_col5\" class=\"data row6 col5\" >20</td>\n",
                            "      <td id=\"T_937ab_row6_col6\" class=\"data row6 col6\" >7</td>\n",
                            "      <td id=\"T_937ab_row6_col7\" class=\"data row6 col7\" >LH</td>\n",
                            "      <td id=\"T_937ab_row6_col8\" class=\"data row6 col8\" >111</td>\n",
                            "      <td id=\"T_937ab_row6_col9\" class=\"data row6 col9\" >90</td>\n",
                            "      <td id=\"T_937ab_row6_col10\" class=\"data row6 col10\" >90</td>\n",
                            "      <td id=\"T_937ab_row6_col11\" class=\"data row6 col11\" >0.387</td>\n",
                            "      <td id=\"T_937ab_row6_col12\" class=\"data row6 col12\" >1.2</td>\n",
                            "      <td id=\"T_937ab_row6_col13\" class=\"data row6 col13\" >−1.336</td>\n",
                            "      <td id=\"T_937ab_row6_col14\" class=\"data row6 col14\" >−15.1186→14.8814 (0.25)</td>\n",
                            "      <td id=\"T_937ab_row6_col15\" class=\"data row6 col15\" >−2</td>\n",
                            "      <td id=\"T_937ab_row6_col16\" class=\"data row6 col16\" >32.501</td>\n",
                            "    </tr>\n",
                            "    <tr>\n",
                            "      <th id=\"T_937ab_level0_row7\" class=\"row_heading level0 row7\" >f_005</th>\n",
                            "      <td id=\"T_937ab_row7_col1\" class=\"data row7 col1\" >map</td>\n",
                            "      <td id=\"T_937ab_row7_col2\" class=\"data row7 col2\" >A30</td>\n",
                            "      <td id=\"T_937ab_row7_col3\" class=\"data row7 col3\" >Dither</td>\n",
                            "      <td id=\"T_937ab_row7_col4\" class=\"data row7 col4\" >10.82</td>\n",
                            "      <td id=\"T_937ab_row7_col5\" class=\"data row7 col5\" >20</td>\n",
                            "      <td id=\"T_937ab_row7_col6\" class=\"data row7 col6\" >7</td>\n",
                            "      <td id=\"T_937ab_row7_col7\" class=\"data row7 col7\" >LH</td>\n",
                            "      <td id=\"T_937ab_row7_col8\" class=\"data row7 col8\" >111</td>\n",
                            "      <td id=\"T_937ab_row7_col9\" class=\"data row7 col9\" >90</td>\n",
                            "      <td id=\"T_937ab_row7_col10\" class=\"data row7 col10\" >90</td>\n",
                            "      <td id=\"T_937ab_row7_col11\" class=\"data row7 col11\" >0.4671±0.0003</td>\n",
                            "      <td id=\"T_937ab_row7_col12\" class=\"data row7 col12\" >1.27</td>\n",
                            "      <td id=\"T_937ab_row7_col13\" class=\"data row7 col13\" >−1.325→−1.22</td>\n",
                            "      <td id=\"T_937ab_row7_col14\" class=\"data row7 col14\" >−15.5→−7.5 (0.25)</td>\n",
                            "      <td id=\"T_937ab_row7_col15\" class=\"data row7 col15\" >−2</td>\n",
                            "      <td id=\"T_937ab_row7_col16\" class=\"data row7 col16\" >32.501</td>\n",
                            "    </tr>\n",
                            "  </tbody>\n",
                            "</table>\n"
                        ],
                        "text/plain": [
                            "<pandas.io.formats.style.Styler at 0x17ad68a10>"
                        ]
                    },
                    "metadata": {},
                    "output_type": "display_data"
                }
            ],
            "source": [
                "erlab.io.set_loader(\"merlin\")\n",
                "erlab.io.set_data_dir(\"/path/to/data\")\n",
                "_ = erlab.io.summarize()"
            ]
        },
        {
            "cell_type": "raw",
            "metadata": {
                "editable": true,
                "raw_mimetype": "text/restructuredtext",
                "slideshow": {
                    "slide_type": ""
                },
                "tags": [],
                "vscode": {
                    "languageId": "raw"
                }
            },
            "source": [
                "Implementing a data loader plugin \n",
                "---------------------------------\n",
                "\n",
                "It is easy to add new loaders to the framework. Any class that subclasses\n",
                ":class:`LoaderBase <erlab.io.dataloader.LoaderBase>` is automatically registered as a\n",
                "loader upon its definition. The class must have a valid ``name`` attribute, which is\n",
                "used to access the loader.\n",
                "\n",
                "If the ``name`` attribute is prefixed with an underscore, the loader is not registered\n",
                "as a loader. This is useful for base classes that are not meant to be used directly.\n",
                "\n",
                "ARPES data from a single experiment are usually stored in one folder, with files that\n",
                "look like ``file_0001.h5``, ``file_0002.h5``, etc. If the naming scheme does not deviate\n",
                "from this pattern, only two methods need to be implemented: :meth:`identify\n",
                "<erlab.io.dataloader.LoaderBase.identify>` and :meth:`load_single\n",
                "<erlab.io.dataloader.LoaderBase.load_single>`. The following flowchart shows the process\n",
                "of loading data from a single scan, given either a file path or a sequence number:\n",
                "\n",
                ".. image:: ../images/flowchart_single.pdf\n",
                "   :align: center\n",
                "   \n",
                "Here, :meth:`identify <erlab.io.dataloader.LoaderBase.identify>` is given an integer\n",
                "sequence number(``identifier``) and the path to the data folder(``data_dir``), and\n",
                "returns the full path to the corresponding data file. \n",
                "\n",
                "The method :meth:`load_single <erlab.io.dataloader.LoaderBase.load_single>` is given a\n",
                "full path to a single data file and must return the data as an :class:`xarray.DataArray`\n",
                "or a :class:`xarray.Dataset`. If the data cannot be combined into a single object, the\n",
                "method can also return a list of :class:`xarray.DataArray` objects.\n",
                "\n",
                "If only all data formats were as simple as this! Unfortunately, there are some setups\n",
                "where data for a single scan is saved over multiple files. In this case, the files will\n",
                "look like ``file_0001_0001.h5``, ``file_0001_0002.h5``, etc. For these kinds of setups,\n",
                "an additional method :meth:`infer_index <erlab.io.dataloader.LoaderBase.infer_index>`\n",
                "must be implemented. The following flowchart shows the process of loading data from\n",
                "multiple files:\n",
                "\n",
                ".. image:: ../images/flowchart_multiple.pdf\n",
                "   :align: center\n",
                "\n",
                "In this case, the method :meth:`identify <erlab.io.dataloader.LoaderBase.identify>`\n",
                "should resolve *all* files that belong to the given sequence number, and return a list\n",
                "of file paths along with a dictionary of corresponding coordinates.\n",
                "\n",
                "The method :meth:`infer_index <erlab.io.dataloader.LoaderBase.infer_index>` is given a\n",
                "bare file name (without the extension and path) like and must return the sequence number\n",
                "of the scan. For example, given the file name ``file_0003_0123``, the method should\n",
                "return ``1``.\n",
                "\n",
                "Consider a setup that saves data into a ``.csv`` file named ``data_0001.csv`` and so on.\n",
                "A bare minimum implementation of a loader for the setup will look something like this:"
            ]
        },
        {
            "cell_type": "code",
            "execution_count": 4,
            "metadata": {
                "notebookRunGroups": {
                    "groupValue": ""
                }
            },
            "outputs": [],
            "source": [
                "import os\n",
                "\n",
                "import pandas as pd\n",
                "from erlab.io.dataloader import LoaderBase\n",
                "\n",
                "\n",
                "class MyLoader(LoaderBase):\n",
                "    name = \"my_loader\"\n",
                "    aliases = None\n",
                "    name_map = {}\n",
                "    coordinate_attrs = {}\n",
                "    additional_attrs = {\"information\": \"any metadata you want to load with the data\"}\n",
                "    skip_validate = False\n",
                "    always_single = True\n",
                "\n",
                "    def identify(self, num, data_dir):\n",
                "        file = os.path.join(data_dir, f\"data_{str(num).zfill(4)}.csv\")\n",
                "        return [file], {}\n",
                "\n",
                "    def load_single(self, file_path):\n",
                "        return pd.read_csv(file_path).to_xarray()"
            ]
        },
        {
            "cell_type": "code",
            "execution_count": 5,
            "metadata": {
                "notebookRunGroups": {
                    "groupValue": ""
                }
            },
            "outputs": [
                {
                    "data": {
                        "text/html": [
                            "<table><thead><tr><th style='text-align:left;'><b>Name</b></th><th style='text-align:left;'><b>Aliases</b></th><th style='text-align:left;'><b>Loader class</b></th></tr></thead><tbody><tr><td style='text-align:left;'>kriss</td><td style='text-align:left;'>KRISS</td><td style='text-align:left;'>erlab.io.plugins.kriss.KRISSLoader</td></tr><tr><td style='text-align:left;'>merlin</td><td style='text-align:left;'>ALS_BL4, als_bl4, BL403, bl403</td><td style='text-align:left;'>erlab.io.plugins.merlin.BL403Loader</td></tr><tr><td style='text-align:left;'>ssrl</td><td style='text-align:left;'>ssrl52, bl5-2</td><td style='text-align:left;'>erlab.io.plugins.ssrl52.SSRL52Loader</td></tr><tr><td style='text-align:left;'>my_loader</td><td style='text-align:left;'></td><td style='text-align:left;'>__main__.MyLoader</td></tr></tbody></table>"
                        ],
                        "text/plain": [
                            "Registered data loaders\n",
                            "=======================\n",
                            "\n",
                            "Loaders\n",
                            "-------\n",
                            "kriss: <class 'erlab.io.plugins.kriss.KRISSLoader'>\n",
                            "merlin: <erlab.io.plugins.merlin.BL403Loader object at 0x126251210>\n",
                            "ssrl: <erlab.io.plugins.ssrl52.SSRL52Loader object at 0x125ef46d0>\n",
                            "my_loader: <class '__main__.MyLoader'>\n",
                            "\n",
                            "Aliases\n",
                            "-------\n",
                            "kriss: ['KRISS']\n",
                            "merlin: ['ALS_BL4', 'als_bl4', 'BL403', 'bl403']\n",
                            "ssrl: ['ssrl52', 'bl5-2']"
                        ]
                    },
                    "execution_count": 5,
                    "metadata": {},
                    "output_type": "execute_result"
                }
            ],
            "source": [
                "erlab.io.loaders"
            ]
        },
        {
            "cell_type": "code",
            "execution_count": 6,
            "metadata": {
                "notebookRunGroups": {
                    "groupValue": ""
                }
            },
            "outputs": [
                {
                    "data": {
                        "text/plain": [
                            "<__main__.MyLoader at 0x178fbed10>"
                        ]
                    },
                    "execution_count": 6,
                    "metadata": {},
                    "output_type": "execute_result"
                }
            ],
            "source": [
                "erlab.io.loaders[\"my_loader\"]"
            ]
        },
        {
            "cell_type": "raw",
            "metadata": {
                "editable": true,
                "raw_mimetype": "text/restructuredtext",
                "slideshow": {
                    "slide_type": ""
                },
                "tags": [],
                "vscode": {
                    "languageId": "raw"
                }
            },
            "source": [
                "We can see that the loader has been registered.\n",
                "\n",
                "For complex data structures, constructing a full path from just the sequence number and\n",
                "the data directory can be difficult. In this case, the :meth:`identify\n",
                "<erlab.io.dataloader.LoaderBase.identify>` can be implemented to take additional keyword\n",
                "arguments. All keyword arguments passed to :meth:`load\n",
                "<erlab.io.dataloader.LoaderBase.load>` are passed to :meth:`identify\n",
                "<erlab.io.dataloader.LoaderBase.identify>`.\n",
                "\n",
                "See :doc:`../generated/erlab.io.dataloader` for information about each attribute, and\n",
                "the values and types of the expected outputs. The implementation of existing loaders in\n",
                "the :mod:`erlab.io.plugins` module is a good starting point; see the `source code on\n",
                "github <https://github.com/kmnhan/erlabpy/tree/main/src/erlab/io/plugins>`_."
            ]
        }
    ],
    "metadata": {
        "kernelspec": {
            "display_name": "Python 3 (ipykernel)",
            "language": "python",
            "name": "python3"
        },
        "language_info": {
            "codemirror_mode": {
                "name": "ipython",
                "version": 3
            },
            "file_extension": ".py",
            "mimetype": "text/x-python",
            "name": "python",
            "nbconvert_exporter": "python",
            "pygments_lexer": "ipython3",
            "version": "3.11.8"
        }
    },
    "nbformat": 4,
    "nbformat_minor": 4
}
