{
 "cells": [
  {
   "cell_type": "code",
   "execution_count": 1,
   "metadata": {},
   "outputs": [
    {
     "data": {
      "application/vnd.jupyter.widget-view+json": {
       "model_id": "01d4709f2e2a4af591dad8ebd3641a47",
       "version_major": 2,
       "version_minor": 0
      },
      "text/plain": [
       "Map(center=[20, 0], controls=(ZoomControl(options=['position', 'zoom_in_text', 'zoom_in_title', 'zoom_out_text…"
      ]
     },
     "execution_count": 1,
     "metadata": {},
     "output_type": "execute_result"
    }
   ],
   "source": [
    "\n",
    "import geopak\n",
    "m=geopak.Map()\n",
    "m"
   ]
  },
  {
   "cell_type": "code",
   "execution_count": 12,
   "metadata": {},
   "outputs": [],
   "source": [
    "import ipywidgets as widgets\n",
    "from ipyleaflet import WidgetControl"
   ]
  },
  {
   "cell_type": "code",
   "execution_count": 13,
   "metadata": {},
   "outputs": [],
   "source": [
    "output_widget = widgets.Output(layout={\"border\": \"1px solid black\"})\n",
    "output_control = WidgetControl(widget=output_widget, position=\"bottomright\")\n",
    "m.add_control(output_control)"
   ]
  },
  {
   "cell_type": "code",
   "execution_count": 14,
   "metadata": {},
   "outputs": [],
   "source": [
    "output_widget.clear_output()\n",
    "logo = widgets.HTML(\n",
    "    value='<img src=\"https://earthengine.google.com/static/images/earth-engine-logo.png\" width=\"100\" height=\"100\">'\n",
    ")\n",
    "with output_widget:\n",
    "    display(logo)"
   ]
  },
  {
   "cell_type": "code",
   "execution_count": null,
   "metadata": {},
   "outputs": [],
   "source": [
    "def add_logo(self,position=\"bottomright\"):\n",
    "        output_widget = widgets.Output(layout={\"border\": \"1px solid black\"})\n",
    "        output_control = WidgetControl(widget=output_widget, position=position)\n",
    "        self.add_control(output_control)\n",
    "         \n",
    "        output_widget.clear_output()\n",
    "        logo = widgets.HTML(\n",
    "                value='<img src=\"https://earthengine.google.com/static/images/earth-engine-logo.png\" width=\"100\" height=\"100\">'\n",
    "            )\n",
    "        with output_widget:\n",
    "                #print(logo)"
   ]
  },
  {
   "cell_type": "code",
   "execution_count": null,
   "metadata": {},
   "outputs": [],
   "source": [
    "color_picker = widgets.ColorPicker(description='Pick a color:', position = 'bottomright')"
   ]
  }
 ],
 "metadata": {
  "kernelspec": {
   "display_name": "geosp",
   "language": "python",
   "name": "python3"
  },
  "language_info": {
   "codemirror_mode": {
    "name": "ipython",
    "version": 3
   },
   "file_extension": ".py",
   "mimetype": "text/x-python",
   "name": "python",
   "nbconvert_exporter": "python",
   "pygments_lexer": "ipython3",
   "version": "3.10.13"
  }
 },
 "nbformat": 4,
 "nbformat_minor": 2
}
