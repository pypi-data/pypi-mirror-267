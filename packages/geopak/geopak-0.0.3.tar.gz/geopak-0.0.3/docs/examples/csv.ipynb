{
 "cells": [
  {
   "cell_type": "code",
   "execution_count": 4,
   "metadata": {},
   "outputs": [],
   "source": [
    "import geopak\n",
    "\n",
    "from geopak import utils\n",
    "\n",
    "#path=r\"C:\\Users\\ALBERT\\Documents\\geopak\\docs\\examples\\iris.csv\"\n",
    "#df =utils.csv_to_df(path)\n",
    "#df"
   ]
  }
 ],
 "metadata": {
  "kernelspec": {
   "display_name": "geosp",
   "language": "python",
   "name": "python3"
  },
  "language_info": {
   "codemirror_mode": {
    "name": "ipython",
    "version": 3
   },
   "file_extension": ".py",
   "mimetype": "text/x-python",
   "name": "python",
   "nbconvert_exporter": "python",
   "pygments_lexer": "ipython3",
   "version": "3.10.13"
  }
 },
 "nbformat": 4,
 "nbformat_minor": 2
}
