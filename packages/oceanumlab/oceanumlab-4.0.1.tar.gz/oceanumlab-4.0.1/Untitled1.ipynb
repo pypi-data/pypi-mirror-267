{
 "cells": [
  {
   "cell_type": "code",
   "execution_count": 1,
   "id": "6666cbaf-fc7a-4c84-a794-fec602f3e6a2",
   "metadata": {},
   "outputs": [
    {
     "data": {
      "text/plain": [
       "'test22'"
      ]
     },
     "execution_count": 1,
     "metadata": {},
     "output_type": "execute_result"
    }
   ],
   "source": [
    "import os\n",
    "os.environ.get(\"DATAMESH_TOKEN\")"
   ]
  },
  {
   "cell_type": "code",
   "execution_count": null,
   "id": "6d89794e-9309-4483-84a3-718b75d44147",
   "metadata": {},
   "outputs": [],
   "source": [
    "DATAMESH_TOKEN='test223';\n",
    "from oceanum.datamesh import Connector\n",
    "#Put your datamesh token in the Jupyterlab settings, or as argument in the constructor below\n",
    "datamesh=Connector(token=DATAMESH_TOKEN)\n",
    "argo_floats=datamesh.query({\n",
    "  \"id\": \"6e0abb8f12242b42507bc92b963686e2\",\n",
    "  \"geofilter\": {\n",
    "    \"geom\": [\n",
    "      -69.8461,\n",
    "      40.033,\n",
    "      -59.9548,\n",
    "      45.7604\n",
    "    ],\n",
    "    \"type\": \"bbox\"\n",
    "  },\n",
    "  \"variables\": [\n",
    "    \"time\",\n",
    "    \"longitude\",\n",
    "    \"latitude\",\n",
    "    \"pres_adjusted\",\n",
    "    \"temp_adjusted\"\n",
    "  ],\n",
    "  \"datasource\": \"argo-floats\",\n",
    "  \"timefilter\": {\n",
    "    \"times\": [\n",
    "      \"2022-12-31T11:00:00.000Z\",\n",
    "      \"2023-12-31T11:00:00.000Z\"\n",
    "    ]\n",
    "  },\n",
    "  \"description\": \"Argo Float Measurements\"\n",
    "})"
   ]
  },
  {
   "cell_type": "code",
   "execution_count": null,
   "id": "ee9fc4d7-f93b-4f7c-87fd-eb74438655ec",
   "metadata": {},
   "outputs": [],
   "source": []
  }
 ],
 "metadata": {
  "kernelspec": {
   "display_name": "Python 3 (ipykernel)",
   "language": "python",
   "name": "python3"
  },
  "language_info": {
   "codemirror_mode": {
    "name": "ipython",
    "version": 3
   },
   "file_extension": ".py",
   "mimetype": "text/x-python",
   "name": "python",
   "nbconvert_exporter": "python",
   "pygments_lexer": "ipython3",
   "version": "3.12.2"
  }
 },
 "nbformat": 4,
 "nbformat_minor": 5
}
