{
 "cells": [
  {
   "cell_type": "markdown",
   "metadata": {},
   "source": [
    "### Python Code for Lib"
   ]
  },
  {
   "cell_type": "code",
   "execution_count": 18,
   "metadata": {},
   "outputs": [],
   "source": [
    "from retrigen import (\n",
    "    filter_text_by_td,\n",
    "    q_eval_system_prompt,\n",
    "    q_eval_user_prompt,\n",
    "    json_api_call,\n",
    "    filter_text_by_llm,\n",
    "    generate_question_template,\n",
    "    question_api_call,\n",
    "    QuestionContextManager,\n",
    "    generate_questions,\n",
    "    initialize_chroma_collection,\n",
    "    add_documents_to_chroma,\n",
    "    filter_context_candidates,\n",
    "    c_eval_system_prompt,\n",
    "    c_eval_user_prompt,\n",
    "    context_question_llm_assesment,\n",
    ")"
   ]
  },
  {
   "cell_type": "markdown",
   "metadata": {},
   "source": [
    "### Code for testing and running all functions"
   ]
  },
  {
   "cell_type": "code",
   "execution_count": 9,
   "metadata": {},
   "outputs": [
    {
     "data": {
      "text/plain": [
       "True"
      ]
     },
     "execution_count": 9,
     "metadata": {},
     "output_type": "execute_result"
    }
   ],
   "source": [
    "from dotenv import load_dotenv\n",
    "from datasets import load_dataset\n",
    "\n",
    "# Contains OpenAI API key\n",
    "load_dotenv(override=True)"
   ]
  },
  {
   "cell_type": "code",
   "execution_count": 6,
   "metadata": {},
   "outputs": [
    {
     "data": {
      "text/html": [
       "<div>\n",
       "<style scoped>\n",
       "    .dataframe tbody tr th:only-of-type {\n",
       "        vertical-align: middle;\n",
       "    }\n",
       "\n",
       "    .dataframe tbody tr th {\n",
       "        vertical-align: top;\n",
       "    }\n",
       "\n",
       "    .dataframe thead th {\n",
       "        text-align: right;\n",
       "    }\n",
       "</style>\n",
       "<table border=\"1\" class=\"dataframe\">\n",
       "  <thead>\n",
       "    <tr style=\"text-align: right;\">\n",
       "      <th></th>\n",
       "      <th>url</th>\n",
       "      <th>title</th>\n",
       "      <th>html_content</th>\n",
       "      <th>text_content</th>\n",
       "    </tr>\n",
       "  </thead>\n",
       "  <tbody>\n",
       "    <tr>\n",
       "      <th>0</th>\n",
       "      <td>https://www.retsinformation.dk/eli/retsinfo/20...</td>\n",
       "      <td>Vejledning om regulering af satser fra 1. janu...</td>\n",
       "      <td>&lt;div class=\"document-content\" id=\"restylingRoo...</td>\n",
       "      <td>Vejledning om regulering af satser fra 1. janu...</td>\n",
       "    </tr>\n",
       "    <tr>\n",
       "      <th>1</th>\n",
       "      <td>https://www.retsinformation.dk/eli/retsinfo/20...</td>\n",
       "      <td>Vejledning om satser i 2024 for betaling af ud...</td>\n",
       "      <td>&lt;div class=\"document-content\" id=\"restylingRoo...</td>\n",
       "      <td>Vejledning om satser i 2024 for betaling af ud...</td>\n",
       "    </tr>\n",
       "    <tr>\n",
       "      <th>2</th>\n",
       "      <td>https://www.retsinformation.dk/eli/retsinfo/20...</td>\n",
       "      <td>Vejledning om obligatorisk selvbooking af jobs...</td>\n",
       "      <td>&lt;div class=\"document-content\" id=\"restylingRoo...</td>\n",
       "      <td>Vejledning om obligatorisk selvbooking af jobs...</td>\n",
       "    </tr>\n",
       "    <tr>\n",
       "      <th>3</th>\n",
       "      <td>https://www.retsinformation.dk/eli/retsinfo/20...</td>\n",
       "      <td>Vejledning til bekendtgørelse om tilskud til s...</td>\n",
       "      <td>&lt;div class=\"document-content\" id=\"restylingRoo...</td>\n",
       "      <td>Vejledning til bekendtgørelse om tilskud til s...</td>\n",
       "    </tr>\n",
       "    <tr>\n",
       "      <th>4</th>\n",
       "      <td>https://www.retsinformation.dk/eli/retsinfo/20...</td>\n",
       "      <td>Vejledning om fleksløntilskud m.v.</td>\n",
       "      <td>&lt;div class=\"document-content\" id=\"restylingRoo...</td>\n",
       "      <td>Vejledning om fleksløntilskud m.v.\\n1.Indledni...</td>\n",
       "    </tr>\n",
       "  </tbody>\n",
       "</table>\n",
       "</div>"
      ],
      "text/plain": [
       "                                                 url  \\\n",
       "0  https://www.retsinformation.dk/eli/retsinfo/20...   \n",
       "1  https://www.retsinformation.dk/eli/retsinfo/20...   \n",
       "2  https://www.retsinformation.dk/eli/retsinfo/20...   \n",
       "3  https://www.retsinformation.dk/eli/retsinfo/20...   \n",
       "4  https://www.retsinformation.dk/eli/retsinfo/20...   \n",
       "\n",
       "                                               title  \\\n",
       "0  Vejledning om regulering af satser fra 1. janu...   \n",
       "1  Vejledning om satser i 2024 for betaling af ud...   \n",
       "2  Vejledning om obligatorisk selvbooking af jobs...   \n",
       "3  Vejledning til bekendtgørelse om tilskud til s...   \n",
       "4                 Vejledning om fleksløntilskud m.v.   \n",
       "\n",
       "                                        html_content  \\\n",
       "0  <div class=\"document-content\" id=\"restylingRoo...   \n",
       "1  <div class=\"document-content\" id=\"restylingRoo...   \n",
       "2  <div class=\"document-content\" id=\"restylingRoo...   \n",
       "3  <div class=\"document-content\" id=\"restylingRoo...   \n",
       "4  <div class=\"document-content\" id=\"restylingRoo...   \n",
       "\n",
       "                                        text_content  \n",
       "0  Vejledning om regulering af satser fra 1. janu...  \n",
       "1  Vejledning om satser i 2024 for betaling af ud...  \n",
       "2  Vejledning om obligatorisk selvbooking af jobs...  \n",
       "3  Vejledning til bekendtgørelse om tilskud til s...  \n",
       "4  Vejledning om fleksløntilskud m.v.\\n1.Indledni...  "
      ]
     },
     "execution_count": 6,
     "metadata": {},
     "output_type": "execute_result"
    }
   ],
   "source": [
    "# Load from hub\n",
    "ds_vejledninger = load_dataset(\n",
    "    \"jealk/dk_retrieval_benchmark\",\n",
    "    \"retsinformation\",\n",
    "    split=\"train\",\n",
    "    # download_mode=\"force_redownload\",\n",
    ")\n",
    "\n",
    "# Create pandas dataframe from the dataset using the huggingface datasets library\n",
    "df_vejledninger = ds_vejledninger.to_pandas()\n",
    "df_vejledninger.head()"
   ]
  },
  {
   "cell_type": "code",
   "execution_count": 7,
   "metadata": {},
   "outputs": [
    {
     "name": "stderr",
     "output_type": "stream",
     "text": [
      "Token indices sequence length is longer than the specified maximum sequence length for this model (1350 > 512). Running this sequence through the model will result in indexing errors\n"
     ]
    }
   ],
   "source": [
    "from langchain.text_splitter import RecursiveCharacterTextSplitter\n",
    "from transformers import AutoTokenizer\n",
    "\n",
    "tokenizer = AutoTokenizer.from_pretrained(\"intfloat/e5-base-v2\")\n",
    "\n",
    "\n",
    "def token_length_function(text_input):\n",
    "    return len(tokenizer.encode(text_input, add_special_tokens=False))\n",
    "\n",
    "\n",
    "text_splitter = RecursiveCharacterTextSplitter(\n",
    "    chunk_size=512, chunk_overlap=0, length_function=token_length_function, separators=[\"\\n\\n\", \"\\n\", \". \", \"? \", \"! \"]\n",
    ")\n",
    "\n",
    "# For some reason, Langchains text splitter is horribly slow (compared to llamaindex) takes 2+ minutes to run on my CPU\n",
    "split_documents = text_splitter.create_documents(\n",
    "    list(df_vejledninger[\"text_content\"]), metadatas=[{\"title\": title} for title in df_vejledninger[\"title\"]]\n",
    ")"
   ]
  },
  {
   "cell_type": "code",
   "execution_count": 10,
   "metadata": {},
   "outputs": [],
   "source": [
    "# Run documents through textdesctiptives quality check, returns the Documents that passed\n",
    "docs_passed_td = filter_text_by_td(split_documents[0:300], filter_type=True)"
   ]
  },
  {
   "cell_type": "code",
   "execution_count": 11,
   "metadata": {},
   "outputs": [
    {
     "name": "stderr",
     "output_type": "stream",
     "text": [
      "Evaluating texts: 100%|██████████| 50/50 [00:36<00:00,  1.36it/s]\n"
     ]
    }
   ],
   "source": [
    "# Run the documents through LLM quality check, return the documents that passed\n",
    "docs_passed_llm = filter_text_by_llm(docs_passed_td[:50])"
   ]
  },
  {
   "cell_type": "code",
   "execution_count": 12,
   "metadata": {},
   "outputs": [
    {
     "name": "stderr",
     "output_type": "stream",
     "text": [
      "100%|██████████| 10/10 [00:19<00:00,  1.97s/it]\n"
     ]
    }
   ],
   "source": [
    "# Generate questions for a sub-sample of the passed documents\n",
    "qc_meta = generate_questions(docs_passed_llm[:10])"
   ]
  },
  {
   "cell_type": "code",
   "execution_count": 13,
   "metadata": {},
   "outputs": [
    {
     "name": "stdout",
     "output_type": "stream",
     "text": [
      "Removed 0 questions.\n",
      "Question: Hvem skal regulere løbende erstatninger tilkendt før 1. januar 2024?\n",
      "\n",
      "Context: De private arbejdsskadeforsikringsselskaber samt de arbejdsgivere, der er fritaget for at afgive risikoen efter loven, skal selv regulere løbende erstatninger, som er tilkendt før 1. januar 2024. Ved løbende erstatninger tilkendt i 2024 vil det fremgå af Arbejdsmarkedets Erhvervssikrings afgørelse, hvilke beløb, der skal udbetales i 2024.\n",
      "----------------------------------------\n",
      "Question: Hvordan beregnes grundlønnen for løbende erstatninger for tab af erhvervsevne ifølge Arbejdstilsynets bilag fra den 5. januar 2024?\n",
      "\n",
      "Context: Arbejdstilsynet, den 5. januar 2024\n",
      "Sine Frederiksen\n",
      "/ Helle Klostergaard Christensen\n",
      "Bilag 1\n",
      "Bilaget indeholder eksempler på beregninger af kapitalerstatninger, godtgørelsesbeløb og overgangsbeløb samt løbende erstatninger og godtgørelser, som tilskadekomne eller dennes efterladte har ret til efter lov om arbejdsskadesikring, lov om sikring mod følger af arbejdsskade, lov om arbejdsskadeforsikring og lov om forsikring mod følger af ulykkestilfælde.\n",
      "Arbejdsskader indtruffet i tiden 1. juli 2024 til 31. december 2024\n",
      "Til brug ved beregning og fremtidig regulering af løbende erstatninger for tab af erhvervsevne og tab af forsørger samt uddannelsesgodtgørelser beregnes grundlønnen (§ 24 a) ved at multiplicere den fastsatte årsløn med forholdet mellem den maksimale årsløn pr. 1. januar 2024 (608.000 kr.) og den maksimale årsløn på skadestidspunktet (608.000 kr.), det vil sige:\n",
      "Grundløn = årsløn × 608.000 / 608.000.\n",
      "Beløbet afrundes til hele kroner. Grundlønnen svarer til årslønnen reguleret tilbage til niveauet pr. 1. januar 2024.\n",
      "----------------------------------------\n",
      "Question: Hvilke målgrupper er omfattet af pligten til selvbooking ifølge loven om en aktiv beskæftigelsesindsats fra 22. maj 2022?\n",
      "\n",
      "Context: Indledning\n",
      "Denne vejledning omfatter pligt til selvbooking for visse målgrupper i lov om en aktiv beskæftigelsesindsats, jf. lovbekendtgørelse nr. 701 af 22. maj 2022. Pligt til selvbooking for sygedagpengemodtagere er ikke omfattet af denne vejledning.\n",
      "Pligt til selvbooking gælder for dagpengemodtagere, kontanthjælps- og uddannelseshjælpsmodtagere, overgangsydelsesmodtagere, som ikke er omfattet af introduktionsprogrammet efter integrationsloven, personer i jobafklaringsforløb, personer i ressourceforløb, fleksjobvisiterede, som modtager ledighedsydelse, og personer i revalideringsforløb.\n",
      "Pligt til selvbooking omfatter jobsamtaler efter kapitel 7 i lov om en aktiv beskæftigelsesindsats. Dagpengemodtagere har derudover pligt til at selvbooke rådighedssamtaler i arbejdsløshedskassen, hvis arbejdsløshedskassen har fastsat, at der skal ske selvbooking af en rådighedssamtale, jf. rådighedsbekendtgørelsens § 10 (bekendtgørelse nr. 1210 af 28. september 2023).\n",
      "----------------------------------------\n"
     ]
    }
   ],
   "source": [
    "# Filter out documents wherein the questions are shorter or longer than specified character length and display 3 examples,\n",
    "qc_meta.filter_questions_by_length(min_length=20, max_length=150)  # default values\n",
    "qc_meta.display_question_context_pairs(3)"
   ]
  },
  {
   "cell_type": "code",
   "execution_count": 14,
   "metadata": {},
   "outputs": [],
   "source": [
    "import chromadb\n",
    "\n",
    "# Initializes a Chroma DB instance and adds the Contexts to the DB\n",
    "chroma_client = chromadb.Client()\n",
    "collection_name = \"qc_collection\"\n",
    "embedding_model = \"intfloat/multilingual-e5-base\"\n",
    "\n",
    "# For testing, delte previous collection\n",
    "# chroma_client.delete_collection(collection_name)\n",
    "\n",
    "db_collection = initialize_chroma_collection(chroma_client, collection_name, embedding_model)\n",
    "add_documents_to_chroma(db_collection, qc_meta.contexts, document_prepend=\"passage:\")"
   ]
  },
  {
   "cell_type": "code",
   "execution_count": 15,
   "metadata": {},
   "outputs": [
    {
     "data": {
      "text/plain": [
       "{'ce7f0145-6b81-4993-bf04-ec70915545bd': [],\n",
       " 'f728d57c-9839-4069-9bba-7bbba99d8e87': ['c357410f-4a94-44c4-9a8f-3810d5b958bd'],\n",
       " 'a40606c7-f82a-484a-8372-dabf074b66c3': ['1f2971c7-495c-4b0b-8d3a-d2f37f0505d0'],\n",
       " '4222f9ec-74b7-4f58-a14f-12ed330e55c6': ['ad0802f9-381c-41f8-9b24-ac17313e5d66',\n",
       "  'e1f09c75-b310-46e2-9d8c-74c2d6f5247b'],\n",
       " 'adedee21-2125-49cd-9891-d387c4a4b70d': ['1f2971c7-495c-4b0b-8d3a-d2f37f0505d0',\n",
       "  'e1f09c75-b310-46e2-9d8c-74c2d6f5247b'],\n",
       " 'f7657ebe-228a-429b-89bd-a34f3660e583': [],\n",
       " '523e5d48-bf77-435e-ad2b-cf56eb56347d': ['ad0802f9-381c-41f8-9b24-ac17313e5d66',\n",
       "  '1f2971c7-495c-4b0b-8d3a-d2f37f0505d0',\n",
       "  'd3378632-21c2-4ab7-bdee-fdbf42b3fc7f'],\n",
       " '02516716-f8ae-4c33-ae9d-15cd255342d3': ['ad0802f9-381c-41f8-9b24-ac17313e5d66',\n",
       "  'd3378632-21c2-4ab7-bdee-fdbf42b3fc7f'],\n",
       " 'cdb5511b-fdfc-40c1-88a5-e449b603734f': ['ad0802f9-381c-41f8-9b24-ac17313e5d66'],\n",
       " '0bd4f8ae-3a2d-445f-98ad-46e9dd41220e': ['d3378632-21c2-4ab7-bdee-fdbf42b3fc7f',\n",
       "  '4d72b0f8-abeb-4cd1-ab9c-5944ff383cfe',\n",
       "  '768df1cd-6257-4b27-ba37-6ff4cde0fe3b',\n",
       "  '1f2971c7-495c-4b0b-8d3a-d2f37f0505d0']}"
      ]
     },
     "execution_count": 15,
     "metadata": {},
     "output_type": "execute_result"
    }
   ],
   "source": [
    "# Identify a list of context candidates that might be an additional 'match' to the generated questions\n",
    "context_candidates_id = filter_context_candidates(db_collection, qc_meta, dist_threshold=0.05, include_origin_context=False)\n",
    "context_candidates_id"
   ]
  },
  {
   "cell_type": "code",
   "execution_count": 19,
   "metadata": {},
   "outputs": [
    {
     "name": "stderr",
     "output_type": "stream",
     "text": [
      "  0%|          | 0/10 [00:00<?, ?it/s]"
     ]
    },
    {
     "name": "stderr",
     "output_type": "stream",
     "text": [
      "100%|██████████| 10/10 [00:11<00:00,  1.15s/it]\n"
     ]
    }
   ],
   "source": [
    "# Use LLM calls to assess whether the potential contexts does indeed contain the answer to the given question\n",
    "question_context_matches = context_question_llm_assesment(context_candidates_id, qc_meta)"
   ]
  },
  {
   "cell_type": "code",
   "execution_count": 20,
   "metadata": {},
   "outputs": [],
   "source": [
    "# Use the built-in class function to update the context question pairs, given the verified list\n",
    "qc_meta.update_question_context_pairs(question_context_matches)"
   ]
  },
  {
   "cell_type": "code",
   "execution_count": 22,
   "metadata": {},
   "outputs": [
    {
     "data": {
      "text/plain": [
       "{'ce7f0145-6b81-4993-bf04-ec70915545bd': ['c357410f-4a94-44c4-9a8f-3810d5b958bd'],\n",
       " 'f728d57c-9839-4069-9bba-7bbba99d8e87': ['f10565b5-9e32-4f30-b6f2-75c879a0e6b0'],\n",
       " 'a40606c7-f82a-484a-8372-dabf074b66c3': ['e1f09c75-b310-46e2-9d8c-74c2d6f5247b',\n",
       "  '1f2971c7-495c-4b0b-8d3a-d2f37f0505d0'],\n",
       " '4222f9ec-74b7-4f58-a14f-12ed330e55c6': ['1f2971c7-495c-4b0b-8d3a-d2f37f0505d0'],\n",
       " 'adedee21-2125-49cd-9891-d387c4a4b70d': ['a54cc7fb-c05a-4e02-950b-bd62e7218673',\n",
       "  '1f2971c7-495c-4b0b-8d3a-d2f37f0505d0',\n",
       "  'e1f09c75-b310-46e2-9d8c-74c2d6f5247b'],\n",
       " 'f7657ebe-228a-429b-89bd-a34f3660e583': ['f75cb4e8-5f6a-48a4-88e4-1b3a5e9a6696'],\n",
       " '523e5d48-bf77-435e-ad2b-cf56eb56347d': ['768df1cd-6257-4b27-ba37-6ff4cde0fe3b',\n",
       "  '1f2971c7-495c-4b0b-8d3a-d2f37f0505d0',\n",
       "  'd3378632-21c2-4ab7-bdee-fdbf42b3fc7f'],\n",
       " '02516716-f8ae-4c33-ae9d-15cd255342d3': ['4d72b0f8-abeb-4cd1-ab9c-5944ff383cfe',\n",
       "  'ad0802f9-381c-41f8-9b24-ac17313e5d66',\n",
       "  'd3378632-21c2-4ab7-bdee-fdbf42b3fc7f'],\n",
       " 'cdb5511b-fdfc-40c1-88a5-e449b603734f': ['d3378632-21c2-4ab7-bdee-fdbf42b3fc7f',\n",
       "  'ad0802f9-381c-41f8-9b24-ac17313e5d66'],\n",
       " '0bd4f8ae-3a2d-445f-98ad-46e9dd41220e': ['ad0802f9-381c-41f8-9b24-ac17313e5d66',\n",
       "  '768df1cd-6257-4b27-ba37-6ff4cde0fe3b']}"
      ]
     },
     "execution_count": 22,
     "metadata": {},
     "output_type": "execute_result"
    }
   ],
   "source": [
    "# View the updated list\n",
    "qc_meta.question_context_id_pairs"
   ]
  },
  {
   "cell_type": "code",
   "execution_count": null,
   "metadata": {},
   "outputs": [],
   "source": []
  }
 ],
 "metadata": {
  "kernelspec": {
   "display_name": "llama",
   "language": "python",
   "name": "python3"
  },
  "language_info": {
   "codemirror_mode": {
    "name": "ipython",
    "version": 3
   },
   "file_extension": ".py",
   "mimetype": "text/x-python",
   "name": "python",
   "nbconvert_exporter": "python",
   "pygments_lexer": "ipython3",
   "version": "3.11.8"
  }
 },
 "nbformat": 4,
 "nbformat_minor": 2
}
