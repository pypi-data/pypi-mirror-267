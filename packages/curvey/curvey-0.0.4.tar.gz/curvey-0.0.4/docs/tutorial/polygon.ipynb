{
 "cells": [
  {
   "cell_type": "code",
   "execution_count": null,
   "id": "0",
   "metadata": {},
   "outputs": [],
   "source": [
    "from curvey import Curve, Polygon, Edges\n",
    "from matplotlib import pyplot as plt\n",
    "from matplotlib.patches import PathPatch\n",
    "import numpy as np"
   ]
  },
  {
   "cell_type": "code",
   "execution_count": null,
   "id": "1",
   "metadata": {},
   "outputs": [],
   "source": [
    "plt.rcParams[\"figure.figsize\"] = (3, 3)\n",
    "plt.rcParams[\"axes.titlesize\"] = 10\n",
    "plt.rcParams[\"axes.labelsize\"] = 8\n",
    "plt.rcParams[\"xtick.labelsize\"] = 8\n",
    "plt.rcParams[\"ytick.labelsize\"] = 8"
   ]
  },
  {
   "cell_type": "markdown",
   "id": "2",
   "metadata": {},
   "source": [
    "## Polygon construction"
   ]
  },
  {
   "cell_type": "markdown",
   "id": "3",
   "metadata": {},
   "source": [
    "A `Polygon` is bounded by `Curve`."
   ]
  },
  {
   "cell_type": "code",
   "execution_count": null,
   "id": "4",
   "metadata": {},
   "outputs": [],
   "source": [
    "exterior = Curve.circle(n=100)\n",
    "poly0 = Polygon(exterior)\n",
    "_ = poly0.plot_polygon()"
   ]
  },
  {
   "cell_type": "markdown",
   "id": "5",
   "metadata": {},
   "source": [
    "Interior boundaries with opposite orientation to the exterior can also be specified:"
   ]
  },
  {
   "cell_type": "code",
   "execution_count": null,
   "id": "6",
   "metadata": {},
   "outputs": [],
   "source": [
    "interiors=(\n",
    "    Curve.circle(r=0.25, n=50).translate([-0.5, 0]).to_cw(),\n",
    "    Curve.circle(r=0.25, n=50).translate([0.5, 0]).to_cw(),\n",
    ")\n",
    "poly1 = Polygon(exterior, interiors)\n",
    "_ = poly1.plot_polygon()"
   ]
  },
  {
   "cell_type": "markdown",
   "id": "7",
   "metadata": {},
   "source": [
    "The `signed_area` property calculates area enclosed by the polygon:"
   ]
  },
  {
   "cell_type": "code",
   "execution_count": null,
   "id": "8",
   "metadata": {},
   "outputs": [],
   "source": [
    "poly0.signed_area, poly1.signed_area"
   ]
  },
  {
   "cell_type": "markdown",
   "id": "9",
   "metadata": {},
   "source": [
    "The combined external and internal boundary edges are available in an 'edge soup' representation as an `curvey.Edges` object."
   ]
  },
  {
   "cell_type": "code",
   "execution_count": null,
   "id": "10",
   "metadata": {},
   "outputs": [],
   "source": [
    "poly1.boundary"
   ]
  },
  {
   "cell_type": "markdown",
   "id": "11",
   "metadata": {},
   "source": [
    "For convenience, polygons can also be constructed from matplotlib's font rendering modules:"
   ]
  },
  {
   "cell_type": "code",
   "execution_count": null,
   "id": "12",
   "metadata": {},
   "outputs": [],
   "source": [
    "polys = Polygon.from_text(\"curvey\", family=\"arial\", size=72)\n",
    "for p in polys:\n",
    "    p.plot_polygon()"
   ]
  },
  {
   "cell_type": "markdown",
   "id": "13",
   "metadata": {},
   "source": [
    "The `Polygon.apply` method applies any `Curve -> Curve` function to its boundarys, returning a new `Polygon`:"
   ]
  },
  {
   "cell_type": "code",
   "execution_count": null,
   "id": "14",
   "metadata": {},
   "outputs": [],
   "source": [
    "eight = Polygon.from_text(\"8\")[0]\n",
    "eight = eight.apply(Curve.interpolate_thresh, thresh=5)\n",
    "eight.plot_edges()"
   ]
  },
  {
   "cell_type": "markdown",
   "id": "15",
   "metadata": {},
   "source": [
    "## Triangulation\n",
    "\n",
    "The `Polygon.triangulate()` returns a constrained Delaunay triangulation of the polygon with the bindings to Johnathan Shewchuck's `triangle` library."
   ]
  },
  {
   "cell_type": "code",
   "execution_count": null,
   "id": "16",
   "metadata": {},
   "outputs": [],
   "source": [
    "tris0 = eight.triangulate()\n",
    "_ = tris0.plot_tris()"
   ]
  },
  {
   "cell_type": "markdown",
   "id": "17",
   "metadata": {},
   "source": [
    "Triangulate also supports area and angle constraints."
   ]
  },
  {
   "cell_type": "code",
   "execution_count": null,
   "id": "18",
   "metadata": {},
   "outputs": [],
   "source": [
    "tris = eight.triangulate(max_tri_area=9)\n",
    "_ = tris.plot_tris()"
   ]
  },
  {
   "cell_type": "markdown",
   "id": "19",
   "metadata": {},
   "source": [
    "In order to motivate the use of the medial axis in the next section, we'll introduce here the problem of assigning a z-coordinate to each vertex in the triangulation in order to provide a 'roof' over the boundary of the polygon. A simple way to do this would be to simply set the height of the vertices equal to their distance from the boundary: "
   ]
  },
  {
   "cell_type": "code",
   "execution_count": null,
   "id": "20",
   "metadata": {},
   "outputs": [],
   "source": [
    "_edge_idx, boundary_dist = eight.boundary.closest_edge(tris.points)"
   ]
  },
  {
   "cell_type": "code",
   "execution_count": null,
   "id": "21",
   "metadata": {},
   "outputs": [],
   "source": [
    "fig, ax = plt.subplots(subplot_kw={'projection': '3d'}, figsize=(5, 5))\n",
    "x, y = tris.points.T\n",
    "ax.plot_trisurf(x, y, Z=boundary_dist, triangles=tris.faces)\n",
    "ax.set_zlim([0, 15])"
   ]
  },
  {
   "cell_type": "markdown",
   "id": "22",
   "metadata": {},
   "source": [
    "The problem is that the edges of the triangulation fall erratically over the midline of the polygon."
   ]
  },
  {
   "cell_type": "markdown",
   "id": "23",
   "metadata": {},
   "source": [
    "## The medial axis\n",
    "\n",
    "The medial axis of a polygon is the set of points at the center of all maximally inscribed disks inside the polygon. `Polygon.approximate_medial_axis` constructs the approximate medial axis of the polygon as per \n",
    "\n",
    "[*Efficient and Robust Computation of an Approximated Medial Axis.*\n",
    "        Yuandong Yang, Oliver Brock, and Robert N. Moll. 2004.](\n",
    "        https://citeseerx.ist.psu.edu/document?repid=rep1&type=pdf&doi=cfc187181ce85d983843c4a184651dbd2a07e7e5)\n",
    "\n",
    "It returns an `Edges` object, with vertex distances from the polygon boundary stored in the point metadata property 'distance':"
   ]
  },
  {
   "cell_type": "code",
   "execution_count": null,
   "id": "24",
   "metadata": {},
   "outputs": [],
   "source": [
    "ama = eight.approximate_medial_axis(\n",
    "    dist_thresh=1,\n",
    "    abs_err=0.25,\n",
    ")\n",
    "ama"
   ]
  },
  {
   "cell_type": "code",
   "execution_count": null,
   "id": "25",
   "metadata": {},
   "outputs": [],
   "source": [
    "_ = eight.plot(color='black')\n",
    "_ = ama.plot_edges(color='grey', directed=False)\n",
    "_ = ama.plot_points(color=ama.point_data['distance'])\n",
    "_ = plt.axis('off')"
   ]
  },
  {
   "cell_type": "markdown",
   "id": "26",
   "metadata": {},
   "source": [
    "For a nicer triangulation that follows the medial axis, we can combine the edges from the original polygon and the medial axis. We assign a point data 'distance' property of zero to the original edges so that all vertices in the combined edges have a distance property.\n",
    "\n",
    "Here below we're calling `Edges.triangulate` instead of `Polygon.triangulate` so we need to be a little more explicit, including passing points interior to the polygon holes."
   ]
  },
  {
   "cell_type": "code",
   "execution_count": null,
   "id": "27",
   "metadata": {},
   "outputs": [],
   "source": [
    "all_edges = Edges.concatenate(\n",
    "    eight.boundary.with_point_data(distance=0),\n",
    "    ama,\n",
    ")\n",
    "\n",
    "tris = all_edges.triangulate(\n",
    "    polygon=True,\n",
    "    max_tri_area=3,\n",
    "    holes=eight.hole_points,\n",
    ")"
   ]
  },
  {
   "attachments": {},
   "cell_type": "markdown",
   "id": "28",
   "metadata": {},
   "source": [
    "Finally, instead of assigning the vertices a z-coordinate based on their exact distance from the boundary, we instead can interpolate distance between the boundary and the medial axis using scipy's radial basis function interpolator, which should result in a much smoother distance function."
   ]
  },
  {
   "cell_type": "code",
   "execution_count": null,
   "id": "29",
   "metadata": {},
   "outputs": [],
   "source": [
    "from scipy.interpolate import RBFInterpolator\n",
    "dist_interpolator = RBFInterpolator(\n",
    "    all_edges.points,\n",
    "    all_edges.point_data['distance'],\n",
    "    kernel='thin_plate_spline',\n",
    "    degree=1,\n",
    ")\n",
    "dist = dist_interpolator(tris.points)\n",
    "dist[tris.is_boundary_vertex] = 0"
   ]
  },
  {
   "cell_type": "markdown",
   "id": "30",
   "metadata": {},
   "source": [
    "Finally, instead of setting the z-coordinate directly to their distance, apply a sinusoidal profile:"
   ]
  },
  {
   "cell_type": "code",
   "execution_count": null,
   "id": "31",
   "metadata": {},
   "outputs": [],
   "source": [
    "fig, ax = plt.subplots(subplot_kw={'projection': '3d'}, figsize=(6, 6))\n",
    "z = dist.max() * np.sin(dist / dist.max())\n",
    "x, y = tris.points.T\n",
    "_ = ax.plot_trisurf(x, y, z, triangles=tris.faces)\n",
    "_ = ax.set_zlim([0, 15])"
   ]
  }
 ],
 "metadata": {
  "kernelspec": {
   "display_name": "Python 3 (ipykernel)",
   "language": "python",
   "name": "python3"
  },
  "language_info": {
   "codemirror_mode": {
    "name": "ipython",
    "version": 3
   },
   "file_extension": ".py",
   "mimetype": "text/x-python",
   "name": "python",
   "nbconvert_exporter": "python",
   "pygments_lexer": "ipython3",
   "version": "3.12.2"
  }
 },
 "nbformat": 4,
 "nbformat_minor": 5
}
