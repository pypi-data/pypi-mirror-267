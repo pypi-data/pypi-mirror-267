{
 "cells": [
  {
   "cell_type": "markdown",
   "id": "0",
   "metadata": {},
   "source": [
    "# Introduction"
   ]
  },
  {
   "cell_type": "code",
   "execution_count": null,
   "id": "1",
   "metadata": {},
   "outputs": [],
   "source": [
    "import numpy as np\n",
    "from matplotlib import pyplot as plt\n",
    "from curvey import Curve, Curves"
   ]
  },
  {
   "cell_type": "code",
   "execution_count": null,
   "id": "2",
   "metadata": {},
   "outputs": [],
   "source": [
    "plt.rcParams[\"figure.figsize\"] = (3, 3)\n",
    "plt.rcParams[\"axes.titlesize\"] = 10\n",
    "plt.rcParams[\"axes.labelsize\"] = 8\n",
    "plt.rcParams[\"xtick.labelsize\"] = 8\n",
    "plt.rcParams[\"ytick.labelsize\"] = 8"
   ]
  },
  {
   "cell_type": "markdown",
   "id": "3",
   "metadata": {},
   "source": [
    "## Basics"
   ]
  },
  {
   "cell_type": "markdown",
   "id": "4",
   "metadata": {},
   "source": [
    "A `Curve` is defined and constructed its vertex coordinates:"
   ]
  },
  {
   "cell_type": "code",
   "execution_count": null,
   "id": "5",
   "metadata": {},
   "outputs": [],
   "source": [
    "triangle = Curve([[0, 0], [1, 0], [1, 1]])\n",
    "_ = triangle.plot()"
   ]
  },
  {
   "cell_type": "markdown",
   "id": "6",
   "metadata": {},
   "source": [
    "Note: all of the `curvey` plotting routines return matplotlib handles to the plotted object; they're assigned throughout these tutorials to the discarded variable `_` to avoid clutter.\n",
    "\n",
    "The vertex coordinates can be accessed by the `points` property (they've been converted to a numpy array automatically.)"
   ]
  },
  {
   "cell_type": "code",
   "execution_count": null,
   "id": "7",
   "metadata": {},
   "outputs": [],
   "source": [
    "triangle.points"
   ]
  },
  {
   "cell_type": "markdown",
   "id": "8",
   "metadata": {},
   "source": [
    "Note: the curve is only implicitly closed; there is an assumed edge between the last point and the first. \n",
    "\n",
    "A `Curve` with `n` vertices has `n` edges. \n",
    "\n",
    "Edges are directed, giving the curve an *orientation*. We can visualize the orientation with `Curve.plot_edges`, which draws each edge as a little arrow. By default, edges are colored by their cumulative length:"
   ]
  },
  {
   "cell_type": "code",
   "execution_count": null,
   "id": "9",
   "metadata": {},
   "outputs": [],
   "source": [
    "circle = Curve.circle(n=16, r=1)\n",
    "_ = circle.plot_edges()"
   ]
  },
  {
   "attachments": {},
   "cell_type": "markdown",
   "id": "10",
   "metadata": {},
   "source": [
    "The curve starts at $(x=1, y=0)$ and travels counterclockwise. Curve constructors like `Curve.circle` construct the curve in counterclockwise orientation. `Curve.orientation` is `+1` for counterclockwise curves, and `-1` for clockwise. This has the same sign conventions as `Curve.signed_area`."
   ]
  },
  {
   "cell_type": "code",
   "execution_count": null,
   "id": "11",
   "metadata": {},
   "outputs": [],
   "source": [
    "circle.orientation, circle.signed_area"
   ]
  },
  {
   "cell_type": "markdown",
   "id": "12",
   "metadata": {},
   "source": [
    "`Curve.reverse()` flips the orientation; `Curve.to_ccw()` and `Curve.to_cw()` do so as appropriate."
   ]
  },
  {
   "cell_type": "code",
   "execution_count": null,
   "id": "13",
   "metadata": {},
   "outputs": [],
   "source": [
    "elcric = circle.reverse()\n",
    "elcric.orientation, elcric.signed_area"
   ]
  },
  {
   "cell_type": "markdown",
   "id": "14",
   "metadata": {},
   "source": [
    "Geometric properties of the curve are mostly represented as curve properties, which may be scalar, vertex-valued, or edge-valued. They are computed on-demand on their first access, and cached for later reuse."
   ]
  },
  {
   "cell_type": "code",
   "execution_count": null,
   "id": "15",
   "metadata": {},
   "outputs": [],
   "source": [
    "circle.length  # A scalar"
   ]
  },
  {
   "cell_type": "code",
   "execution_count": null,
   "id": "16",
   "metadata": {},
   "outputs": [],
   "source": [
    "circle.centroid  # A two element array"
   ]
  },
  {
   "cell_type": "code",
   "execution_count": null,
   "id": "17",
   "metadata": {},
   "outputs": [],
   "source": [
    "circle.edge_length  # A length-`n` vector of edge lengths"
   ]
  },
  {
   "cell_type": "code",
   "execution_count": null,
   "id": "18",
   "metadata": {},
   "outputs": [],
   "source": [
    "circle.tangent  # A (`n`, 2) array of tangent directions"
   ]
  },
  {
   "cell_type": "markdown",
   "id": "19",
   "metadata": {},
   "source": [
    "Curve transformations like `Curve.scale` are methods that return a new curve:"
   ]
  },
  {
   "cell_type": "code",
   "execution_count": null,
   "id": "20",
   "metadata": {},
   "outputs": [],
   "source": [
    "bigger_circle = circle.scale(1.5)\n",
    "circle.plot(color=\"red\")\n",
    "bigger_circle.plot(color=\"blue\");"
   ]
  },
  {
   "cell_type": "markdown",
   "id": "21",
   "metadata": {},
   "source": [
    "## Plotting"
   ]
  },
  {
   "cell_type": "markdown",
   "id": "22",
   "metadata": {},
   "source": [
    "In addition to `Curve.plot` and `Curve.plot_edges`, already demonstrated, there is also `Curve.plot_points` and `Curve.plot_vectors`."
   ]
  },
  {
   "cell_type": "code",
   "execution_count": null,
   "id": "23",
   "metadata": {},
   "outputs": [],
   "source": [
    "c = Curve.ellipse(n=20, ra=1, rb=2)\n",
    "fig, axs = plt.subplots(1, 5, figsize=(8, 3), sharex=True, sharey=True)\n",
    "\n",
    "_ = c.plot(ax=axs[0], color=\"black\")\n",
    "_ = c.plot_edges(\n",
    "    ax=axs[1],\n",
    "    directed=True,\n",
    "    color=c.arclength,\n",
    "    width=0.02,\n",
    ")\n",
    "_ = c.plot_edges(\n",
    "    ax=axs[2],\n",
    "    directed=False,\n",
    "    color=c.arclength,\n",
    "    width=1 / np.abs(c.curvature),\n",
    "    scale_width=(1, 10),\n",
    ")\n",
    "_ = c.plot_points(\n",
    "    ax=axs[3],\n",
    "    color=c.arclength,\n",
    "    size=c.dual_edge_length,\n",
    "    scale_sz=(3, 64),\n",
    ")\n",
    "_ = c.plot_vectors(\n",
    "    ax=axs[4],\n",
    "    vectors=c.normal,\n",
    "    scale=c.curvature,\n",
    "    scale_length=(0.2, 1),\n",
    "    color=c.arclength,\n",
    "    width=0.02,\n",
    ")\n",
    "titles = (\n",
    "    \"plot\",\n",
    "    \"plot_edges[directed]\",\n",
    "    \"plot_edges[undirected]\",\n",
    "    \"plot_points\",\n",
    "    \"plot_vectors\",\n",
    ")\n",
    "for ax, ttl in zip(axs, titles):\n",
    "    ax.set_title(ttl, fontsize=\"10\")\n",
    "    ax.axis(\"off\")\n",
    "    ax.axis(\"scaled\")\n",
    "\n",
    "fig.tight_layout()"
   ]
  },
  {
   "cell_type": "markdown",
   "id": "24",
   "metadata": {},
   "source": [
    "## Metadata\n",
    "\n",
    "`Curve.with_data` can be used to attach or overwrite arbitrary metadata to a curve, which persists through transformations."
   ]
  },
  {
   "cell_type": "code",
   "execution_count": null,
   "id": "25",
   "metadata": {},
   "outputs": [],
   "source": [
    "c0 = Curve.star(n=6, r0=1, r1=1.5)\n",
    "c1 = c0.with_data(name=\"mystar\", max_radius=1.5)\n",
    "c2 = c1.scale(2).with_data(max_radius=3)\n",
    "for c in (c0, c1, c2):\n",
    "    print(c)"
   ]
  },
  {
   "cell_type": "markdown",
   "id": "26",
   "metadata": {},
   "source": [
    "Metadata can be accessed by indexing by the property name:"
   ]
  },
  {
   "cell_type": "code",
   "execution_count": null,
   "id": "27",
   "metadata": {},
   "outputs": [],
   "source": [
    "c1[\"max_radius\"]"
   ]
  },
  {
   "cell_type": "markdown",
   "id": "28",
   "metadata": {},
   "source": [
    "Or as a read-only `dict` via the `Curve.data` property:"
   ]
  },
  {
   "cell_type": "code",
   "execution_count": null,
   "id": "29",
   "metadata": {},
   "outputs": [],
   "source": [
    "c0.data"
   ]
  },
  {
   "cell_type": "markdown",
   "id": "30",
   "metadata": {},
   "source": [
    "## Curves\n",
    "\n",
    "The `Curves` class is used for storing multiple curves. The constructor accepts an iterator of `Curve`s."
   ]
  },
  {
   "cell_type": "code",
   "execution_count": null,
   "id": "31",
   "metadata": {},
   "outputs": [],
   "source": [
    "n = 5\n",
    "curves = Curves(\n",
    "    Curve.circle(20, r=r).with_data(radius=r, shape=\"circle\") for r in np.linspace(1, 2, n)\n",
    ")\n",
    "curves"
   ]
  },
  {
   "cell_type": "markdown",
   "id": "32",
   "metadata": {},
   "source": [
    "`Curves.subplots` constructs subplots for quick inspection:"
   ]
  },
  {
   "cell_type": "code",
   "execution_count": null,
   "id": "33",
   "metadata": {},
   "outputs": [],
   "source": [
    "_ = curves.subplots(subtitle=\"radius\", figsize=(8, 3))"
   ]
  },
  {
   "cell_type": "markdown",
   "id": "34",
   "metadata": {},
   "source": [
    "`Curves.superimposed` does the same thing in a single axis:"
   ]
  },
  {
   "cell_type": "code",
   "execution_count": null,
   "id": "35",
   "metadata": {},
   "outputs": [],
   "source": [
    "_ = curves.superimposed(color=\"radius\")  # Color by the metadata property 'radius'"
   ]
  },
  {
   "cell_type": "markdown",
   "id": "36",
   "metadata": {},
   "source": [
    "`Curves` can be iterated over:"
   ]
  },
  {
   "cell_type": "code",
   "execution_count": null,
   "id": "37",
   "metadata": {},
   "outputs": [],
   "source": [
    "for c in curves:\n",
    "    print(c)"
   ]
  },
  {
   "attachments": {},
   "cell_type": "markdown",
   "id": "38",
   "metadata": {},
   "source": [
    "and can be indexed like lists or numpy arrays, e.g. `curves[1]` returns the second dict and `curves[::2]` returns a new `Curves` containing every second curve in the original. Curve metadata can be collected by indexing with the property name:`"
   ]
  },
  {
   "cell_type": "code",
   "execution_count": null,
   "id": "39",
   "metadata": {},
   "outputs": [],
   "source": [
    "curves[\"radius\"]"
   ]
  },
  {
   "cell_type": "markdown",
   "id": "40",
   "metadata": {},
   "source": [
    "or a function:"
   ]
  },
  {
   "cell_type": "code",
   "execution_count": null,
   "id": "41",
   "metadata": {},
   "outputs": [],
   "source": [
    "curves[lambda c: 2 * c.length]"
   ]
  },
  {
   "cell_type": "markdown",
   "id": "42",
   "metadata": {},
   "source": [
    "or more generally with `Curves.get_data` in order to supply default values if not all curves have the requested metadata."
   ]
  }
 ],
 "metadata": {
  "kernelspec": {
   "display_name": "Python 3 (ipykernel)",
   "language": "python",
   "name": "python3"
  },
  "language_info": {
   "codemirror_mode": {
    "name": "ipython",
    "version": 3
   },
   "file_extension": ".py",
   "mimetype": "text/x-python",
   "name": "python",
   "nbconvert_exporter": "python",
   "pygments_lexer": "ipython3",
   "version": "3.12.2"
  }
 },
 "nbformat": 4,
 "nbformat_minor": 5
}
