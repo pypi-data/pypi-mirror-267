{
 "cells": [
  {
   "cell_type": "markdown",
   "id": "0",
   "metadata": {},
   "source": [
    "# Flows\n",
    "\n",
    "Flows are used to evolve a curve over time. Specific flows are subclasses of the abstract superclass `curvey.flow.Flow`."
   ]
  },
  {
   "cell_type": "code",
   "execution_count": null,
   "id": "1",
   "metadata": {},
   "outputs": [],
   "source": [
    "import numpy as np\n",
    "from matplotlib import pyplot as plt\n",
    "\n",
    "from curvey import Curve, Curves\n",
    "from curvey.shape_structure_dataset import ShapeStructureDataset\n",
    "from curvey.flow import (\n",
    "    CurveShorteningFlow,\n",
    "    SingularityFreeMeanCurvatureFlow,\n",
    "    WillmoreFlow,\n",
    ")"
   ]
  },
  {
   "cell_type": "code",
   "execution_count": null,
   "id": "2",
   "metadata": {},
   "outputs": [],
   "source": [
    "plt.rcParams[\"axes.titlesize\"] = 10"
   ]
  },
  {
   "cell_type": "markdown",
   "id": "3",
   "metadata": {},
   "source": [
    "## Curve shortening flow\n",
    "The simplest form implemented in curvey is Curve Shortening Flow, which moves curve vertices in the direction of the vertex normal, scaled by the curvature at that vertex. For a cool interactive demonstration of CSF, see [https://a.carapetis.com/csf/]()."
   ]
  },
  {
   "cell_type": "markdown",
   "id": "4",
   "metadata": {},
   "source": [
    "Flows are calculated with an auxillary `Solver` object constructed by the `Flow.solver` method:"
   ]
  },
  {
   "cell_type": "code",
   "execution_count": null,
   "id": "5",
   "metadata": {},
   "outputs": [],
   "source": [
    "dumbbell = Curve.dumbbell(n=100, rx=1.25).rotate(np.pi / 2)\n",
    "csf = CurveShorteningFlow()\n",
    "solver = csf.solver(\n",
    "    initial=dumbbell,\n",
    "    timestep=1e-3,\n",
    "    max_step=300,\n",
    ")\n",
    "solver.run()  # returns the same solver object for convenience"
   ]
  },
  {
   "cell_type": "markdown",
   "id": "6",
   "metadata": {},
   "source": [
    "By default, the solver stores the curve at each timestep during the run in its `history` property, a `curvey.Curves` object."
   ]
  },
  {
   "cell_type": "code",
   "execution_count": null,
   "id": "7",
   "metadata": {},
   "outputs": [],
   "source": [
    "solver.history"
   ]
  },
  {
   "cell_type": "markdown",
   "id": "8",
   "metadata": {},
   "source": [
    " Under curve-shortening flow, the curve should smooth out and approach a circle, eventually collapsing into a round point. Plotted on the left below is the curve roundness $P^2/ {4 \\pi A}$ for perimeter $P$ and area $A$, which should be 1.0 for a perfect circle and greater than 1 otherwise"
   ]
  },
  {
   "cell_type": "code",
   "execution_count": null,
   "id": "9",
   "metadata": {},
   "outputs": [],
   "source": [
    "fig = plt.figure(layout=\"constrained\", figsize=(7, 3))\n",
    "subfigs = fig.subfigures(1, 2, wspace=0.07, width_ratios=[1, 1])\n",
    "ax0 = subfigs[0].subplots()\n",
    "solver.history.plot(y=\"roundness\", x=\"step\", label_axes=True, ax=ax0)\n",
    "\n",
    "axs1 = subfigs[1].subplots(2, 3, sharex=True, sharey=True)\n",
    "solver.history.subplots(subtitle=\"step\", axs=axs1);"
   ]
  },
  {
   "cell_type": "markdown",
   "id": "10",
   "metadata": {},
   "source": [
    "A difficulty with CSF is that it can be numerically unstable; by default the curve is resampled each iteration to maintain a uniform distribution of vertices. With resampling off, we can see the flow break down:"
   ]
  },
  {
   "cell_type": "code",
   "execution_count": null,
   "id": "11",
   "metadata": {},
   "outputs": [],
   "source": [
    "_ = (\n",
    "    CurveShorteningFlow(resample_mode=None)\n",
    "    .solver(\n",
    "        initial=dumbbell,\n",
    "        timestep=1e-3,\n",
    "        max_step=500,\n",
    "    )\n",
    "    .run()\n",
    "    .history.subplots(1, 5, subtitle=\"step\", figsize=(6, 3))\n",
    ")"
   ]
  },
  {
   "cell_type": "markdown",
   "id": "12",
   "metadata": {},
   "source": [
    "## Singularity-free mean curvature flow\n",
    "\n",
    "An implementation of [*Can Mean-Curvature Flow Be Made Non-Singular?* Michael Kazhdan, Jake Solomon, and Mirela Ben-Chen.\n",
    "2012.](https://arxiv.org/abs/1203.6819) It's much more stable and doesn't require reparametrization:"
   ]
  },
  {
   "cell_type": "code",
   "execution_count": null,
   "id": "13",
   "metadata": {},
   "outputs": [],
   "source": [
    "_ = (\n",
    "    SingularityFreeMeanCurvatureFlow()\n",
    "    .solver(\n",
    "        initial=dumbbell,\n",
    "        timestep=0.1,\n",
    "        max_step=500,\n",
    "    )\n",
    "    .run()\n",
    "    .history.subplots(\n",
    "        n_cols=5,\n",
    "        subtitle=\"step\",\n",
    "        figsize=(6, 3),\n",
    "    )\n",
    ")"
   ]
  },
  {
   "cell_type": "markdown",
   "id": "14",
   "metadata": {},
   "source": [
    "## Willmore flow\n",
    "\n",
    "An implementation of [*Robust Fairing via Conformal Curvature Flow.* Keenan Crane, Ulrich Pinkall, and Peter Schröder. 2014.](\n",
    "https://www.cs.cmu.edu/~kmcrane/Projects/ConformalWillmoreFlow/paper.pdf) Willmore flow operates on vertex curvatures, rather than vertex coordinates, and is faster because it can take much larger timesteps. Because it operates isometrically, the curve doesn't shrink but instead maintains its total length. In this example, instead of specifying a `timestep` and `max_step`, we'll specify a `stop_tol` which allows \n",
    "the solver to automatically determine an adaptive step-size and stopping condition from the energy gradient."
   ]
  },
  {
   "cell_type": "code",
   "execution_count": null,
   "id": "15",
   "metadata": {},
   "outputs": [],
   "source": [
    "wf = WillmoreFlow()\n",
    "circle_solver = wf.solver(initial=dumbbell, stop_tol=1e-3).run()\n",
    "\n",
    "fig = plt.figure(layout=\"constrained\", figsize=(7, 3))\n",
    "subfigs = fig.subfigures(1, 2, wspace=0.07, width_ratios=[1, 1])\n",
    "ax0 = subfigs[0].subplots()\n",
    "circle_solver.history.plot(y=\"willmore_energy\", x=\"time\", label_axes=True, ax=ax0, marker=\"o\")\n",
    "\n",
    "axs1 = subfigs[1].subplots(2, 3, sharex=True, sharey=True)\n",
    "circle_solver.history.subplots(subtitle=\"step\", axs=axs1);"
   ]
  },
  {
   "cell_type": "markdown",
   "id": "16",
   "metadata": {},
   "source": [
    "### Filtered Willmore flow\n",
    "`WillmoreFlow` accepts two filter arguments `filter_width` and `filter_shape`. These are the $\\sigma$ and $k$ parameters in the Crane et al. paper. (Section 4, see Figure 8.) They shape the flow by filtering out high or low frequency curvature changes, depending on the `filter_shape` parameter."
   ]
  },
  {
   "cell_type": "code",
   "execution_count": null,
   "id": "17",
   "metadata": {},
   "outputs": [],
   "source": [
    "dataset = ShapeStructureDataset(\"~/Downloads/ShapesJSON.zip\")\n",
    "dino = dataset.load_curve(\"dino\")\n",
    "\n",
    "filter_shapes = (0, 1, 3)\n",
    "n_shapes = len(filter_shapes)\n",
    "n_steps = 5\n",
    "sz = 1.5\n",
    "fig, axs = plt.subplots(\n",
    "    nrows=n_shapes,\n",
    "    ncols=n_steps,\n",
    "    figsize=(sz * n_steps, sz * n_shapes),\n",
    ")\n",
    "\n",
    "for i, filter_shape in enumerate(filter_shapes):\n",
    "    wf = WillmoreFlow(filter_width=0.1, filter_shape=filter_shape)\n",
    "    solver = wf.solver(initial=dino, max_step=n_steps, timestep=0.075)\n",
    "    solver.run()\n",
    "    solver.history.subplots(axs=axs[[i], :], plot_fn=Curve.plot, show_axes=False)\n",
    "\n",
    "for i in range(n_steps):\n",
    "    axs[0, i].set_title(f\"step = {i}\")\n",
    "\n",
    "for i, k in enumerate(filter_shapes):\n",
    "    axs[i, 0].set_ylabel(f\"k = {k}\")"
   ]
  },
  {
   "cell_type": "markdown",
   "id": "18",
   "metadata": {},
   "source": [
    "### Targeted Willmore flow\n",
    "Instead of flowing down the gradient of Wilmore energy $\\kappa^2$, we can supply a target curvature and flow down the gradient \n",
    "$(\\kappa - \\kappa_{\\text {target}})^2$"
   ]
  },
  {
   "cell_type": "code",
   "execution_count": null,
   "id": "19",
   "metadata": {},
   "outputs": [],
   "source": [
    "# Start from the circle we just flowed to in the last example\n",
    "circle = circle_solver.current\n",
    "\n",
    "# Resample to make sure we have uniform distribution of edge lengths\n",
    "circle = circle.interpolate_n(n=circle.n)\n",
    "\n",
    "# Construct a target with the same total length and number of vertices\n",
    "star = Curve.star(n=5, r0=0.75, r1=1.5).interpolate_n(n=circle.n).to_length(circle.length)\n",
    "\n",
    "# Flow from the circle to the star\n",
    "wf = WillmoreFlow(tgt_curvature=star.curvature)\n",
    "tgt_solver = wf.solver(initial=circle, max_step=10).run()"
   ]
  },
  {
   "cell_type": "code",
   "execution_count": null,
   "id": "20",
   "metadata": {},
   "outputs": [],
   "source": [
    "fig = plt.figure(layout=\"constrained\", figsize=(7, 3))\n",
    "subfigs = fig.subfigures(1, 2, wspace=0.07, width_ratios=[1, 1])\n",
    "ax0 = subfigs[0].subplots()\n",
    "tgt_solver.history.plot(\n",
    "    y=\"willmore_energy\",\n",
    "    x=\"step\",\n",
    "    label_axes=True,\n",
    "    ax=ax0,\n",
    "    marker=\"o\",\n",
    ")\n",
    "\n",
    "axs1 = subfigs[1].subplots(3, 4, sharex=True, sharey=True)\n",
    "tgt_solver.history.subplots(subtitle=\"step\", axs=axs1)\n",
    "# Plot the target in the last axes for comparison\n",
    "# Account for rotation/translation\n",
    "aligned = star.align_to(tgt_solver.history[-1])\n",
    "last_ax = axs1.flatten()[-1]\n",
    "_ = aligned.plot_edges(directed=False, ax=last_ax)\n",
    "_ = last_ax.set_title(\"Target\")"
   ]
  }
 ],
 "metadata": {
  "kernelspec": {
   "display_name": "Python 3 (ipykernel)",
   "language": "python",
   "name": "python3"
  },
  "language_info": {
   "codemirror_mode": {
    "name": "ipython",
    "version": 3
   },
   "file_extension": ".py",
   "mimetype": "text/x-python",
   "name": "python",
   "nbconvert_exporter": "python",
   "pygments_lexer": "ipython3",
   "version": "3.12.2"
  }
 },
 "nbformat": 4,
 "nbformat_minor": 5
}
