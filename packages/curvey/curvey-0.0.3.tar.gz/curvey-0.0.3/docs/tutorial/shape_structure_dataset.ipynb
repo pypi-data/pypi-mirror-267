{
 "cells": [
  {
   "cell_type": "code",
   "execution_count": null,
   "id": "0",
   "metadata": {},
   "outputs": [],
   "source": [
    "import numpy as np\n",
    "from matplotlib import pyplot as plt\n",
    "from curvey.shape_structure_dataset import ShapeStructureDataset"
   ]
  },
  {
   "cell_type": "markdown",
   "id": "1",
   "metadata": {},
   "source": [
    "The [2D Shape Structure Dataset](https://2dshapesstructure.github.io/index.html) makes for a useful source of curves for testing shape interpolation.\n",
    "\n",
    "Download the shapes zip file [here](https://2dshapesstructure.github.io/data/ShapesJSON.zip). It does not need to be unzipped.\n"
   ]
  },
  {
   "cell_type": "code",
   "execution_count": null,
   "id": "2",
   "metadata": {},
   "outputs": [],
   "source": [
    "dataset = ShapeStructureDataset(\"~/Downloads/ShapesJSON.zip\")"
   ]
  },
  {
   "cell_type": "markdown",
   "id": "3",
   "metadata": {},
   "source": [
    "All classes in the dataset:"
   ]
  },
  {
   "cell_type": "code",
   "execution_count": null,
   "id": "4",
   "metadata": {},
   "outputs": [],
   "source": [
    "print(\", \".join(dataset.class_names))"
   ]
  },
  {
   "cell_type": "markdown",
   "id": "5",
   "metadata": {},
   "source": [
    "For each class, there are (usually) multiple exemplars:"
   ]
  },
  {
   "cell_type": "code",
   "execution_count": null,
   "id": "6",
   "metadata": {},
   "outputs": [],
   "source": [
    "print(\", \".join(dataset.names_by_class[\"apple\"]))"
   ]
  },
  {
   "cell_type": "markdown",
   "id": "7",
   "metadata": {},
   "source": [
    "Load a curve either by its full name or its class and index:"
   ]
  },
  {
   "cell_type": "code",
   "execution_count": null,
   "id": "8",
   "metadata": {},
   "outputs": [],
   "source": [
    "dataset.load_curve(\"apple\", 6)"
   ]
  },
  {
   "cell_type": "markdown",
   "id": "9",
   "metadata": {},
   "source": [
    "Plot the first exemplar in each class:"
   ]
  },
  {
   "cell_type": "code",
   "execution_count": null,
   "id": "10",
   "metadata": {},
   "outputs": [],
   "source": [
    "n = len(dataset.class_names)\n",
    "n_cols = 10\n",
    "n_rows = int(np.ceil(n / n_cols))\n",
    "fig, ax = plt.subplots(figsize=(12, 1.2 * n_rows))\n",
    "\n",
    "for i, class_name in enumerate(dataset.class_names):\n",
    "    c = dataset.load_curve(class_name, 0).translate(\"center\")\n",
    "    max_r = np.linalg.norm(c.points, axis=1).max()\n",
    "    c = c.scale(0.35 / max_r)\n",
    "    y = i // n_cols  # This is correct\n",
    "    x = i - y * n_cols\n",
    "\n",
    "    c.translate([x, -y]).plot(color=\"black\")\n",
    "    plt.text(x, 0.4 - y, class_name, horizontalalignment=\"center\")\n",
    "\n",
    "ax.axis(\"equal\")\n",
    "ax.axis(\"off\")\n",
    "ax.set_ylim((-(n_rows - 0.5), 0.75));"
   ]
  }
 ],
 "metadata": {
  "kernelspec": {
   "display_name": "Python 3 (ipykernel)",
   "language": "python",
   "name": "python3"
  },
  "language_info": {
   "codemirror_mode": {
    "name": "ipython",
    "version": 3
   },
   "file_extension": ".py",
   "mimetype": "text/x-python",
   "name": "python",
   "nbconvert_exporter": "python",
   "pygments_lexer": "ipython3",
   "version": "3.12.2"
  }
 },
 "nbformat": 4,
 "nbformat_minor": 5
}
