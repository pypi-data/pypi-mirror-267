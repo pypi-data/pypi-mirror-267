{
 "cells": [
  {
   "cell_type": "code",
   "execution_count": null,
   "id": "0",
   "metadata": {},
   "outputs": [],
   "source": [
    "import numpy as np\n",
    "from matplotlib import pyplot as plt\n",
    "from curvey import Curve, Curves\n",
    "from curvey.shape_structure_dataset import ShapeStructureDataset\n",
    "from curvey.flow import WillmoreFlow\n",
    "from curvey.blend import Processed, CurvatureShapeBlending, LinearBlending"
   ]
  },
  {
   "cell_type": "markdown",
   "id": "1",
   "metadata": {},
   "source": [
    "To demonstrate shape blending we'll use a couple of examples from the Shape Structure Dataset:"
   ]
  },
  {
   "cell_type": "code",
   "execution_count": null,
   "id": "2",
   "metadata": {},
   "outputs": [],
   "source": [
    "dataset = ShapeStructureDataset(\"~/Downloads/ShapesJSON.zip\")\n",
    "\n",
    "# Load curves and center them so they're reasonably well-aligned,\n",
    "# make sure they have the same orientation, and resample both\n",
    "# to the same number of vertices\n",
    "src = dataset.load_curve(\"dino\", 0).translate(\"center\").to_ccw().interpolate_n(n=200)\n",
    "tgt = dataset.load_curve(\"bird\", 8).reflect(\"y\").to_ccw().translate(\"center\").interpolate_n(n=200)\n",
    "\n",
    "# Finds the best vertex in the `tgt` shape to call the first vertex, to\n",
    "# minimize the sum of square distances between corresponding vertices\n",
    "tgt = tgt.roll_to(src)\n",
    "\n",
    "_ = plt.subplots(figsize=(4, 4))\n",
    "_ = src.plot_edges(directed=False)\n",
    "_ = tgt.plot_edges(directed=False, linestyle=\"-:\")"
   ]
  },
  {
   "cell_type": "markdown",
   "id": "3",
   "metadata": {},
   "source": [
    "## Linear blending\n",
    "\n",
    "Linear blending is extremely fast and simple, and requires only that the curves have the same number of vertices. (This can be done manually as above, or with `JointSampled.to_common_vertex_count`, which will simply split edges in the fewer-vertices curve until the counts match.)"
   ]
  },
  {
   "cell_type": "code",
   "execution_count": null,
   "id": "4",
   "metadata": {},
   "outputs": [],
   "source": [
    "lb = LinearBlending(src, tgt)\n",
    "lb_curves = lb.interpolate(t=np.linspace(0, 1, 5))\n",
    "_ = lb_curves.subplots(\n",
    "    figsize=(6, 4),\n",
    "    subtitle=lambda c: f\"t = {c['time']}\",\n",
    ")"
   ]
  },
  {
   "cell_type": "markdown",
   "id": "5",
   "metadata": {},
   "source": [
    "The weakness of linear blending is that it can difficult to avoid small self intersections."
   ]
  },
  {
   "cell_type": "code",
   "execution_count": null,
   "id": "6",
   "metadata": {},
   "outputs": [],
   "source": [
    "for c in lb_curves:\n",
    "    if not c.is_simple:\n",
    "        print(c)\n",
    "        print(c.edge_intersections())"
   ]
  },
  {
   "attachments": {},
   "cell_type": "markdown",
   "id": "7",
   "metadata": {},
   "source": [
    "## Curvature blending\n",
    "\n",
    "Based on [*Rapid blending of closed curves based on curvature flow.* Masahiro Hirano, Yoshihiro Watanabe, and \n",
    "Masatoshi Ishikawa. 2017.](https://www.sciencedirect.com/science/article/pii/S016783961730016X).\n",
    "\n",
    "Curvature blending uses Willmore flow. Instead of interpolating between vertex coordinates, it interpolates between vertex curvatures. For this to work, we'll need more than just the number of vertices to match—because Willmore flow operates isometrically, we'll need the total arclengths and individual edge lengths to match. The `curvey.blend.Processed` class is just a convenience class to store the original and processed copies of a curve; `CurvatureShapeBlending` will need to reference both."
   ]
  },
  {
   "cell_type": "code",
   "execution_count": null,
   "id": "8",
   "metadata": {},
   "outputs": [],
   "source": [
    "# These steps are performed by `CurvatureShapeBlending.preprocess`\n",
    "# for convenience, but done here explicitly for reference\n",
    "src1 = src.to_length(1.0)\n",
    "tgt1 = tgt.to_length(1.0)\n",
    "src1 = src1.optimize_edge_lengths_to(tgt1)\n",
    "tgt1 = tgt1.optimize_edge_lengths_to(src1)\n",
    "p_src = Processed(original=src, processed=src1)\n",
    "p_tgt = Processed(original=tgt, processed=tgt1)"
   ]
  },
  {
   "cell_type": "markdown",
   "id": "9",
   "metadata": {},
   "source": [
    "In the Hirano et al. paper, they describe first flowing from the initial source shape to the first interpolated curvatures, from that to the second, and so on to the final target shape curvatures. I've found that this approach is vulnerable to getting 'stuck' in the middle, and never really hitting the final target shape. Instead, we'll first flow the initial source shape to a circle, and then flow that circle to each interpolated curvature independently. (The original approach is still available by using the `path_dependent` argument to `CurvatureShapeBlending.interpolate`.)"
   ]
  },
  {
   "cell_type": "code",
   "execution_count": null,
   "id": "10",
   "metadata": {},
   "outputs": [],
   "source": [
    "wf = WillmoreFlow()\n",
    "solver = wf.solver(initial=p_src.processed, stop_tol=1e-3)\n",
    "circle = solver.run().current"
   ]
  },
  {
   "cell_type": "markdown",
   "id": "11",
   "metadata": {},
   "source": [
    "The `CurvatureShapeBlending` class uses target Willmore flow to flow from the initial shape, in this case that circle, to a number of intermediate curvatures $\\kappa_t = (1 - t) \\kappa_0 + t \\kappa_1$. Because it does the flow on the rescaled curves, it will then rescale the interpolated curve back to a length or area interpolated from the original curves."
   ]
  },
  {
   "cell_type": "code",
   "execution_count": null,
   "id": "12",
   "metadata": {},
   "outputs": [],
   "source": [
    "csb = CurvatureShapeBlending(\n",
    "    processed0=p_src,\n",
    "    processed1=p_tgt,\n",
    "    initial=circle,\n",
    "    flow=wf,\n",
    ")\n",
    "t_interp = np.linspace(0, 1, 5)\n",
    "curv_blend_curves = csb.interpolate(\n",
    "    t=t_interp,\n",
    "    stop_tol=1e-3,\n",
    "    interp_size=\"area\",\n",
    ")"
   ]
  },
  {
   "cell_type": "markdown",
   "id": "13",
   "metadata": {},
   "source": [
    "`CurvatureShapeBlending.interpolate` returns a `Curves` object containing the interpolated curves:"
   ]
  },
  {
   "cell_type": "code",
   "execution_count": null,
   "id": "14",
   "metadata": {},
   "outputs": [],
   "source": [
    "axs = curv_blend_curves.subplots(\n",
    "    figsize=(6, 3),\n",
    "    plot_fn=lambda c: c.plot(color=\"black\"),\n",
    "    subtitle=lambda c: f\"t = {c['time']:.02f}\",\n",
    ")\n",
    "_ = src.plot(color=\"red\", ax=axs[0, 0], alpha=0.5)\n",
    "_ = tgt.plot(color=\"red\", ax=axs[0, -1], alpha=0.5)"
   ]
  },
  {
   "cell_type": "markdown",
   "id": "15",
   "metadata": {},
   "source": [
    "The original curves are shown above in red at `t=0` and `t=1`, overlayed by the interpolated shapes, showing the curvature interpolation doesn't exactly hit its endpoint targets, but gets pretty close. (You can pass `exact_endpoints=(True, True)` to `CurvatureShapeBlending.interpolate` to have it automatically return the original curves at `t=0` and `t=1` instead of using curvature flow on those endpoints.)"
   ]
  },
  {
   "cell_type": "markdown",
   "id": "16",
   "metadata": {},
   "source": [
    "`CurvatureShapeBlending.interpolate` stores three curve metadata properties on the interpolated curves:\n",
    "- `src_error`: $e(\\tilde \\kappa - \\kappa_0)$\n",
    "- `tgt_error` $e(\\tilde \\kappa - \\kappa_1)$\n",
    "- `interp_error`$e(\\tilde \\kappa - \\kappa_t)$"
   ]
  },
  {
   "cell_type": "markdown",
   "id": "17",
   "metadata": {},
   "source": [
    "Where $\\tilde \\kappa$ is the observed curvature at that interpolation point, $\\kappa_0$ and $\\kappa_1$ are the start and end curvatures to interpolate between, and $\\kappa_t = (1 - t) \\kappa_0 + t \\kappa_1$ are the interpolated curvatures, and the error $e(\\kappa)$ is\n",
    "\n",
    "$$\n",
    "e(\\kappa) = \\left( \\sum_i \\kappa_i^2 d_i \\right) ^ {1/2}\n",
    "$$\n",
    "\n",
    "for vertex dual edge lengths $d_i$, i.e. the error is the $\\mathscr{L}^2$ norm of the difference in curvatures."
   ]
  },
  {
   "cell_type": "code",
   "execution_count": null,
   "id": "18",
   "metadata": {},
   "outputs": [],
   "source": [
    "_ = plt.subplots(figsize=(3, 3))\n",
    "curv_blend_curves.plot(\"src_error\", marker=\"o\")\n",
    "curv_blend_curves.plot(\"tgt_error\", marker=\"o\")\n",
    "curv_blend_curves.plot(\"interp_error\", marker=\"o\")\n",
    "_ = plt.gca().set_ylabel(\"error\")\n",
    "_ = plt.legend(bbox_to_anchor=(1, 0.75))"
   ]
  }
 ],
 "metadata": {
  "kernelspec": {
   "display_name": "Python 3 (ipykernel)",
   "language": "python",
   "name": "python3"
  },
  "language_info": {
   "codemirror_mode": {
    "name": "ipython",
    "version": 3
   },
   "file_extension": ".py",
   "mimetype": "text/x-python",
   "name": "python",
   "nbconvert_exporter": "python",
   "pygments_lexer": "ipython3",
   "version": "3.12.2"
  }
 },
 "nbformat": 4,
 "nbformat_minor": 5
}
