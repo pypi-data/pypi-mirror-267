{
 "cells": [
  {
   "cell_type": "markdown",
   "id": "6d707723-cdb9-4de8-89db-4c6449d09fd3",
   "metadata": {},
   "source": [
    "# Run LetterSpace model\n",
    "\n",
    "This notebook shows how to run the `LetterSpace` model to create a `LetterLedger`. After running a model for a given number of steps, the ledger contains all send letters with information of sender, recipient, their geographical positions, the \"topic\" of the letter and the timestamp at which this letter was sent. "
   ]
  },
  {
   "cell_type": "code",
   "execution_count": 1,
   "id": "1156a6b4-634d-4367-bcfe-89e8c19c99bf",
   "metadata": {},
   "outputs": [],
   "source": [
    "from scicom.randomletters.model import LetterSpace\n",
    "import pandas as pd"
   ]
  },
  {
   "cell_type": "code",
   "execution_count": 2,
   "id": "210e84d2-3622-4bbe-ae11-8801c2e3a990",
   "metadata": {},
   "outputs": [],
   "source": [
    "model = LetterSpace()"
   ]
  },
  {
   "cell_type": "code",
   "execution_count": 3,
   "id": "18d08c22-c84d-45de-9971-a14c5fbf1c19",
   "metadata": {},
   "outputs": [
    {
     "name": "stdout",
     "output_type": "stream",
     "text": [
      "CPU times: user 4.28 s, sys: 292 µs, total: 4.28 s\n",
      "Wall time: 4.28 s\n"
     ]
    }
   ],
   "source": [
    "%%time\n",
    "model.run(100)"
   ]
  },
  {
   "cell_type": "code",
   "execution_count": 4,
   "id": "af0f7ddc-a346-49d6-9f5b-825ba7f268da",
   "metadata": {},
   "outputs": [],
   "source": [
    "letterLedger = pd.DataFrame(\n",
    "    model.letterLedger,\n",
    "    columns=['sender', 'recipient', 'sender_loc', 'recipient_loc', 'topic', 'step']\n",
    ")"
   ]
  },
  {
   "cell_type": "code",
   "execution_count": 5,
   "id": "19586016-0ef9-41c0-b440-0cf36ca6136f",
   "metadata": {},
   "outputs": [
    {
     "data": {
      "text/html": [
       "<div>\n",
       "<style scoped>\n",
       "    .dataframe tbody tr th:only-of-type {\n",
       "        vertical-align: middle;\n",
       "    }\n",
       "\n",
       "    .dataframe tbody tr th {\n",
       "        vertical-align: top;\n",
       "    }\n",
       "\n",
       "    .dataframe thead th {\n",
       "        text-align: right;\n",
       "    }\n",
       "</style>\n",
       "<table border=\"1\" class=\"dataframe\">\n",
       "  <thead>\n",
       "    <tr style=\"text-align: right;\">\n",
       "      <th></th>\n",
       "      <th>sender</th>\n",
       "      <th>recipient</th>\n",
       "      <th>sender_loc</th>\n",
       "      <th>recipient_loc</th>\n",
       "      <th>topic</th>\n",
       "      <th>step</th>\n",
       "    </tr>\n",
       "  </thead>\n",
       "  <tbody>\n",
       "    <tr>\n",
       "      <th>0</th>\n",
       "      <td>89</td>\n",
       "      <td>98</td>\n",
       "      <td>[252.7953574760277, 51.833416900318305]</td>\n",
       "      <td>[250.19967693392348, 39.98213251367743]</td>\n",
       "      <td>[0.8783808416370154, 0.03417785348282997, 0.83...</td>\n",
       "      <td>0</td>\n",
       "    </tr>\n",
       "    <tr>\n",
       "      <th>1</th>\n",
       "      <td>1</td>\n",
       "      <td>4</td>\n",
       "      <td>[232.41025477741331, 139.95874666253044]</td>\n",
       "      <td>[222.63639395653047, 133.8933974323701]</td>\n",
       "      <td>[0.3701991315319983, 0.2855450807043112, 0.298...</td>\n",
       "      <td>0</td>\n",
       "    </tr>\n",
       "  </tbody>\n",
       "</table>\n",
       "</div>"
      ],
      "text/plain": [
       "   sender  recipient                                sender_loc  \\\n",
       "0      89         98   [252.7953574760277, 51.833416900318305]   \n",
       "1       1          4  [232.41025477741331, 139.95874666253044]   \n",
       "\n",
       "                             recipient_loc  \\\n",
       "0  [250.19967693392348, 39.98213251367743]   \n",
       "1  [222.63639395653047, 133.8933974323701]   \n",
       "\n",
       "                                               topic  step  \n",
       "0  [0.8783808416370154, 0.03417785348282997, 0.83...     0  \n",
       "1  [0.3701991315319983, 0.2855450807043112, 0.298...     0  "
      ]
     },
     "execution_count": 5,
     "metadata": {},
     "output_type": "execute_result"
    }
   ],
   "source": [
    "letterLedger.head(2)"
   ]
  },
  {
   "cell_type": "code",
   "execution_count": 6,
   "id": "2c6f9bb2-c90b-4361-be0b-07048e4c333e",
   "metadata": {},
   "outputs": [
    {
     "data": {
      "text/plain": [
       "(8668, 6)"
      ]
     },
     "execution_count": 6,
     "metadata": {},
     "output_type": "execute_result"
    }
   ],
   "source": [
    "letterLedger.shape"
   ]
  },
  {
   "cell_type": "code",
   "execution_count": 7,
   "id": "29c7961a-7a62-45ef-8e62-8f62532e91fa",
   "metadata": {},
   "outputs": [],
   "source": [
    "#letterLedger.to_csv('./letterLedger_run1.csv')"
   ]
  },
  {
   "cell_type": "markdown",
   "id": "f21a8958-889b-47e2-8b03-62b042faa49a",
   "metadata": {},
   "source": [
    "## Considering individual agents\n",
    "\n",
    "Each agent in the model can be accessed individually. The agents keep track of their personal topic evolution in the `topicLedger`."
   ]
  },
  {
   "cell_type": "code",
   "execution_count": 8,
   "id": "952418aa-b318-48f4-a948-afcbf785644b",
   "metadata": {},
   "outputs": [],
   "source": [
    "agents = model.schedule.agents"
   ]
  },
  {
   "cell_type": "code",
   "execution_count": 9,
   "id": "1d64fdc5-0aab-40d6-bef0-df0a1beb0807",
   "metadata": {},
   "outputs": [],
   "source": [
    "a1 = agents[0]"
   ]
  },
  {
   "cell_type": "code",
   "execution_count": 10,
   "id": "ace6c1cf-fe46-43ab-b88a-c62057d56562",
   "metadata": {},
   "outputs": [
    {
     "data": {
      "text/plain": [
       "[array([0.76091484, 0.11601375, 0.08986426]),\n",
       " array([0.76329454, 0.12553537, 0.1045508 ]),\n",
       " array([0.76412222, 0.12883078, 0.10921699])]"
      ]
     },
     "execution_count": 10,
     "metadata": {},
     "output_type": "execute_result"
    }
   ],
   "source": [
    "a1.topicLedger[:3]"
   ]
  },
  {
   "cell_type": "markdown",
   "id": "2ad6e26e-e57c-41d4-9835-647475adf0db",
   "metadata": {},
   "source": [
    "## Visualize letter network\n",
    "\n",
    "Each sending of a letter creates an edge in the social network of the model. This network can be used to visualize the final state of the letter network. "
   ]
  },
  {
   "cell_type": "code",
   "execution_count": 12,
   "id": "c7815d32-ac9e-4019-983b-bf9988b33e33",
   "metadata": {},
   "outputs": [],
   "source": [
    "import networkx as nx"
   ]
  },
  {
   "cell_type": "code",
   "execution_count": 13,
   "id": "814232ff-48bf-41dc-85f5-3a5144180507",
   "metadata": {},
   "outputs": [],
   "source": [
    "graph = model.G"
   ]
  },
  {
   "cell_type": "code",
   "execution_count": 14,
   "id": "f11aba83-cf73-4f57-8438-64b7b6452813",
   "metadata": {},
   "outputs": [],
   "source": [
    "sizes = nx.get_node_attributes(graph, 'numLettersReceived')"
   ]
  },
  {
   "cell_type": "code",
   "execution_count": 15,
   "id": "0877aad4-bbc6-4b15-a875-3449ffc57423",
   "metadata": {},
   "outputs": [],
   "source": [
    "pos = nx.spring_layout(graph)"
   ]
  },
  {
   "cell_type": "code",
   "execution_count": 16,
   "id": "4c33017e-d2d7-4e48-89be-4a2d4c605620",
   "metadata": {},
   "outputs": [
    {
     "data": {
      "image/png": "[encoded data removed]",
      "text/plain": [
       "<Figure size 640x480 with 1 Axes>"
      ]
     },
     "metadata": {},
     "output_type": "display_data"
    }
   ],
   "source": [
    "nx.draw_networkx(graph, pos=pos, node_size=list(sizes.values()), with_labels=False)"
   ]
  },
  {
   "cell_type": "markdown",
   "id": "78c95939-9ceb-44f1-8b94-bc143b8d6689",
   "metadata": {},
   "source": [
    "## Pruning\n",
    "\n",
    "A first simple approach of pruning is removing nodes with lesser numbers of received letters."
   ]
  },
  {
   "cell_type": "code",
   "execution_count": 17,
   "id": "0abc32d0-b925-44c7-abea-faf83236daa5",
   "metadata": {},
   "outputs": [
    {
     "data": {
      "text/plain": [
       "100"
      ]
     },
     "execution_count": 17,
     "metadata": {},
     "output_type": "execute_result"
    }
   ],
   "source": [
    "len(graph.nodes())"
   ]
  },
  {
   "cell_type": "code",
   "execution_count": 18,
   "id": "6089ad51-e49d-4170-8027-335f7f84216d",
   "metadata": {},
   "outputs": [],
   "source": [
    "lesserNodes = [x for x,y in sizes.items() if y < 100]"
   ]
  },
  {
   "cell_type": "code",
   "execution_count": 19,
   "id": "7e40268d-db0b-455a-ac52-1520018567b1",
   "metadata": {},
   "outputs": [],
   "source": [
    "graph2 = graph.copy()"
   ]
  },
  {
   "cell_type": "code",
   "execution_count": 20,
   "id": "0b3806d7-81b3-4668-b820-83a1a68b3108",
   "metadata": {},
   "outputs": [],
   "source": [
    "graph2.remove_nodes_from(lesserNodes)"
   ]
  },
  {
   "cell_type": "code",
   "execution_count": 21,
   "id": "36342ad3-9a52-4244-b6fb-f81dd3800406",
   "metadata": {},
   "outputs": [],
   "source": [
    "sizes2 = nx.get_node_attributes(graph2, 'numLettersReceived')\n",
    "pos2 = nx.spring_layout(graph2)"
   ]
  },
  {
   "cell_type": "code",
   "execution_count": 22,
   "id": "97715955-7f4d-44fa-9f29-f143a3c53435",
   "metadata": {},
   "outputs": [
    {
     "data": {
      "image/png": "[encoded data removed]",
      "text/plain": [
       "<Figure size 640x480 with 1 Axes>"
      ]
     },
     "metadata": {},
     "output_type": "display_data"
    }
   ],
   "source": [
    "nx.draw_networkx(graph2,pos=pos2, node_size=list(sizes2.values()), with_labels=False)"
   ]
  },
  {
   "cell_type": "code",
   "execution_count": null,
   "id": "897bef83-9f9a-41fa-aefc-b3e738ebd237",
   "metadata": {},
   "outputs": [],
   "source": []
  }
 ],
 "metadata": {
  "kernelspec": {
   "display_name": "Python 3 (ipykernel)",
   "language": "python",
   "name": "python3"
  },
  "language_info": {
   "codemirror_mode": {
    "name": "ipython",
    "version": 3
   },
   "file_extension": ".py",
   "mimetype": "text/x-python",
   "name": "python",
   "nbconvert_exporter": "python",
   "pygments_lexer": "ipython3",
   "version": "3.10.6"
  }
 },
 "nbformat": 4,
 "nbformat_minor": 5
}
