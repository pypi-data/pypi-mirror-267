{
 "cells": [
  {
   "cell_type": "code",
   "execution_count": null,
   "metadata": {},
   "outputs": [],
   "source": [
    "!pip install oogway_py\n",
    "\n",
    "import os \n",
    "\n",
    "import sys\n",
    "import oogway_py as oogway\n",
    "\n",
    "os.environ['OPENAI_API_KEY'] = \"<YOUR KEY>\"\n",
    "\n",
    "ai = oogway.Oogway()\n",
    "\n",
    "# change model name from python\n",
    "\n",
    "ai.model_name = \"gpt-4-0125-preview\"\n",
    "\n",
    "async def talk_to_oogway(question: str):\n",
    "        print(f\"\\n> You : {question}\");\n",
    "        while True:\n",
    "            print(\"\\n> Oogway : \", end=\"\");\n",
    "            # python async generator for chunk streaming\n",
    "            async for chunk in ai.ask(question):\n",
    "                sys.stdout.write(chunk)\n",
    "                sys.stdout.flush()\n",
    "            question = input(\"\\n\\n> You: \")\n",
    "\n",
    "await talk_to_oogway(\"why is life?\")"
   ]
  }
 ],
 "metadata": {
  "language_info": {
   "name": "python"
  }
 },
 "nbformat": 4,
 "nbformat_minor": 2
}
