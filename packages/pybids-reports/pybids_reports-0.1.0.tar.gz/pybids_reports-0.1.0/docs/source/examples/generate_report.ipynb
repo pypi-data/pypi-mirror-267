{
 "cells": [
  {
   "cell_type": "markdown",
   "id": "df0b3e95-c3f7-4158-8e90-09cb1d67425b",
   "metadata": {},
   "source": [
    "# Generate a dataset report\n",
    "\n",
    "Here we generate a methods writeup from a synthetic test dataset using `BIDSReport`."
   ]
  },
  {
   "cell_type": "code",
   "execution_count": 1,
   "id": "4438f0cb-216a-4cb0-afa1-9991a90eaed1",
   "metadata": {
    "tags": []
   },
   "outputs": [],
   "source": [
    "from os.path import join\n",
    "\n",
    "import rich\n",
    "from bids.layout import BIDSLayout\n",
    "from bids.tests import get_test_data_path"
   ]
  },
  {
   "cell_type": "code",
   "execution_count": 2,
   "id": "f95fc530-40f2-4596-ade8-a764869f4312",
   "metadata": {
    "tags": []
   },
   "outputs": [],
   "source": [
    "layout = BIDSLayout(join(get_test_data_path(), \"synthetic\"))"
   ]
  },
  {
   "cell_type": "code",
   "execution_count": 3,
   "id": "12072a21-bfc6-4b48-a1c5-3d60ee4776dd",
   "metadata": {
    "tags": []
   },
   "outputs": [
    {
     "name": "stderr",
     "output_type": "stream",
     "text": [
      "/home/remi/github/bids/pybids-reports/env/lib/python3.11/site-packages/bids/layout/models.py:229: UserWarning: Accessing entities as attributes is deprecated as of 0.7. Please use the .entities dictionary instead (i.e., .entities['run'] instead of .run.\n",
      "  warnings.warn(\"Accessing entities as attributes is deprecated as \"\n"
     ]
    },
    {
     "data": {
      "text/html": [
       "<pre style=\"white-space:pre;overflow-x:auto;line-height:normal;font-family:Menlo,'DejaVu Sans Mono',consolas,'Courier New',monospace\"><span style=\"color: #7fbfbf; text-decoration-color: #7fbfbf\">[15:55:32] </span><span style=\"color: #000080; text-decoration-color: #000080\">INFO    </span> Number of patterns detected: <span style=\"color: #008080; text-decoration-color: #008080; font-weight: bold\">1</span>                                                    <a href=\"file:///home/remi/github/bids/pybids-reports/env/lib/python3.11/site-packages/bids/ext/reports/report.py\" target=\"_blank\"><span style=\"color: #7f7f7f; text-decoration-color: #7f7f7f\">report.py</span></a><span style=\"color: #7f7f7f; text-decoration-color: #7f7f7f\">:</span><a href=\"file:///home/remi/github/bids/pybids-reports/env/lib/python3.11/site-packages/bids/ext/reports/report.py#182\" target=\"_blank\"><span style=\"color: #7f7f7f; text-decoration-color: #7f7f7f\">182</span></a>\n",
       "</pre>\n"
      ],
      "text/plain": [
       "\u001b[2;36m[15:55:32]\u001b[0m\u001b[2;36m \u001b[0m\u001b[34mINFO    \u001b[0m Number of patterns detected: \u001b[1;36m1\u001b[0m                                                    \u001b]8;id=814046;file:///home/remi/github/bids/pybids-reports/env/lib/python3.11/site-packages/bids/ext/reports/report.py\u001b\\\u001b[2mreport.py\u001b[0m\u001b]8;;\u001b\\\u001b[2m:\u001b[0m\u001b]8;id=132094;file:///home/remi/github/bids/pybids-reports/env/lib/python3.11/site-packages/bids/ext/reports/report.py#182\u001b\\\u001b[2m182\u001b[0m\u001b]8;;\u001b\\\n"
      ]
     },
     "metadata": {},
     "output_type": "display_data"
    },
    {
     "data": {
      "text/html": [
       "<pre style=\"white-space:pre;overflow-x:auto;line-height:normal;font-family:Menlo,'DejaVu Sans Mono',consolas,'Courier New',monospace\"><span style=\"color: #7fbfbf; text-decoration-color: #7fbfbf\">           </span><span style=\"color: #000080; text-decoration-color: #000080\">INFO    </span> Remember to double-check everything and to replace <span style=\"font-weight: bold\">&lt;</span><span style=\"color: #ff00ff; text-decoration-color: #ff00ff; font-weight: bold\">deg</span><span style=\"font-weight: bold\">&gt;</span> with a degree symbol.    <a href=\"file:///home/remi/github/bids/pybids-reports/env/lib/python3.11/site-packages/bids/ext/reports/report.py\" target=\"_blank\"><span style=\"color: #7f7f7f; text-decoration-color: #7f7f7f\">report.py</span></a><span style=\"color: #7f7f7f; text-decoration-color: #7f7f7f\">:</span><a href=\"file:///home/remi/github/bids/pybids-reports/env/lib/python3.11/site-packages/bids/ext/reports/report.py#184\" target=\"_blank\"><span style=\"color: #7f7f7f; text-decoration-color: #7f7f7f\">184</span></a>\n",
       "</pre>\n"
      ],
      "text/plain": [
       "\u001b[2;36m          \u001b[0m\u001b[2;36m \u001b[0m\u001b[34mINFO    \u001b[0m Remember to double-check everything and to replace \u001b[1m<\u001b[0m\u001b[1;95mdeg\u001b[0m\u001b[1m>\u001b[0m with a degree symbol.    \u001b]8;id=661173;file:///home/remi/github/bids/pybids-reports/env/lib/python3.11/site-packages/bids/ext/reports/report.py\u001b\\\u001b[2mreport.py\u001b[0m\u001b]8;;\u001b\\\u001b[2m:\u001b[0m\u001b]8;id=569816;file:///home/remi/github/bids/pybids-reports/env/lib/python3.11/site-packages/bids/ext/reports/report.py#184\u001b\\\u001b[2m184\u001b[0m\u001b]8;;\u001b\\\n"
      ]
     },
     "metadata": {},
     "output_type": "display_data"
    }
   ],
   "source": [
    "from bids.ext.reports import BIDSReport\n",
    "\n",
    "report = BIDSReport(layout)\n",
    "counter = report.generate(session=\"01\")"
   ]
  },
  {
   "cell_type": "code",
   "execution_count": 4,
   "id": "8b6b5ca9-19e8-4e3e-a53a-9ac1be39d378",
   "metadata": {
    "tags": []
   },
   "outputs": [
    {
     "data": {
      "text/html": [
       "<pre style=\"white-space:pre;overflow-x:auto;line-height:normal;font-family:Menlo,'DejaVu Sans Mono',consolas,'Courier New',monospace\">In session <span style=\"color: #008080; text-decoration-color: #008080; font-weight: bold\">01</span>, \n",
       "<span style=\"color: #008080; text-decoration-color: #008080\">MRI data were acquired using a  system.</span>\n",
       "\n",
       "<span style=\"color: #008080; text-decoration-color: #008080\">One run of   UNKNOwN SEQUENCE UNKNOWN SEQUENCE VARIANT single-echo structural MRI data were collected </span><span style=\"color: #008080; text-decoration-color: #008080; font-weight: bold\">(</span><span style=\"color: #008080; text-decoration-color: #008080\">repetition </span>\n",
       "<span style=\"color: #008080; text-decoration-color: #008080\">time, </span><span style=\"color: #008080; text-decoration-color: #008080\">TR</span><span style=\"color: #008080; text-decoration-color: #008080\">= </span><span style=\"color: #008080; text-decoration-color: #008080; font-weight: bold\">2500.0</span><span style=\"color: #008080; text-decoration-color: #008080\"> ms; flip angle, </span><span style=\"color: #008080; text-decoration-color: #008080\">FA</span><span style=\"color: #008080; text-decoration-color: #008080\">= </span><span style=\"color: #008080; text-decoration-color: #008080; font-weight: bold\">8</span><span style=\"color: #008080; text-decoration-color: #008080\">°; echo time, </span><span style=\"color: #008080; text-decoration-color: #008080\">TE</span><span style=\"color: #008080; text-decoration-color: #008080\">= </span><span style=\"color: #008080; text-decoration-color: #008080; font-weight: bold\">2.9</span><span style=\"color: #008080; text-decoration-color: #008080\"> ms; field of view </span><span style=\"color: #008080; text-decoration-color: #008080\">FOV</span><span style=\"color: #008080; text-decoration-color: #008080\">= 256x256 mm; matrix </span><span style=\"color: #008080; text-decoration-color: #008080\">size</span><span style=\"color: #008080; text-decoration-color: #008080\">= </span>\n",
       "<span style=\"color: #008080; text-decoration-color: #008080\">256x256; voxel </span><span style=\"color: #008080; text-decoration-color: #008080\">size</span><span style=\"color: #008080; text-decoration-color: #008080\">= 1x1x1 mm; UNKNOWN slices</span><span style=\"color: #008080; text-decoration-color: #008080; font-weight: bold\">)</span><span style=\"color: #008080; text-decoration-color: #008080\">.</span>\n",
       "\n",
       "<span style=\"color: #008080; text-decoration-color: #008080\">One run of   UNKNOwN SEQUENCE UNKNOWN SEQUENCE VARIANT single-echo structural MRI data were collected </span><span style=\"color: #008080; text-decoration-color: #008080; font-weight: bold\">(</span><span style=\"color: #008080; text-decoration-color: #008080\">repetition </span>\n",
       "<span style=\"color: #008080; text-decoration-color: #008080\">time, </span><span style=\"color: #008080; text-decoration-color: #008080\">TR</span><span style=\"color: #008080; text-decoration-color: #008080\">= </span><span style=\"color: #008080; text-decoration-color: #008080; font-weight: bold\">2500.0</span><span style=\"color: #008080; text-decoration-color: #008080\"> ms; flip angle, </span><span style=\"color: #008080; text-decoration-color: #008080\">FA</span><span style=\"color: #008080; text-decoration-color: #008080\">= </span><span style=\"color: #008080; text-decoration-color: #008080; font-weight: bold\">8</span><span style=\"color: #008080; text-decoration-color: #008080\">°; echo time, </span><span style=\"color: #008080; text-decoration-color: #008080\">TE</span><span style=\"color: #008080; text-decoration-color: #008080\">= </span><span style=\"color: #008080; text-decoration-color: #008080; font-weight: bold\">2.9</span><span style=\"color: #008080; text-decoration-color: #008080\"> ms; field of view </span><span style=\"color: #008080; text-decoration-color: #008080\">FOV</span><span style=\"color: #008080; text-decoration-color: #008080\">= 256x256 mm; matrix </span><span style=\"color: #008080; text-decoration-color: #008080\">size</span><span style=\"color: #008080; text-decoration-color: #008080\">= </span>\n",
       "<span style=\"color: #008080; text-decoration-color: #008080\">256x256; voxel </span><span style=\"color: #008080; text-decoration-color: #008080\">size</span><span style=\"color: #008080; text-decoration-color: #008080\">= 1x1x1 mm; UNKNOWN slices</span><span style=\"color: #008080; text-decoration-color: #008080; font-weight: bold\">)</span><span style=\"color: #008080; text-decoration-color: #008080\">.</span>\n",
       "\n",
       "<span style=\"color: #008080; text-decoration-color: #008080\">One run of  UNKNOwN SEQUENCE UNKNOWN SEQUENCE VARIANT diffusion-weighted-imaging </span><span style=\"color: #008080; text-decoration-color: #008080; font-weight: bold\">()</span><span style=\"color: #008080; text-decoration-color: #008080\"> data were collected </span><span style=\"color: #008080; text-decoration-color: #008080; font-weight: bold\">(</span><span style=\"color: #008080; text-decoration-color: #008080; font-weight: bold\">68</span><span style=\"color: #008080; text-decoration-color: #008080\"> slices;</span>\n",
       "<span style=\"color: #008080; text-decoration-color: #008080\">repetition time, </span><span style=\"color: #008080; text-decoration-color: #008080\">TR</span><span style=\"color: #008080; text-decoration-color: #008080\">= </span><span style=\"color: #008080; text-decoration-color: #008080; font-weight: bold\">8400.0</span><span style=\"color: #008080; text-decoration-color: #008080\"> ms; flip angle, </span><span style=\"color: #008080; text-decoration-color: #008080\">FA</span><span style=\"color: #008080; text-decoration-color: #008080\">= </span><span style=\"color: #008080; text-decoration-color: #008080; font-weight: bold\">90</span><span style=\"color: #008080; text-decoration-color: #008080\">°; echo time, </span><span style=\"color: #008080; text-decoration-color: #008080\">TE</span><span style=\"color: #008080; text-decoration-color: #008080\">= </span><span style=\"color: #008080; text-decoration-color: #008080; font-weight: bold\">90</span><span style=\"color: #008080; text-decoration-color: #008080\"> ms; field of view </span><span style=\"color: #008080; text-decoration-color: #008080\">FOV</span><span style=\"color: #008080; text-decoration-color: #008080\">= 128x128 mm; matrix </span>\n",
       "<span style=\"color: #008080; text-decoration-color: #008080\">size</span><span style=\"color: #008080; text-decoration-color: #008080\">= 64x64; voxel </span><span style=\"color: #008080; text-decoration-color: #008080\">size</span><span style=\"color: #008080; text-decoration-color: #008080\">= 2x2x2 mm; b-values of </span><span style=\"color: #008080; text-decoration-color: #008080; font-weight: bold\">0</span><span style=\"color: #008080; text-decoration-color: #008080\"> and </span><span style=\"color: #008080; text-decoration-color: #008080; font-weight: bold\">1000</span><span style=\"color: #008080; text-decoration-color: #008080\"> acquired; </span><span style=\"color: #008080; text-decoration-color: #008080; font-weight: bold\">64</span><span style=\"color: #008080; text-decoration-color: #008080\"> diffusion directions;  </span><span style=\"color: #008080; text-decoration-color: #008080; font-weight: bold\">)</span><span style=\"color: #008080; text-decoration-color: #008080\">.</span>\n",
       "\n",
       "\n",
       "\n",
       "<span style=\"color: #008080; text-decoration-color: #008080\">A  UNKNOwN SEQUENCE UNKNOWN SEQUENCE VARIANT field map </span><span style=\"color: #008080; text-decoration-color: #008080; font-weight: bold\">(</span><span style=\"color: #008080; text-decoration-color: #008080\">repetition time, </span><span style=\"color: #008080; text-decoration-color: #008080\">TR</span><span style=\"color: #008080; text-decoration-color: #008080\">= </span><span style=\"color: #008080; text-decoration-color: #008080; font-weight: bold\">400.0</span><span style=\"color: #008080; text-decoration-color: #008080\"> ms; flip angle, </span><span style=\"color: #008080; text-decoration-color: #008080\">FA</span><span style=\"color: #008080; text-decoration-color: #008080\">= </span><span style=\"color: #008080; text-decoration-color: #008080; font-weight: bold\">60.0</span><span style=\"color: #008080; text-decoration-color: #008080\">°; echo </span>\n",
       "<span style=\"color: #008080; text-decoration-color: #008080\">time </span><span style=\"color: #008080; text-decoration-color: #008080; font-weight: bold\">1</span><span style=\"color: #008080; text-decoration-color: #008080\"> / </span><span style=\"color: #008080; text-decoration-color: #008080; font-weight: bold\">2</span><span style=\"color: #008080; text-decoration-color: #008080\">, TE </span><span style=\"color: #008080; text-decoration-color: #008080; font-weight: bold\">1</span><span style=\"color: #008080; text-decoration-color: #008080\">/</span><span style=\"color: #008080; text-decoration-color: #008080; font-weight: bold\">2</span><span style=\"color: #008080; text-decoration-color: #008080\">= </span><span style=\"color: #008080; text-decoration-color: #008080; font-weight: bold\">519000.0</span><span style=\"color: #008080; text-decoration-color: #008080\">/</span><span style=\"color: #008080; text-decoration-color: #008080; font-weight: bold\">519000.0</span><span style=\"color: #008080; text-decoration-color: #008080\"> ms; phase encoding: anterior to posterior; field of view </span><span style=\"color: #008080; text-decoration-color: #008080\">FOV</span><span style=\"color: #008080; text-decoration-color: #008080\">= 256x256 mm; </span>\n",
       "<span style=\"color: #008080; text-decoration-color: #008080\">matrix </span><span style=\"color: #008080; text-decoration-color: #008080\">size</span><span style=\"color: #008080; text-decoration-color: #008080\">= 256x256; voxel </span><span style=\"color: #008080; text-decoration-color: #008080\">size</span><span style=\"color: #008080; text-decoration-color: #008080\">= 1x1x1 mm; UNKNOWN slices</span><span style=\"color: #008080; text-decoration-color: #008080; font-weight: bold\">)</span><span style=\"color: #008080; text-decoration-color: #008080\"> was acquired for the first and second runs of the </span>\n",
       "<span style=\"color: #008080; text-decoration-color: #008080\">N-Back BOLD scan.</span>\n",
       "\n",
       "<span style=\"color: #008080; text-decoration-color: #008080\">For the N-Back task Two runs of bold  UNKNOwN SEQUENCE UNKNOWN SEQUENCE VARIANT single-echo fMRI data were </span>\n",
       "<span style=\"color: #008080; text-decoration-color: #008080\">collected. The acquisition parameters were: UNKNOWN slices acquired in a  fashion; repetition time, </span><span style=\"color: #008080; text-decoration-color: #008080\">TR</span><span style=\"color: #008080; text-decoration-color: #008080\">= </span><span style=\"color: #008080; text-decoration-color: #008080; font-weight: bold\">2500.0</span><span style=\"color: #008080; text-decoration-color: #008080\"> ms; </span>\n",
       "<span style=\"color: #008080; text-decoration-color: #008080\">echo time, </span><span style=\"color: #008080; text-decoration-color: #008080\">TE</span><span style=\"color: #008080; text-decoration-color: #008080\">= </span><span style=\"color: #008080; text-decoration-color: #008080; font-weight: bold\">30</span><span style=\"color: #008080; text-decoration-color: #008080\"> ms;    field of view </span><span style=\"color: #008080; text-decoration-color: #008080\">FOV</span><span style=\"color: #008080; text-decoration-color: #008080\">= 128x128 mm; matrix </span><span style=\"color: #008080; text-decoration-color: #008080\">size</span><span style=\"color: #008080; text-decoration-color: #008080\">= 64x64; voxel </span><span style=\"color: #008080; text-decoration-color: #008080\">size</span><span style=\"color: #008080; text-decoration-color: #008080\">= 2x2x2 mm;</span>\n",
       "<span style=\"color: #008080; text-decoration-color: #008080\">Each run was </span><span style=\"color: #008080; text-decoration-color: #008080; font-weight: bold\">2:40</span><span style=\"color: #008080; text-decoration-color: #008080\"> minutes in length, during which </span><span style=\"color: #008080; text-decoration-color: #008080; font-weight: bold\">64</span><span style=\"color: #008080; text-decoration-color: #008080\"> functional volumes were acquired.</span>\n",
       "\n",
       "<span style=\"color: #008080; text-decoration-color: #008080\">Participants were specifically instructed to: </span>\n",
       "<span style=\"color: #008080; text-decoration-color: #008080\">For the N-Back task Two runs of bold  UNKNOwN SEQUENCE UNKNOWN SEQUENCE VARIANT single-echo fMRI data were </span>\n",
       "<span style=\"color: #008080; text-decoration-color: #008080\">collected. The acquisition parameters were: UNKNOWN slices acquired in a  fashion; repetition time, </span><span style=\"color: #008080; text-decoration-color: #008080\">TR</span><span style=\"color: #008080; text-decoration-color: #008080\">= </span><span style=\"color: #008080; text-decoration-color: #008080; font-weight: bold\">2500.0</span><span style=\"color: #008080; text-decoration-color: #008080\"> ms; </span>\n",
       "<span style=\"color: #008080; text-decoration-color: #008080\">echo time, </span><span style=\"color: #008080; text-decoration-color: #008080\">TE</span><span style=\"color: #008080; text-decoration-color: #008080\">= </span><span style=\"color: #008080; text-decoration-color: #008080; font-weight: bold\">30</span><span style=\"color: #008080; text-decoration-color: #008080\"> ms;    field of view </span><span style=\"color: #008080; text-decoration-color: #008080\">FOV</span><span style=\"color: #008080; text-decoration-color: #008080\">= 128x128 mm; matrix </span><span style=\"color: #008080; text-decoration-color: #008080\">size</span><span style=\"color: #008080; text-decoration-color: #008080\">= 64x64; voxel </span><span style=\"color: #008080; text-decoration-color: #008080\">size</span><span style=\"color: #008080; text-decoration-color: #008080\">= 2x2x2 mm;</span>\n",
       "<span style=\"color: #008080; text-decoration-color: #008080\">Each run was </span><span style=\"color: #008080; text-decoration-color: #008080; font-weight: bold\">2:40</span><span style=\"color: #008080; text-decoration-color: #008080\"> minutes in length, during which </span><span style=\"color: #008080; text-decoration-color: #008080; font-weight: bold\">64</span><span style=\"color: #008080; text-decoration-color: #008080\"> functional volumes were acquired.</span>\n",
       "\n",
       "<span style=\"color: #008080; text-decoration-color: #008080\">Participants were specifically instructed to: </span>\n",
       "<span style=\"color: #008080; text-decoration-color: #008080\">For the Rest task One run of bold  UNKNOwN SEQUENCE UNKNOWN SEQUENCE VARIANT single-echo fMRI data were collected. </span>\n",
       "<span style=\"color: #008080; text-decoration-color: #008080\">The acquisition parameters were: UNKNOWN slices acquired in a  fashion; repetition time, </span><span style=\"color: #008080; text-decoration-color: #008080\">TR</span><span style=\"color: #008080; text-decoration-color: #008080\">= </span><span style=\"color: #008080; text-decoration-color: #008080; font-weight: bold\">2500.0</span><span style=\"color: #008080; text-decoration-color: #008080\"> ms; echo time, </span>\n",
       "<span style=\"color: #008080; text-decoration-color: #008080\">TE</span><span style=\"color: #008080; text-decoration-color: #008080\">= </span><span style=\"color: #008080; text-decoration-color: #008080; font-weight: bold\">30</span><span style=\"color: #008080; text-decoration-color: #008080\"> ms;    field of view </span><span style=\"color: #008080; text-decoration-color: #008080\">FOV</span><span style=\"color: #008080; text-decoration-color: #008080\">= 128x128 mm; matrix </span><span style=\"color: #008080; text-decoration-color: #008080\">size</span><span style=\"color: #008080; text-decoration-color: #008080\">= 64x64; voxel </span><span style=\"color: #008080; text-decoration-color: #008080\">size</span><span style=\"color: #008080; text-decoration-color: #008080\">= 2x2x2 mm;</span>\n",
       "<span style=\"color: #008080; text-decoration-color: #008080\">Each run was </span><span style=\"color: #008080; text-decoration-color: #008080; font-weight: bold\">2:40</span><span style=\"color: #008080; text-decoration-color: #008080\"> minutes in length, during which </span><span style=\"color: #008080; text-decoration-color: #008080; font-weight: bold\">64</span><span style=\"color: #008080; text-decoration-color: #008080\"> functional volumes were acquired.</span>\n",
       "\n",
       "<span style=\"color: #008080; text-decoration-color: #008080\">Participants were specifically instructed to: </span>\n",
       "<span style=\"color: #008080; text-decoration-color: #008080\">For the Rest task One run of bold  UNKNOwN SEQUENCE UNKNOWN SEQUENCE VARIANT single-echo fMRI data were collected. </span>\n",
       "<span style=\"color: #008080; text-decoration-color: #008080\">The acquisition parameters were: UNKNOWN slices acquired in a  fashion; repetition time, </span><span style=\"color: #008080; text-decoration-color: #008080\">TR</span><span style=\"color: #008080; text-decoration-color: #008080\">= </span><span style=\"color: #008080; text-decoration-color: #008080; font-weight: bold\">2500.0</span><span style=\"color: #008080; text-decoration-color: #008080\"> ms; echo time, </span>\n",
       "<span style=\"color: #008080; text-decoration-color: #008080\">TE</span><span style=\"color: #008080; text-decoration-color: #008080\">= </span><span style=\"color: #008080; text-decoration-color: #008080; font-weight: bold\">30</span><span style=\"color: #008080; text-decoration-color: #008080\"> ms;    field of view </span><span style=\"color: #008080; text-decoration-color: #008080\">FOV</span><span style=\"color: #008080; text-decoration-color: #008080\">= 128x128 mm; matrix </span><span style=\"color: #008080; text-decoration-color: #008080\">size</span><span style=\"color: #008080; text-decoration-color: #008080\">= 64x64; voxel </span><span style=\"color: #008080; text-decoration-color: #008080\">size</span><span style=\"color: #008080; text-decoration-color: #008080\">= 2x2x2 mm;</span>\n",
       "<span style=\"color: #008080; text-decoration-color: #008080\">Each run was </span><span style=\"color: #008080; text-decoration-color: #008080; font-weight: bold\">2:40</span><span style=\"color: #008080; text-decoration-color: #008080\"> minutes in length, during which </span><span style=\"color: #008080; text-decoration-color: #008080; font-weight: bold\">64</span><span style=\"color: #008080; text-decoration-color: #008080\"> functional volumes were acquired.</span>\n",
       "\n",
       "<span style=\"color: #008080; text-decoration-color: #008080\">Participants were specifically instructed to: </span>\n",
       "<span style=\"color: #008080; text-decoration-color: #008080\">One run of   UNKNOwN SEQUENCE UNKNOWN SEQUENCE VARIANT single-echo structural MRI data were collected </span><span style=\"color: #008080; text-decoration-color: #008080; font-weight: bold\">(</span><span style=\"color: #008080; text-decoration-color: #008080\">repetition </span>\n",
       "<span style=\"color: #008080; text-decoration-color: #008080\">time, </span><span style=\"color: #008080; text-decoration-color: #008080\">TR</span><span style=\"color: #008080; text-decoration-color: #008080\">= </span><span style=\"color: #008080; text-decoration-color: #008080; font-weight: bold\">2500.0</span><span style=\"color: #008080; text-decoration-color: #008080\"> ms; flip angle, </span><span style=\"color: #008080; text-decoration-color: #008080\">FA</span><span style=\"color: #008080; text-decoration-color: #008080\">= </span><span style=\"color: #008080; text-decoration-color: #008080; font-weight: bold\">8</span><span style=\"color: #008080; text-decoration-color: #008080\">°; echo time, </span><span style=\"color: #008080; text-decoration-color: #008080\">TE</span><span style=\"color: #008080; text-decoration-color: #008080\">= </span><span style=\"color: #008080; text-decoration-color: #008080; font-weight: bold\">2.9</span><span style=\"color: #008080; text-decoration-color: #008080\"> ms; field of view </span><span style=\"color: #008080; text-decoration-color: #008080\">FOV</span><span style=\"color: #008080; text-decoration-color: #008080\">= 256x256 mm; matrix </span><span style=\"color: #008080; text-decoration-color: #008080\">size</span><span style=\"color: #008080; text-decoration-color: #008080\">= </span>\n",
       "<span style=\"color: #008080; text-decoration-color: #008080\">256x256; voxel </span><span style=\"color: #008080; text-decoration-color: #008080\">size</span><span style=\"color: #008080; text-decoration-color: #008080\">= 1x1x1 mm; UNKNOWN slices</span><span style=\"color: #008080; text-decoration-color: #008080; font-weight: bold\">)</span><span style=\"color: #008080; text-decoration-color: #008080\">.</span>\n",
       "\n",
       "<span style=\"color: #008080; text-decoration-color: #008080\">One run of   UNKNOwN SEQUENCE UNKNOWN SEQUENCE VARIANT single-echo structural MRI data were collected </span><span style=\"color: #008080; text-decoration-color: #008080; font-weight: bold\">(</span><span style=\"color: #008080; text-decoration-color: #008080\">repetition </span>\n",
       "<span style=\"color: #008080; text-decoration-color: #008080\">time, </span><span style=\"color: #008080; text-decoration-color: #008080\">TR</span><span style=\"color: #008080; text-decoration-color: #008080\">= </span><span style=\"color: #008080; text-decoration-color: #008080; font-weight: bold\">2500.0</span><span style=\"color: #008080; text-decoration-color: #008080\"> ms; flip angle, </span><span style=\"color: #008080; text-decoration-color: #008080\">FA</span><span style=\"color: #008080; text-decoration-color: #008080\">= </span><span style=\"color: #008080; text-decoration-color: #008080; font-weight: bold\">8</span><span style=\"color: #008080; text-decoration-color: #008080\">°; echo time, </span><span style=\"color: #008080; text-decoration-color: #008080\">TE</span><span style=\"color: #008080; text-decoration-color: #008080\">= </span><span style=\"color: #008080; text-decoration-color: #008080; font-weight: bold\">2.9</span><span style=\"color: #008080; text-decoration-color: #008080\"> ms; field of view </span><span style=\"color: #008080; text-decoration-color: #008080\">FOV</span><span style=\"color: #008080; text-decoration-color: #008080\">= 256x256 mm; matrix </span><span style=\"color: #008080; text-decoration-color: #008080\">size</span><span style=\"color: #008080; text-decoration-color: #008080\">= </span>\n",
       "<span style=\"color: #008080; text-decoration-color: #008080\">256x256; voxel </span><span style=\"color: #008080; text-decoration-color: #008080\">size</span><span style=\"color: #008080; text-decoration-color: #008080\">= 1x1x1 mm; UNKNOWN slices</span><span style=\"color: #008080; text-decoration-color: #008080; font-weight: bold\">)</span><span style=\"color: #008080; text-decoration-color: #008080\">.</span>\n",
       "\n",
       "<span style=\"color: #008080; text-decoration-color: #008080\">For the N-Back task Two runs of bold  UNKNOwN SEQUENCE UNKNOWN SEQUENCE VARIANT single-echo fMRI data were </span>\n",
       "<span style=\"color: #008080; text-decoration-color: #008080\">collected. The acquisition parameters were: UNKNOWN slices acquired in a  fashion; repetition time, </span><span style=\"color: #008080; text-decoration-color: #008080\">TR</span><span style=\"color: #008080; text-decoration-color: #008080\">= </span><span style=\"color: #008080; text-decoration-color: #008080; font-weight: bold\">2500.0</span><span style=\"color: #008080; text-decoration-color: #008080\"> ms; </span>\n",
       "<span style=\"color: #008080; text-decoration-color: #008080\">echo time, </span><span style=\"color: #008080; text-decoration-color: #008080\">TE</span><span style=\"color: #008080; text-decoration-color: #008080\">= </span><span style=\"color: #008080; text-decoration-color: #008080; font-weight: bold\">30</span><span style=\"color: #008080; text-decoration-color: #008080\"> ms;    field of view </span><span style=\"color: #008080; text-decoration-color: #008080\">FOV</span><span style=\"color: #008080; text-decoration-color: #008080\">= 128x128 mm; matrix </span><span style=\"color: #008080; text-decoration-color: #008080\">size</span><span style=\"color: #008080; text-decoration-color: #008080\">= 64x64; voxel </span><span style=\"color: #008080; text-decoration-color: #008080\">size</span><span style=\"color: #008080; text-decoration-color: #008080\">= 2x2x2 mm;</span>\n",
       "<span style=\"color: #008080; text-decoration-color: #008080\">Each run was </span><span style=\"color: #008080; text-decoration-color: #008080; font-weight: bold\">2:40</span><span style=\"color: #008080; text-decoration-color: #008080\"> minutes in length, during which </span><span style=\"color: #008080; text-decoration-color: #008080; font-weight: bold\">64</span><span style=\"color: #008080; text-decoration-color: #008080\"> functional volumes were acquired.</span>\n",
       "\n",
       "<span style=\"color: #008080; text-decoration-color: #008080\">Participants were specifically instructed to: </span>\n",
       "<span style=\"color: #008080; text-decoration-color: #008080\">For the N-Back task Two runs of bold  UNKNOwN SEQUENCE UNKNOWN SEQUENCE VARIANT single-echo fMRI data were </span>\n",
       "<span style=\"color: #008080; text-decoration-color: #008080\">collected. The acquisition parameters were: UNKNOWN slices acquired in a  fashion; repetition time, </span><span style=\"color: #008080; text-decoration-color: #008080\">TR</span><span style=\"color: #008080; text-decoration-color: #008080\">= </span><span style=\"color: #008080; text-decoration-color: #008080; font-weight: bold\">2500.0</span><span style=\"color: #008080; text-decoration-color: #008080\"> ms; </span>\n",
       "<span style=\"color: #008080; text-decoration-color: #008080\">echo time, </span><span style=\"color: #008080; text-decoration-color: #008080\">TE</span><span style=\"color: #008080; text-decoration-color: #008080\">= </span><span style=\"color: #008080; text-decoration-color: #008080; font-weight: bold\">30</span><span style=\"color: #008080; text-decoration-color: #008080\"> ms;    field of view </span><span style=\"color: #008080; text-decoration-color: #008080\">FOV</span><span style=\"color: #008080; text-decoration-color: #008080\">= 128x128 mm; matrix </span><span style=\"color: #008080; text-decoration-color: #008080\">size</span><span style=\"color: #008080; text-decoration-color: #008080\">= 64x64; voxel </span><span style=\"color: #008080; text-decoration-color: #008080\">size</span><span style=\"color: #008080; text-decoration-color: #008080\">= 2x2x2 mm;</span>\n",
       "<span style=\"color: #008080; text-decoration-color: #008080\">Each run was </span><span style=\"color: #008080; text-decoration-color: #008080; font-weight: bold\">2:40</span><span style=\"color: #008080; text-decoration-color: #008080\"> minutes in length, during which </span><span style=\"color: #008080; text-decoration-color: #008080; font-weight: bold\">64</span><span style=\"color: #008080; text-decoration-color: #008080\"> functional volumes were acquired.</span>\n",
       "\n",
       "<span style=\"color: #008080; text-decoration-color: #008080\">Participants were specifically instructed to: </span>\n",
       "<span style=\"color: #008080; text-decoration-color: #008080\">For the Rest task One run of bold  UNKNOwN SEQUENCE UNKNOWN SEQUENCE VARIANT single-echo fMRI data were collected. </span>\n",
       "<span style=\"color: #008080; text-decoration-color: #008080\">The acquisition parameters were: UNKNOWN slices acquired in a  fashion; repetition time, </span><span style=\"color: #008080; text-decoration-color: #008080\">TR</span><span style=\"color: #008080; text-decoration-color: #008080\">= </span><span style=\"color: #008080; text-decoration-color: #008080; font-weight: bold\">2500.0</span><span style=\"color: #008080; text-decoration-color: #008080\"> ms; echo time, </span>\n",
       "<span style=\"color: #008080; text-decoration-color: #008080\">TE</span><span style=\"color: #008080; text-decoration-color: #008080\">= </span><span style=\"color: #008080; text-decoration-color: #008080; font-weight: bold\">30</span><span style=\"color: #008080; text-decoration-color: #008080\"> ms;    field of view </span><span style=\"color: #008080; text-decoration-color: #008080\">FOV</span><span style=\"color: #008080; text-decoration-color: #008080\">= 128x128 mm; matrix </span><span style=\"color: #008080; text-decoration-color: #008080\">size</span><span style=\"color: #008080; text-decoration-color: #008080\">= 64x64; voxel </span><span style=\"color: #008080; text-decoration-color: #008080\">size</span><span style=\"color: #008080; text-decoration-color: #008080\">= 2x2x2 mm;</span>\n",
       "<span style=\"color: #008080; text-decoration-color: #008080\">Each run was </span><span style=\"color: #008080; text-decoration-color: #008080; font-weight: bold\">2:40</span><span style=\"color: #008080; text-decoration-color: #008080\"> minutes in length, during which </span><span style=\"color: #008080; text-decoration-color: #008080; font-weight: bold\">64</span><span style=\"color: #008080; text-decoration-color: #008080\"> functional volumes were acquired.</span>\n",
       "\n",
       "<span style=\"color: #008080; text-decoration-color: #008080\">Participants were specifically instructed to: </span>\n",
       "<span style=\"color: #008080; text-decoration-color: #008080\">For the Rest task One run of bold  UNKNOwN SEQUENCE UNKNOWN SEQUENCE VARIANT single-echo fMRI data were collected. </span>\n",
       "<span style=\"color: #008080; text-decoration-color: #008080\">The acquisition parameters were: UNKNOWN slices acquired in a  fashion; repetition time, </span><span style=\"color: #008080; text-decoration-color: #008080\">TR</span><span style=\"color: #008080; text-decoration-color: #008080\">= </span><span style=\"color: #008080; text-decoration-color: #008080; font-weight: bold\">2500.0</span><span style=\"color: #008080; text-decoration-color: #008080\"> ms; echo time, </span>\n",
       "<span style=\"color: #008080; text-decoration-color: #008080\">TE</span><span style=\"color: #008080; text-decoration-color: #008080\">= </span><span style=\"color: #008080; text-decoration-color: #008080; font-weight: bold\">30</span><span style=\"color: #008080; text-decoration-color: #008080\"> ms;    field of view </span><span style=\"color: #008080; text-decoration-color: #008080\">FOV</span><span style=\"color: #008080; text-decoration-color: #008080\">= 128x128 mm; matrix </span><span style=\"color: #008080; text-decoration-color: #008080\">size</span><span style=\"color: #008080; text-decoration-color: #008080\">= 64x64; voxel </span><span style=\"color: #008080; text-decoration-color: #008080\">size</span><span style=\"color: #008080; text-decoration-color: #008080\">= 2x2x2 mm;</span>\n",
       "<span style=\"color: #008080; text-decoration-color: #008080\">Each run was </span><span style=\"color: #008080; text-decoration-color: #008080; font-weight: bold\">2:40</span><span style=\"color: #008080; text-decoration-color: #008080\"> minutes in length, during which </span><span style=\"color: #008080; text-decoration-color: #008080; font-weight: bold\">64</span><span style=\"color: #008080; text-decoration-color: #008080\"> functional volumes were acquired.</span>\n",
       "\n",
       "<span style=\"color: #008080; text-decoration-color: #008080\">Participants were specifically instructed to: </span>\n",
       "\n",
       "Dicoms were converted to NIfTI-<span style=\"color: #008080; text-decoration-color: #008080; font-weight: bold\">1</span> format.\n",
       "</pre>\n"
      ],
      "text/plain": [
       "In session \u001b[1;36m01\u001b[0m, \n",
       "\u001b[36mMRI data were acquired using a  system.\u001b[0m\n",
       "\n",
       "\u001b[36mOne run of   UNKNOwN SEQUENCE UNKNOWN SEQUENCE VARIANT single-echo structural MRI data were collected \u001b[0m\u001b[1;36m(\u001b[0m\u001b[36mrepetition \u001b[0m\n",
       "\u001b[36mtime, \u001b[0m\u001b[36mTR\u001b[0m\u001b[36m= \u001b[0m\u001b[1;36m2500.0\u001b[0m\u001b[36m ms; flip angle, \u001b[0m\u001b[36mFA\u001b[0m\u001b[36m= \u001b[0m\u001b[1;36m8\u001b[0m\u001b[36m°; echo time, \u001b[0m\u001b[36mTE\u001b[0m\u001b[36m= \u001b[0m\u001b[1;36m2.9\u001b[0m\u001b[36m ms; field of view \u001b[0m\u001b[36mFOV\u001b[0m\u001b[36m= 256x256 mm; matrix \u001b[0m\u001b[36msize\u001b[0m\u001b[36m= \u001b[0m\n",
       "\u001b[36m256x256; voxel \u001b[0m\u001b[36msize\u001b[0m\u001b[36m= 1x1x1 mm; UNKNOWN slices\u001b[0m\u001b[1;36m)\u001b[0m\u001b[36m.\u001b[0m\n",
       "\n",
       "\u001b[36mOne run of   UNKNOwN SEQUENCE UNKNOWN SEQUENCE VARIANT single-echo structural MRI data were collected \u001b[0m\u001b[1;36m(\u001b[0m\u001b[36mrepetition \u001b[0m\n",
       "\u001b[36mtime, \u001b[0m\u001b[36mTR\u001b[0m\u001b[36m= \u001b[0m\u001b[1;36m2500.0\u001b[0m\u001b[36m ms; flip angle, \u001b[0m\u001b[36mFA\u001b[0m\u001b[36m= \u001b[0m\u001b[1;36m8\u001b[0m\u001b[36m°; echo time, \u001b[0m\u001b[36mTE\u001b[0m\u001b[36m= \u001b[0m\u001b[1;36m2.9\u001b[0m\u001b[36m ms; field of view \u001b[0m\u001b[36mFOV\u001b[0m\u001b[36m= 256x256 mm; matrix \u001b[0m\u001b[36msize\u001b[0m\u001b[36m= \u001b[0m\n",
       "\u001b[36m256x256; voxel \u001b[0m\u001b[36msize\u001b[0m\u001b[36m= 1x1x1 mm; UNKNOWN slices\u001b[0m\u001b[1;36m)\u001b[0m\u001b[36m.\u001b[0m\n",
       "\n",
       "\u001b[36mOne run of  UNKNOwN SEQUENCE UNKNOWN SEQUENCE VARIANT diffusion-weighted-imaging \u001b[0m\u001b[1;36m(\u001b[0m\u001b[1;36m)\u001b[0m\u001b[36m data were collected \u001b[0m\u001b[1;36m(\u001b[0m\u001b[1;36m68\u001b[0m\u001b[36m slices;\u001b[0m\n",
       "\u001b[36mrepetition time, \u001b[0m\u001b[36mTR\u001b[0m\u001b[36m= \u001b[0m\u001b[1;36m8400.0\u001b[0m\u001b[36m ms; flip angle, \u001b[0m\u001b[36mFA\u001b[0m\u001b[36m= \u001b[0m\u001b[1;36m90\u001b[0m\u001b[36m°; echo time, \u001b[0m\u001b[36mTE\u001b[0m\u001b[36m= \u001b[0m\u001b[1;36m90\u001b[0m\u001b[36m ms; field of view \u001b[0m\u001b[36mFOV\u001b[0m\u001b[36m= 128x128 mm; matrix \u001b[0m\n",
       "\u001b[36msize\u001b[0m\u001b[36m= 64x64; voxel \u001b[0m\u001b[36msize\u001b[0m\u001b[36m= 2x2x2 mm; b-values of \u001b[0m\u001b[1;36m0\u001b[0m\u001b[36m and \u001b[0m\u001b[1;36m1000\u001b[0m\u001b[36m acquired; \u001b[0m\u001b[1;36m64\u001b[0m\u001b[36m diffusion directions;  \u001b[0m\u001b[1;36m)\u001b[0m\u001b[36m.\u001b[0m\n",
       "\n",
       "\n",
       "\n",
       "\u001b[36mA  UNKNOwN SEQUENCE UNKNOWN SEQUENCE VARIANT field map \u001b[0m\u001b[1;36m(\u001b[0m\u001b[36mrepetition time, \u001b[0m\u001b[36mTR\u001b[0m\u001b[36m= \u001b[0m\u001b[1;36m400.0\u001b[0m\u001b[36m ms; flip angle, \u001b[0m\u001b[36mFA\u001b[0m\u001b[36m= \u001b[0m\u001b[1;36m60.0\u001b[0m\u001b[36m°; echo \u001b[0m\n",
       "\u001b[36mtime \u001b[0m\u001b[1;36m1\u001b[0m\u001b[36m \u001b[0m\u001b[36m/\u001b[0m\u001b[36m \u001b[0m\u001b[1;36m2\u001b[0m\u001b[36m, TE \u001b[0m\u001b[1;36m1\u001b[0m\u001b[36m/\u001b[0m\u001b[1;36m2\u001b[0m\u001b[36m= \u001b[0m\u001b[1;36m519000.0\u001b[0m\u001b[36m/\u001b[0m\u001b[1;36m519000.0\u001b[0m\u001b[36m ms; phase encoding: anterior to posterior; field of view \u001b[0m\u001b[36mFOV\u001b[0m\u001b[36m= 256x256 mm; \u001b[0m\n",
       "\u001b[36mmatrix \u001b[0m\u001b[36msize\u001b[0m\u001b[36m= 256x256; voxel \u001b[0m\u001b[36msize\u001b[0m\u001b[36m= 1x1x1 mm; UNKNOWN slices\u001b[0m\u001b[1;36m)\u001b[0m\u001b[36m was acquired for the first and second runs of the \u001b[0m\n",
       "\u001b[36mN-Back BOLD scan.\u001b[0m\n",
       "\n",
       "\u001b[36mFor the N-Back task Two runs of bold  UNKNOwN SEQUENCE UNKNOWN SEQUENCE VARIANT single-echo fMRI data were \u001b[0m\n",
       "\u001b[36mcollected. The acquisition parameters were: UNKNOWN slices acquired in a  fashion; repetition time, \u001b[0m\u001b[36mTR\u001b[0m\u001b[36m= \u001b[0m\u001b[1;36m2500.0\u001b[0m\u001b[36m ms; \u001b[0m\n",
       "\u001b[36mecho time, \u001b[0m\u001b[36mTE\u001b[0m\u001b[36m= \u001b[0m\u001b[1;36m30\u001b[0m\u001b[36m ms;    field of view \u001b[0m\u001b[36mFOV\u001b[0m\u001b[36m= 128x128 mm; matrix \u001b[0m\u001b[36msize\u001b[0m\u001b[36m= 64x64; voxel \u001b[0m\u001b[36msize\u001b[0m\u001b[36m= 2x2x2 mm;\u001b[0m\n",
       "\u001b[36mEach run was \u001b[0m\u001b[1;36m2:40\u001b[0m\u001b[36m minutes in length, during which \u001b[0m\u001b[1;36m64\u001b[0m\u001b[36m functional volumes were acquired.\u001b[0m\n",
       "\n",
       "\u001b[36mParticipants were specifically instructed to: \u001b[0m\n",
       "\u001b[36mFor the N-Back task Two runs of bold  UNKNOwN SEQUENCE UNKNOWN SEQUENCE VARIANT single-echo fMRI data were \u001b[0m\n",
       "\u001b[36mcollected. The acquisition parameters were: UNKNOWN slices acquired in a  fashion; repetition time, \u001b[0m\u001b[36mTR\u001b[0m\u001b[36m= \u001b[0m\u001b[1;36m2500.0\u001b[0m\u001b[36m ms; \u001b[0m\n",
       "\u001b[36mecho time, \u001b[0m\u001b[36mTE\u001b[0m\u001b[36m= \u001b[0m\u001b[1;36m30\u001b[0m\u001b[36m ms;    field of view \u001b[0m\u001b[36mFOV\u001b[0m\u001b[36m= 128x128 mm; matrix \u001b[0m\u001b[36msize\u001b[0m\u001b[36m= 64x64; voxel \u001b[0m\u001b[36msize\u001b[0m\u001b[36m= 2x2x2 mm;\u001b[0m\n",
       "\u001b[36mEach run was \u001b[0m\u001b[1;36m2:40\u001b[0m\u001b[36m minutes in length, during which \u001b[0m\u001b[1;36m64\u001b[0m\u001b[36m functional volumes were acquired.\u001b[0m\n",
       "\n",
       "\u001b[36mParticipants were specifically instructed to: \u001b[0m\n",
       "\u001b[36mFor the Rest task One run of bold  UNKNOwN SEQUENCE UNKNOWN SEQUENCE VARIANT single-echo fMRI data were collected. \u001b[0m\n",
       "\u001b[36mThe acquisition parameters were: UNKNOWN slices acquired in a  fashion; repetition time, \u001b[0m\u001b[36mTR\u001b[0m\u001b[36m= \u001b[0m\u001b[1;36m2500.0\u001b[0m\u001b[36m ms; echo time, \u001b[0m\n",
       "\u001b[36mTE\u001b[0m\u001b[36m= \u001b[0m\u001b[1;36m30\u001b[0m\u001b[36m ms;    field of view \u001b[0m\u001b[36mFOV\u001b[0m\u001b[36m= 128x128 mm; matrix \u001b[0m\u001b[36msize\u001b[0m\u001b[36m= 64x64; voxel \u001b[0m\u001b[36msize\u001b[0m\u001b[36m= 2x2x2 mm;\u001b[0m\n",
       "\u001b[36mEach run was \u001b[0m\u001b[1;36m2:40\u001b[0m\u001b[36m minutes in length, during which \u001b[0m\u001b[1;36m64\u001b[0m\u001b[36m functional volumes were acquired.\u001b[0m\n",
       "\n",
       "\u001b[36mParticipants were specifically instructed to: \u001b[0m\n",
       "\u001b[36mFor the Rest task One run of bold  UNKNOwN SEQUENCE UNKNOWN SEQUENCE VARIANT single-echo fMRI data were collected. \u001b[0m\n",
       "\u001b[36mThe acquisition parameters were: UNKNOWN slices acquired in a  fashion; repetition time, \u001b[0m\u001b[36mTR\u001b[0m\u001b[36m= \u001b[0m\u001b[1;36m2500.0\u001b[0m\u001b[36m ms; echo time, \u001b[0m\n",
       "\u001b[36mTE\u001b[0m\u001b[36m= \u001b[0m\u001b[1;36m30\u001b[0m\u001b[36m ms;    field of view \u001b[0m\u001b[36mFOV\u001b[0m\u001b[36m= 128x128 mm; matrix \u001b[0m\u001b[36msize\u001b[0m\u001b[36m= 64x64; voxel \u001b[0m\u001b[36msize\u001b[0m\u001b[36m= 2x2x2 mm;\u001b[0m\n",
       "\u001b[36mEach run was \u001b[0m\u001b[1;36m2:40\u001b[0m\u001b[36m minutes in length, during which \u001b[0m\u001b[1;36m64\u001b[0m\u001b[36m functional volumes were acquired.\u001b[0m\n",
       "\n",
       "\u001b[36mParticipants were specifically instructed to: \u001b[0m\n",
       "\u001b[36mOne run of   UNKNOwN SEQUENCE UNKNOWN SEQUENCE VARIANT single-echo structural MRI data were collected \u001b[0m\u001b[1;36m(\u001b[0m\u001b[36mrepetition \u001b[0m\n",
       "\u001b[36mtime, \u001b[0m\u001b[36mTR\u001b[0m\u001b[36m= \u001b[0m\u001b[1;36m2500.0\u001b[0m\u001b[36m ms; flip angle, \u001b[0m\u001b[36mFA\u001b[0m\u001b[36m= \u001b[0m\u001b[1;36m8\u001b[0m\u001b[36m°; echo time, \u001b[0m\u001b[36mTE\u001b[0m\u001b[36m= \u001b[0m\u001b[1;36m2.9\u001b[0m\u001b[36m ms; field of view \u001b[0m\u001b[36mFOV\u001b[0m\u001b[36m= 256x256 mm; matrix \u001b[0m\u001b[36msize\u001b[0m\u001b[36m= \u001b[0m\n",
       "\u001b[36m256x256; voxel \u001b[0m\u001b[36msize\u001b[0m\u001b[36m= 1x1x1 mm; UNKNOWN slices\u001b[0m\u001b[1;36m)\u001b[0m\u001b[36m.\u001b[0m\n",
       "\n",
       "\u001b[36mOne run of   UNKNOwN SEQUENCE UNKNOWN SEQUENCE VARIANT single-echo structural MRI data were collected \u001b[0m\u001b[1;36m(\u001b[0m\u001b[36mrepetition \u001b[0m\n",
       "\u001b[36mtime, \u001b[0m\u001b[36mTR\u001b[0m\u001b[36m= \u001b[0m\u001b[1;36m2500.0\u001b[0m\u001b[36m ms; flip angle, \u001b[0m\u001b[36mFA\u001b[0m\u001b[36m= \u001b[0m\u001b[1;36m8\u001b[0m\u001b[36m°; echo time, \u001b[0m\u001b[36mTE\u001b[0m\u001b[36m= \u001b[0m\u001b[1;36m2.9\u001b[0m\u001b[36m ms; field of view \u001b[0m\u001b[36mFOV\u001b[0m\u001b[36m= 256x256 mm; matrix \u001b[0m\u001b[36msize\u001b[0m\u001b[36m= \u001b[0m\n",
       "\u001b[36m256x256; voxel \u001b[0m\u001b[36msize\u001b[0m\u001b[36m= 1x1x1 mm; UNKNOWN slices\u001b[0m\u001b[1;36m)\u001b[0m\u001b[36m.\u001b[0m\n",
       "\n",
       "\u001b[36mFor the N-Back task Two runs of bold  UNKNOwN SEQUENCE UNKNOWN SEQUENCE VARIANT single-echo fMRI data were \u001b[0m\n",
       "\u001b[36mcollected. The acquisition parameters were: UNKNOWN slices acquired in a  fashion; repetition time, \u001b[0m\u001b[36mTR\u001b[0m\u001b[36m= \u001b[0m\u001b[1;36m2500.0\u001b[0m\u001b[36m ms; \u001b[0m\n",
       "\u001b[36mecho time, \u001b[0m\u001b[36mTE\u001b[0m\u001b[36m= \u001b[0m\u001b[1;36m30\u001b[0m\u001b[36m ms;    field of view \u001b[0m\u001b[36mFOV\u001b[0m\u001b[36m= 128x128 mm; matrix \u001b[0m\u001b[36msize\u001b[0m\u001b[36m= 64x64; voxel \u001b[0m\u001b[36msize\u001b[0m\u001b[36m= 2x2x2 mm;\u001b[0m\n",
       "\u001b[36mEach run was \u001b[0m\u001b[1;36m2:40\u001b[0m\u001b[36m minutes in length, during which \u001b[0m\u001b[1;36m64\u001b[0m\u001b[36m functional volumes were acquired.\u001b[0m\n",
       "\n",
       "\u001b[36mParticipants were specifically instructed to: \u001b[0m\n",
       "\u001b[36mFor the N-Back task Two runs of bold  UNKNOwN SEQUENCE UNKNOWN SEQUENCE VARIANT single-echo fMRI data were \u001b[0m\n",
       "\u001b[36mcollected. The acquisition parameters were: UNKNOWN slices acquired in a  fashion; repetition time, \u001b[0m\u001b[36mTR\u001b[0m\u001b[36m= \u001b[0m\u001b[1;36m2500.0\u001b[0m\u001b[36m ms; \u001b[0m\n",
       "\u001b[36mecho time, \u001b[0m\u001b[36mTE\u001b[0m\u001b[36m= \u001b[0m\u001b[1;36m30\u001b[0m\u001b[36m ms;    field of view \u001b[0m\u001b[36mFOV\u001b[0m\u001b[36m= 128x128 mm; matrix \u001b[0m\u001b[36msize\u001b[0m\u001b[36m= 64x64; voxel \u001b[0m\u001b[36msize\u001b[0m\u001b[36m= 2x2x2 mm;\u001b[0m\n",
       "\u001b[36mEach run was \u001b[0m\u001b[1;36m2:40\u001b[0m\u001b[36m minutes in length, during which \u001b[0m\u001b[1;36m64\u001b[0m\u001b[36m functional volumes were acquired.\u001b[0m\n",
       "\n",
       "\u001b[36mParticipants were specifically instructed to: \u001b[0m\n",
       "\u001b[36mFor the Rest task One run of bold  UNKNOwN SEQUENCE UNKNOWN SEQUENCE VARIANT single-echo fMRI data were collected. \u001b[0m\n",
       "\u001b[36mThe acquisition parameters were: UNKNOWN slices acquired in a  fashion; repetition time, \u001b[0m\u001b[36mTR\u001b[0m\u001b[36m= \u001b[0m\u001b[1;36m2500.0\u001b[0m\u001b[36m ms; echo time, \u001b[0m\n",
       "\u001b[36mTE\u001b[0m\u001b[36m= \u001b[0m\u001b[1;36m30\u001b[0m\u001b[36m ms;    field of view \u001b[0m\u001b[36mFOV\u001b[0m\u001b[36m= 128x128 mm; matrix \u001b[0m\u001b[36msize\u001b[0m\u001b[36m= 64x64; voxel \u001b[0m\u001b[36msize\u001b[0m\u001b[36m= 2x2x2 mm;\u001b[0m\n",
       "\u001b[36mEach run was \u001b[0m\u001b[1;36m2:40\u001b[0m\u001b[36m minutes in length, during which \u001b[0m\u001b[1;36m64\u001b[0m\u001b[36m functional volumes were acquired.\u001b[0m\n",
       "\n",
       "\u001b[36mParticipants were specifically instructed to: \u001b[0m\n",
       "\u001b[36mFor the Rest task One run of bold  UNKNOwN SEQUENCE UNKNOWN SEQUENCE VARIANT single-echo fMRI data were collected. \u001b[0m\n",
       "\u001b[36mThe acquisition parameters were: UNKNOWN slices acquired in a  fashion; repetition time, \u001b[0m\u001b[36mTR\u001b[0m\u001b[36m= \u001b[0m\u001b[1;36m2500.0\u001b[0m\u001b[36m ms; echo time, \u001b[0m\n",
       "\u001b[36mTE\u001b[0m\u001b[36m= \u001b[0m\u001b[1;36m30\u001b[0m\u001b[36m ms;    field of view \u001b[0m\u001b[36mFOV\u001b[0m\u001b[36m= 128x128 mm; matrix \u001b[0m\u001b[36msize\u001b[0m\u001b[36m= 64x64; voxel \u001b[0m\u001b[36msize\u001b[0m\u001b[36m= 2x2x2 mm;\u001b[0m\n",
       "\u001b[36mEach run was \u001b[0m\u001b[1;36m2:40\u001b[0m\u001b[36m minutes in length, during which \u001b[0m\u001b[1;36m64\u001b[0m\u001b[36m functional volumes were acquired.\u001b[0m\n",
       "\n",
       "\u001b[36mParticipants were specifically instructed to: \u001b[0m\n",
       "\n",
       "Dicoms were converted to NIfTI-\u001b[1;36m1\u001b[0m format.\n"
      ]
     },
     "metadata": {},
     "output_type": "display_data"
    }
   ],
   "source": [
    "rich.print(counter.most_common()[0][0])"
   ]
  }
 ],
 "metadata": {
  "kernelspec": {
   "display_name": "Python 3 (ipykernel)",
   "language": "python",
   "name": "python3"
  },
  "language_info": {
   "codemirror_mode": {
    "name": "ipython",
    "version": 3
   },
   "file_extension": ".py",
   "mimetype": "text/x-python",
   "name": "python",
   "nbconvert_exporter": "python",
   "pygments_lexer": "ipython3",
   "version": "3.11.3"
  }
 },
 "nbformat": 4,
 "nbformat_minor": 5
}
