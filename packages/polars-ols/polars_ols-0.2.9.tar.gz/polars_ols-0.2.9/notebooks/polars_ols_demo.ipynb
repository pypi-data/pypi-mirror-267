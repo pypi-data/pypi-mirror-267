{
 "cells": [
  {
   "cell_type": "code",
   "execution_count": 1,
   "id": "8d7bae54-e858-410c-a574-da1aa325d90a",
   "metadata": {
    "execution": {
     "iopub.execute_input": "2024-04-10T20:33:36.562397Z",
     "iopub.status.busy": "2024-04-10T20:33:36.561781Z",
     "iopub.status.idle": "2024-04-10T20:33:36.714049Z",
     "shell.execute_reply": "2024-04-10T20:33:36.713751Z",
     "shell.execute_reply.started": "2024-04-10T20:33:36.562363Z"
    }
   },
   "outputs": [],
   "source": [
    "import polars as pl\n",
    "import polars_ols as pls\n",
    "import numpy as np"
   ]
  },
  {
   "cell_type": "code",
   "execution_count": 2,
   "id": "a070132d-27cd-4783-9799-f3b0a9f97ba9",
   "metadata": {
    "execution": {
     "iopub.execute_input": "2024-04-10T20:33:36.740536Z",
     "iopub.status.busy": "2024-04-10T20:33:36.740340Z",
     "iopub.status.idle": "2024-04-10T20:33:36.743664Z",
     "shell.execute_reply": "2024-04-10T20:33:36.743240Z",
     "shell.execute_reply.started": "2024-04-10T20:33:36.740522Z"
    }
   },
   "outputs": [],
   "source": [
    "def _make_data(n_samples: int = 2_000, \n",
    "               n_features: int = 5,\n",
    "               n_groups: int = 5,\n",
    "               noise: float = 0.1,\n",
    "              ) -> pl.DataFrame:\n",
    "    x = np.random.normal(size=(n_samples, n_features))\n",
    "    eps = np.random.normal(size=n_samples, scale=noise)\n",
    "    return pl.DataFrame(data=x, schema=[f\"x{i + 1}\" for i in range(n_features)]).with_columns(\n",
    "        y=pl.lit(-1 * x.sum(1) + eps),\n",
    "        group=pl.lit(np.random.randint(0, n_groups, size=n_samples)),\n",
    "        sample_weights=pl.lit(np.random.rand(n_samples)),\n",
    "    )"
   ]
  },
  {
   "cell_type": "code",
   "execution_count": 3,
   "id": "5ad1869e-d884-48e2-8f37-f790057ada1a",
   "metadata": {
    "execution": {
     "iopub.execute_input": "2024-04-10T20:33:37.232456Z",
     "iopub.status.busy": "2024-04-10T20:33:37.232005Z",
     "iopub.status.idle": "2024-04-10T20:33:37.247273Z",
     "shell.execute_reply": "2024-04-10T20:33:37.246356Z",
     "shell.execute_reply.started": "2024-04-10T20:33:37.232427Z"
    }
   },
   "outputs": [],
   "source": [
    "df = _make_data(n_samples=2_000, n_features=3, n_groups=5)"
   ]
  },
  {
   "cell_type": "code",
   "execution_count": 4,
   "id": "52c33d88-7625-40af-a2e3-892e02ef61a1",
   "metadata": {
    "execution": {
     "iopub.execute_input": "2024-04-10T20:33:37.624702Z",
     "iopub.status.busy": "2024-04-10T20:33:37.624104Z",
     "iopub.status.idle": "2024-04-10T20:33:37.635676Z",
     "shell.execute_reply": "2024-04-10T20:33:37.634869Z",
     "shell.execute_reply.started": "2024-04-10T20:33:37.624666Z"
    }
   },
   "outputs": [
    {
     "data": {
      "text/html": [
       "<div><style>\n",
       ".dataframe > thead > tr,\n",
       ".dataframe > tbody > tr {\n",
       "  text-align: right;\n",
       "  white-space: pre-wrap;\n",
       "}\n",
       "</style>\n",
       "<small>shape: (2_000, 6)</small><table border=\"1\" class=\"dataframe\"><thead><tr><th>x1</th><th>x2</th><th>x3</th><th>y</th><th>group</th><th>sample_weights</th></tr><tr><td>f64</td><td>f64</td><td>f64</td><td>f64</td><td>i64</td><td>f64</td></tr></thead><tbody><tr><td>0.244378</td><td>0.29603</td><td>-1.591151</td><td>1.057149</td><td>3</td><td>0.350132</td></tr><tr><td>2.093035</td><td>-1.194226</td><td>1.174871</td><td>-2.008692</td><td>4</td><td>0.589495</td></tr><tr><td>0.26513</td><td>0.254817</td><td>1.908368</td><td>-2.423658</td><td>0</td><td>0.308177</td></tr><tr><td>-0.139459</td><td>0.201641</td><td>-0.750208</td><td>0.698626</td><td>1</td><td>0.378428</td></tr><tr><td>0.230555</td><td>1.111359</td><td>0.229246</td><td>-1.635799</td><td>1</td><td>0.138395</td></tr><tr><td>&hellip;</td><td>&hellip;</td><td>&hellip;</td><td>&hellip;</td><td>&hellip;</td><td>&hellip;</td></tr><tr><td>1.209234</td><td>-0.792829</td><td>0.277771</td><td>-0.895549</td><td>2</td><td>0.965688</td></tr><tr><td>-0.172662</td><td>-2.526893</td><td>-0.527852</td><td>3.20544</td><td>2</td><td>0.569951</td></tr><tr><td>1.835942</td><td>0.900255</td><td>1.29236</td><td>-4.14354</td><td>1</td><td>0.680204</td></tr><tr><td>-1.14397</td><td>0.672722</td><td>-0.133538</td><td>0.618378</td><td>3</td><td>0.438267</td></tr><tr><td>-0.585489</td><td>-2.278198</td><td>0.828944</td><td>2.170202</td><td>3</td><td>0.150085</td></tr></tbody></table></div>"
      ],
      "text/plain": [
       "shape: (2_000, 6)\n",
       "┌───────────┬───────────┬───────────┬───────────┬───────┬────────────────┐\n",
       "│ x1        ┆ x2        ┆ x3        ┆ y         ┆ group ┆ sample_weights │\n",
       "│ ---       ┆ ---       ┆ ---       ┆ ---       ┆ ---   ┆ ---            │\n",
       "│ f64       ┆ f64       ┆ f64       ┆ f64       ┆ i64   ┆ f64            │\n",
       "╞═══════════╪═══════════╪═══════════╪═══════════╪═══════╪════════════════╡\n",
       "│ 0.244378  ┆ 0.29603   ┆ -1.591151 ┆ 1.057149  ┆ 3     ┆ 0.350132       │\n",
       "│ 2.093035  ┆ -1.194226 ┆ 1.174871  ┆ -2.008692 ┆ 4     ┆ 0.589495       │\n",
       "│ 0.26513   ┆ 0.254817  ┆ 1.908368  ┆ -2.423658 ┆ 0     ┆ 0.308177       │\n",
       "│ -0.139459 ┆ 0.201641  ┆ -0.750208 ┆ 0.698626  ┆ 1     ┆ 0.378428       │\n",
       "│ 0.230555  ┆ 1.111359  ┆ 0.229246  ┆ -1.635799 ┆ 1     ┆ 0.138395       │\n",
       "│ …         ┆ …         ┆ …         ┆ …         ┆ …     ┆ …              │\n",
       "│ 1.209234  ┆ -0.792829 ┆ 0.277771  ┆ -0.895549 ┆ 2     ┆ 0.965688       │\n",
       "│ -0.172662 ┆ -2.526893 ┆ -0.527852 ┆ 3.20544   ┆ 2     ┆ 0.569951       │\n",
       "│ 1.835942  ┆ 0.900255  ┆ 1.29236   ┆ -4.14354  ┆ 1     ┆ 0.680204       │\n",
       "│ -1.14397  ┆ 0.672722  ┆ -0.133538 ┆ 0.618378  ┆ 3     ┆ 0.438267       │\n",
       "│ -0.585489 ┆ -2.278198 ┆ 0.828944  ┆ 2.170202  ┆ 3     ┆ 0.150085       │\n",
       "└───────────┴───────────┴───────────┴───────────┴───────┴────────────────┘"
      ]
     },
     "execution_count": 4,
     "metadata": {},
     "output_type": "execute_result"
    }
   ],
   "source": [
    "df"
   ]
  },
  {
   "cell_type": "markdown",
   "id": "8c0702e4-ba92-4042-ab48-2044e137c52e",
   "metadata": {},
   "source": [
    "### 1. Basic Usage: OLS / WLS\n",
    "- You can use `pls.compute_least_squares` or `least_squares.ols` from the registered namespace. They are equivalent.\n",
    "- Simply pass an expression producing strictly positive sample weights to `sample_weights` argument to perform WLS"
   ]
  },
  {
   "cell_type": "code",
   "execution_count": 5,
   "id": "c7748165-bc22-4c0d-98d0-a7813d211449",
   "metadata": {
    "execution": {
     "iopub.execute_input": "2024-04-10T20:33:40.700228Z",
     "iopub.status.busy": "2024-04-10T20:33:40.699650Z",
     "iopub.status.idle": "2024-04-10T20:33:40.708737Z",
     "shell.execute_reply": "2024-04-10T20:33:40.707752Z",
     "shell.execute_reply.started": "2024-04-10T20:33:40.700194Z"
    }
   },
   "outputs": [],
   "source": [
    "ols_expr = pls.compute_least_squares(pl.col(\"y\"),  # target\n",
    "                          pl.col(\"x1\"), pl.col(\"x2\"), pl.col(\"x3\"),  # features\n",
    "                          mode=\"predictions\",\n",
    "                          )\n",
    "assert str(ols_expr) == str(pl.col(\"y\").least_squares.ols(pl.col(\"x1\"), pl.col(\"x2\"), pl.col(\"x3\")))\n",
    "\n",
    "wls_expr = pl.col(\"y\").least_squares.wls(pl.col(\"x1\"), pl.col(\"x2\"), pl.col(\"x3\"), \n",
    "                                         sample_weights=pl.col(\"sample_weights\"))"
   ]
  },
  {
   "cell_type": "markdown",
   "id": "d3026f57-54a4-453e-a803-5e7d8e943f94",
   "metadata": {},
   "source": [
    "- The expressions returned are normal polars expressions. You can operate on them lazily, so for example we can compute OLS per group in parallel using `.over(...)` or multiply it by some other expression etc."
   ]
  },
  {
   "cell_type": "code",
   "execution_count": 6,
   "id": "c824074b-cecd-43ef-a8b9-bfaeb44f77ad",
   "metadata": {
    "execution": {
     "iopub.execute_input": "2024-04-10T20:33:41.768994Z",
     "iopub.status.busy": "2024-04-10T20:33:41.768277Z",
     "iopub.status.idle": "2024-04-10T20:33:41.791212Z",
     "shell.execute_reply": "2024-04-10T20:33:41.789620Z",
     "shell.execute_reply.started": "2024-04-10T20:33:41.768940Z"
    }
   },
   "outputs": [
    {
     "data": {
      "text/html": [
       "<div><style>\n",
       ".dataframe > thead > tr,\n",
       ".dataframe > tbody > tr {\n",
       "  text-align: right;\n",
       "  white-space: pre-wrap;\n",
       "}\n",
       "</style>\n",
       "<small>shape: (10, 9)</small><table border=\"1\" class=\"dataframe\"><thead><tr><th>x1</th><th>x2</th><th>x3</th><th>y</th><th>group</th><th>sample_weights</th><th>predictions_ols_group</th><th>predictions_ols</th><th>predictions_wls_masked</th></tr><tr><td>f64</td><td>f64</td><td>f64</td><td>f64</td><td>i64</td><td>f64</td><td>f32</td><td>f32</td><td>f32</td></tr></thead><tbody><tr><td>1.113039</td><td>0.883359</td><td>-2.527527</td><td>0.55024</td><td>2</td><td>0.699654</td><td>0.527899</td><td>0.534972</td><td>0.531683</td></tr><tr><td>-0.162361</td><td>-0.31886</td><td>0.432553</td><td>0.116105</td><td>3</td><td>0.201684</td><td>0.050201</td><td>0.047775</td><td>0.0</td></tr><tr><td>0.513537</td><td>0.290477</td><td>1.275113</td><td>-2.125898</td><td>0</td><td>0.250123</td><td>-2.087187</td><td>-2.080451</td><td>-0.0</td></tr><tr><td>-0.409181</td><td>0.795874</td><td>-1.508068</td><td>1.218333</td><td>1</td><td>0.252079</td><td>1.120106</td><td>1.1244</td><td>0.0</td></tr><tr><td>-1.503989</td><td>-1.071248</td><td>-1.820427</td><td>4.540995</td><td>3</td><td>0.844558</td><td>4.396885</td><td>4.396938</td><td>0.0</td></tr><tr><td>1.209234</td><td>-0.792829</td><td>0.277771</td><td>-0.895549</td><td>2</td><td>0.965688</td><td>-0.688014</td><td>-0.695993</td><td>-0.698428</td></tr><tr><td>-0.172662</td><td>-2.526893</td><td>-0.527852</td><td>3.20544</td><td>2</td><td>0.569951</td><td>3.232339</td><td>3.224712</td><td>3.225684</td></tr><tr><td>1.835942</td><td>0.900255</td><td>1.29236</td><td>-4.14354</td><td>1</td><td>0.680204</td><td>-4.027004</td><td>-4.029541</td><td>-0.0</td></tr><tr><td>-1.14397</td><td>0.672722</td><td>-0.133538</td><td>0.618378</td><td>3</td><td>0.438267</td><td>0.605977</td><td>0.606245</td><td>0.0</td></tr><tr><td>-0.585489</td><td>-2.278198</td><td>0.828944</td><td>2.170202</td><td>3</td><td>0.150085</td><td>2.040467</td><td>2.030892</td><td>0.0</td></tr></tbody></table></div>"
      ],
      "text/plain": [
       "shape: (10, 9)\n",
       "┌───────────┬───────────┬───────────┬───────────┬───┬───────────┬───────────┬───────────┬──────────┐\n",
       "│ x1        ┆ x2        ┆ x3        ┆ y         ┆ … ┆ sample_we ┆ predictio ┆ predictio ┆ predicti │\n",
       "│ ---       ┆ ---       ┆ ---       ┆ ---       ┆   ┆ ights     ┆ ns_ols_gr ┆ ns_ols    ┆ ons_wls_ │\n",
       "│ f64       ┆ f64       ┆ f64       ┆ f64       ┆   ┆ ---       ┆ oup       ┆ ---       ┆ masked   │\n",
       "│           ┆           ┆           ┆           ┆   ┆ f64       ┆ ---       ┆ f32       ┆ ---      │\n",
       "│           ┆           ┆           ┆           ┆   ┆           ┆ f32       ┆           ┆ f32      │\n",
       "╞═══════════╪═══════════╪═══════════╪═══════════╪═══╪═══════════╪═══════════╪═══════════╪══════════╡\n",
       "│ 1.113039  ┆ 0.883359  ┆ -2.527527 ┆ 0.55024   ┆ … ┆ 0.699654  ┆ 0.527899  ┆ 0.534972  ┆ 0.531683 │\n",
       "│ -0.162361 ┆ -0.31886  ┆ 0.432553  ┆ 0.116105  ┆ … ┆ 0.201684  ┆ 0.050201  ┆ 0.047775  ┆ 0.0      │\n",
       "│ 0.513537  ┆ 0.290477  ┆ 1.275113  ┆ -2.125898 ┆ … ┆ 0.250123  ┆ -2.087187 ┆ -2.080451 ┆ -0.0     │\n",
       "│ -0.409181 ┆ 0.795874  ┆ -1.508068 ┆ 1.218333  ┆ … ┆ 0.252079  ┆ 1.120106  ┆ 1.1244    ┆ 0.0      │\n",
       "│ -1.503989 ┆ -1.071248 ┆ -1.820427 ┆ 4.540995  ┆ … ┆ 0.844558  ┆ 4.396885  ┆ 4.396938  ┆ 0.0      │\n",
       "│ 1.209234  ┆ -0.792829 ┆ 0.277771  ┆ -0.895549 ┆ … ┆ 0.965688  ┆ -0.688014 ┆ -0.695993 ┆ -0.69842 │\n",
       "│           ┆           ┆           ┆           ┆   ┆           ┆           ┆           ┆ 8        │\n",
       "│ -0.172662 ┆ -2.526893 ┆ -0.527852 ┆ 3.20544   ┆ … ┆ 0.569951  ┆ 3.232339  ┆ 3.224712  ┆ 3.225684 │\n",
       "│ 1.835942  ┆ 0.900255  ┆ 1.29236   ┆ -4.14354  ┆ … ┆ 0.680204  ┆ -4.027004 ┆ -4.029541 ┆ -0.0     │\n",
       "│ -1.14397  ┆ 0.672722  ┆ -0.133538 ┆ 0.618378  ┆ … ┆ 0.438267  ┆ 0.605977  ┆ 0.606245  ┆ 0.0      │\n",
       "│ -0.585489 ┆ -2.278198 ┆ 0.828944  ┆ 2.170202  ┆ … ┆ 0.150085  ┆ 2.040467  ┆ 2.030892  ┆ 0.0      │\n",
       "└───────────┴───────────┴───────────┴───────────┴───┴───────────┴───────────┴───────────┴──────────┘"
      ]
     },
     "execution_count": 6,
     "metadata": {},
     "output_type": "execute_result"
    }
   ],
   "source": [
    "df.lazy().with_columns(ols_expr.over(\"group\").alias(\"predictions_ols_group\"),\n",
    "                ols_expr.alias(\"predictions_ols\"),\n",
    "                (wls_expr * (pl.col(\"group\") == 2)).alias(\"predictions_wls_masked\"),\n",
    "               ).collect().tail(10)"
   ]
  },
  {
   "cell_type": "markdown",
   "id": "510b4ac4-9e35-4eda-aafe-5036f38462f8",
   "metadata": {},
   "source": [
    "- The `mode` parameter controls the type of output produced. You can choose from {`predictions`, `coefficients`, `residuals`}. It defaults to `predictions`.\n",
    "- `coefficients` produces a compact struct with the names of your features as fields and estimated coefficients as values"
   ]
  },
  {
   "cell_type": "code",
   "execution_count": 7,
   "id": "223fdff7-3242-4fdf-b732-570cd07a5b0a",
   "metadata": {
    "execution": {
     "iopub.execute_input": "2024-04-10T20:33:43.129500Z",
     "iopub.status.busy": "2024-04-10T20:33:43.128910Z",
     "iopub.status.idle": "2024-04-10T20:33:43.141833Z",
     "shell.execute_reply": "2024-04-10T20:33:43.141266Z",
     "shell.execute_reply.started": "2024-04-10T20:33:43.129466Z"
    }
   },
   "outputs": [
    {
     "data": {
      "text/html": [
       "<div><style>\n",
       ".dataframe > thead > tr,\n",
       ".dataframe > tbody > tr {\n",
       "  text-align: right;\n",
       "  white-space: pre-wrap;\n",
       "}\n",
       "</style>\n",
       "<small>shape: (1, 1)</small><table border=\"1\" class=\"dataframe\"><thead><tr><th>coefficients</th></tr><tr><td>struct[3]</td></tr></thead><tbody><tr><td>{-0.999718,-1.029042,-0.013478}</td></tr></tbody></table></div>"
      ],
      "text/plain": [
       "shape: (1, 1)\n",
       "┌─────────────────────────────────┐\n",
       "│ coefficients                    │\n",
       "│ ---                             │\n",
       "│ struct[3]                       │\n",
       "╞═════════════════════════════════╡\n",
       "│ {-0.999718,-1.029042,-0.013478} │\n",
       "└─────────────────────────────────┘"
      ]
     },
     "execution_count": 7,
     "metadata": {},
     "output_type": "execute_result"
    }
   ],
   "source": [
    "df.select(pl.col(\"y\").least_squares.ols(pl.col(\"x1\"), pl.col(\"x2\"), add_intercept=True, mode=\"coefficients\")\n",
    "          .alias(\"coefficients\"))"
   ]
  },
  {
   "cell_type": "markdown",
   "id": "2025d7b3-036c-45c5-a425-088ae33bef72",
   "metadata": {},
   "source": [
    "- If in a `.over()`, `.group_by()`, or a `.with_columns()` context, the output of `mode=\"coefficients\"` broadcasts to the shape of your data\n",
    "- Computing least_squares operations in `.over()` is done in parallel in rust, so it is very efficient\n",
    "- You can use `.unnest()` to unpack the coefficients to separate numeric columns"
   ]
  },
  {
   "cell_type": "code",
   "execution_count": 8,
   "id": "4271adf2-6cb4-46ee-90c7-4e1ac1d28d93",
   "metadata": {
    "execution": {
     "iopub.execute_input": "2024-04-10T20:33:44.616142Z",
     "iopub.status.busy": "2024-04-10T20:33:44.615544Z",
     "iopub.status.idle": "2024-04-10T20:33:44.628007Z",
     "shell.execute_reply": "2024-04-10T20:33:44.627002Z",
     "shell.execute_reply.started": "2024-04-10T20:33:44.616107Z"
    }
   },
   "outputs": [
    {
     "name": "stdout",
     "output_type": "stream",
     "text": [
      "shape: (5, 2)\n",
      "┌───────┬─────────────────────────────────┐\n",
      "│ group ┆ coefficients                    │\n",
      "│ ---   ┆ ---                             │\n",
      "│ i64   ┆ struct[3]                       │\n",
      "╞═══════╪═════════════════════════════════╡\n",
      "│ 3     ┆ {-0.995489,-0.984824,-0.01902}  │\n",
      "│ 4     ┆ {-1.040719,-0.995801,-0.026311} │\n",
      "│ 0     ┆ {-0.9619,-1.095804,-0.007966}   │\n",
      "│ 1     ┆ {-0.96268,-1.037212,-0.027022}  │\n",
      "│ 1     ┆ {-0.96268,-1.037212,-0.027022}  │\n",
      "└───────┴─────────────────────────────────┘\n",
      "shape: (5, 4)\n",
      "┌───────┬───────────┬───────────┬───────────┐\n",
      "│ group ┆ x1        ┆ x2        ┆ const     │\n",
      "│ ---   ┆ ---       ┆ ---       ┆ ---       │\n",
      "│ i64   ┆ f32       ┆ f32       ┆ f32       │\n",
      "╞═══════╪═══════════╪═══════════╪═══════════╡\n",
      "│ 3     ┆ -0.995489 ┆ -0.984824 ┆ -0.01902  │\n",
      "│ 4     ┆ -1.040719 ┆ -0.995801 ┆ -0.026311 │\n",
      "│ 0     ┆ -0.9619   ┆ -1.095804 ┆ -0.007966 │\n",
      "│ 1     ┆ -0.96268  ┆ -1.037212 ┆ -0.027022 │\n",
      "│ 1     ┆ -0.96268  ┆ -1.037212 ┆ -0.027022 │\n",
      "└───────┴───────────┴───────────┴───────────┘\n"
     ]
    }
   ],
   "source": [
    "df_coefficients = df.select(\"group\", pl.col(\"y\").least_squares.ols(\n",
    "    pl.col(\"x1\"), pl.col(\"x2\"), add_intercept=True, mode=\"coefficients\").over(\"group\")\n",
    "          .alias(\"coefficients\"))\n",
    "print(df_coefficients.head())\n",
    "print(df_coefficients.unnest(\"coefficients\").head())"
   ]
  },
  {
   "cell_type": "markdown",
   "id": "d2658468-466a-4d9e-916f-4b711331ec96",
   "metadata": {},
   "source": [
    "### 2. Regularized Models\n",
    "- Ridge `least_squares.ridge`, Lasso `least_squares.lasso`, Elastic Net `least_squares.lasso` with optional non-negative constraint are implemented\n",
    "- Apart from ridge, which is solved in closed form, the rust implementation for regularized models is cyclic coordinate descent with a soft thresholding function that supports an arbitrary combination of L1 / L2 penalties and non-negative constraint.\n",
    "- `sample_weights` and `mode` are general parameters applicable to all models supported by this package\n",
    "\n",
    "Parameters specific to regularized models are contained in `OLSKwargs`:\n",
    "- alpha: scalar representing L1 or L2 penalty strength.\n",
    "- l1_ratio: mixing parameter for ElasticNet regularization (0 for Ridge, 1 for LASSO).\n",
    "- max_iter: maximum number of coordinate descent iterations\n",
    "- tol: tolerance for convergence criterion\n",
    "- positive: boolean enforcing non-negativity constraints on coefficients"
   ]
  },
  {
   "cell_type": "code",
   "execution_count": 9,
   "id": "a9ba3765-2a42-4675-bc92-2d211bdcc03b",
   "metadata": {
    "execution": {
     "iopub.execute_input": "2024-04-10T20:33:45.748192Z",
     "iopub.status.busy": "2024-04-10T20:33:45.747632Z",
     "iopub.status.idle": "2024-04-10T20:33:45.819186Z",
     "shell.execute_reply": "2024-04-10T20:33:45.818658Z",
     "shell.execute_reply.started": "2024-04-10T20:33:45.748161Z"
    }
   },
   "outputs": [
    {
     "data": {
      "text/plain": [
       "\u001b[0;31mInit signature:\u001b[0m\n",
       "\u001b[0mpls\u001b[0m\u001b[0;34m.\u001b[0m\u001b[0mOLSKwargs\u001b[0m\u001b[0;34m(\u001b[0m\u001b[0;34m\u001b[0m\n",
       "\u001b[0;34m\u001b[0m    \u001b[0malpha\u001b[0m\u001b[0;34m:\u001b[0m \u001b[0;34m'Optional[float]'\u001b[0m \u001b[0;34m=\u001b[0m \u001b[0;36m0.0\u001b[0m\u001b[0;34m,\u001b[0m\u001b[0;34m\u001b[0m\n",
       "\u001b[0;34m\u001b[0m    \u001b[0ml1_ratio\u001b[0m\u001b[0;34m:\u001b[0m \u001b[0;34m'Optional[float]'\u001b[0m \u001b[0;34m=\u001b[0m \u001b[0;32mNone\u001b[0m\u001b[0;34m,\u001b[0m\u001b[0;34m\u001b[0m\n",
       "\u001b[0;34m\u001b[0m    \u001b[0mmax_iter\u001b[0m\u001b[0;34m:\u001b[0m \u001b[0;34m'Optional[int]'\u001b[0m \u001b[0;34m=\u001b[0m \u001b[0;36m1000\u001b[0m\u001b[0;34m,\u001b[0m\u001b[0;34m\u001b[0m\n",
       "\u001b[0;34m\u001b[0m    \u001b[0mtol\u001b[0m\u001b[0;34m:\u001b[0m \u001b[0;34m'Optional[float]'\u001b[0m \u001b[0;34m=\u001b[0m \u001b[0;36m1e-05\u001b[0m\u001b[0;34m,\u001b[0m\u001b[0;34m\u001b[0m\n",
       "\u001b[0;34m\u001b[0m    \u001b[0mpositive\u001b[0m\u001b[0;34m:\u001b[0m \u001b[0;34m'Optional[bool]'\u001b[0m \u001b[0;34m=\u001b[0m \u001b[0;32mFalse\u001b[0m\u001b[0;34m,\u001b[0m\u001b[0;34m\u001b[0m\n",
       "\u001b[0;34m\u001b[0m    \u001b[0mnull_policy\u001b[0m\u001b[0;34m:\u001b[0m \u001b[0;34m'NullPolicy'\u001b[0m \u001b[0;34m=\u001b[0m \u001b[0;34m'ignore'\u001b[0m\u001b[0;34m,\u001b[0m\u001b[0;34m\u001b[0m\n",
       "\u001b[0;34m\u001b[0m    \u001b[0msolve_method\u001b[0m\u001b[0;34m:\u001b[0m \u001b[0;34m'Optional[SolveMethod]'\u001b[0m \u001b[0;34m=\u001b[0m \u001b[0;32mNone\u001b[0m\u001b[0;34m,\u001b[0m\u001b[0;34m\u001b[0m\n",
       "\u001b[0;34m\u001b[0m\u001b[0;34m)\u001b[0m \u001b[0;34m->\u001b[0m \u001b[0;32mNone\u001b[0m\u001b[0;34m\u001b[0m\u001b[0;34m\u001b[0m\u001b[0m\n",
       "\u001b[0;31mDocstring:\u001b[0m     \n",
       "Specifies parameters relevant for regularized linear models: LASSO / Ridge / ElasticNet.\n",
       "\n",
       "Attributes:\n",
       "    alpha: Regularization strength. Defaults to 0.0.\n",
       "    l1_ratio: Mixing parameter for ElasticNet regularization (0 for Ridge, 1 for LASSO).\n",
       "        Defaults to None (equivalent to Ridge regression).\n",
       "    max_iter: Maximum number of iterations. Defaults to 1000 iterations.\n",
       "    tol: Tolerance for convergence criterion. Defaults to 1.e-5.\n",
       "    positive: Whether to enforce non-negativity constraints on coefficients.\n",
       "        Defaults to False (no constraint on coefficients).\n",
       "    null_policy: Strategy for handling missing data. Defaults to \"ignore\".\n",
       "    solve_method: Algorithm used for computing least squares solution.\n",
       "        Defaults to None, where a recommended default method is chosen based on problem\n",
       "        specifics.\n",
       "\u001b[0;31mFile:\u001b[0m           ~/anaconda3/envs/gem/lib/python3.10/site-packages/polars_ols/least_squares.py\n",
       "\u001b[0;31mType:\u001b[0m           type\n",
       "\u001b[0;31mSubclasses:\u001b[0m     "
      ]
     },
     "metadata": {},
     "output_type": "display_data"
    }
   ],
   "source": [
    "# inspect OLS Kwargs\n",
    "pls.OLSKwargs?"
   ]
  },
  {
   "cell_type": "code",
   "execution_count": 10,
   "id": "e35fbf57-3edb-4450-bcf7-a6c2aeef1e6f",
   "metadata": {
    "execution": {
     "iopub.execute_input": "2024-04-10T20:33:46.948681Z",
     "iopub.status.busy": "2024-04-10T20:33:46.948106Z",
     "iopub.status.idle": "2024-04-10T20:33:46.964983Z",
     "shell.execute_reply": "2024-04-10T20:33:46.964295Z",
     "shell.execute_reply.started": "2024-04-10T20:33:46.948649Z"
    }
   },
   "outputs": [
    {
     "data": {
      "text/html": [
       "<div><style>\n",
       ".dataframe > thead > tr,\n",
       ".dataframe > tbody > tr {\n",
       "  text-align: right;\n",
       "  white-space: pre-wrap;\n",
       "}\n",
       "</style>\n",
       "<small>shape: (1, 2)</small><table border=\"1\" class=\"dataframe\"><thead><tr><th>coef_enet_non_negative</th><th>coef_ridge</th></tr><tr><td>struct[3]</td><td>struct[3]</td></tr></thead><tbody><tr><td>{0.0,0.0,0.0}</td><td>{-0.91927,-0.911867,-0.920933}</td></tr></tbody></table></div>"
      ],
      "text/plain": [
       "shape: (1, 2)\n",
       "┌────────────────────────┬────────────────────────────────┐\n",
       "│ coef_enet_non_negative ┆ coef_ridge                     │\n",
       "│ ---                    ┆ ---                            │\n",
       "│ struct[3]              ┆ struct[3]                      │\n",
       "╞════════════════════════╪════════════════════════════════╡\n",
       "│ {0.0,0.0,0.0}          ┆ {-0.91927,-0.911867,-0.920933} │\n",
       "└────────────────────────┴────────────────────────────────┘"
      ]
     },
     "execution_count": 10,
     "metadata": {},
     "output_type": "execute_result"
    }
   ],
   "source": [
    "elastic_net_expr = pl.col(\"y\").least_squares.elastic_net(pl.col(\"x1\"), pl.col(\"x2\"), pl.col(\"x3\"),\n",
    "                                                         alpha=0.0001,\n",
    "                                                         l1_ratio=0.5,\n",
    "                                                         positive=True,\n",
    "                                                         mode=\"coefficients\",\n",
    "                                                         ).alias(\"coef_enet_non_negative\")\n",
    "\n",
    "ridge_expr = pl.col(\"y\").least_squares.ridge(pl.col(\"x1\"), pl.col(\"x2\"), pl.col(\"x3\"),\n",
    "                                             alpha=100.0, \n",
    "                                             sample_weights=pl.col(\"sample_weights\"),\n",
    "                                             mode=\"coefficients\").alias(\"coef_ridge\")\n",
    "\n",
    "df.select(elastic_net_expr, ridge_expr)"
   ]
  },
  {
   "cell_type": "markdown",
   "id": "0d51c5a1-bb89-4e45-97bd-7e3bda6beae0",
   "metadata": {},
   "source": [
    "### 3. Formula API\n",
    "\n",
    "- For those who like specifying models in patsy formula syntax, that is also supported\n",
    "- You can either use the `least_squares_from_formula` module level public function or `least_squares.from_formula` from registed namespace\n",
    "- It tries to be clever and maps to the correct underlying implementation based on the model specific parameters you specify"
   ]
  },
  {
   "cell_type": "code",
   "execution_count": 12,
   "id": "8965d16a-1703-4a75-9729-d8fbadb7a1c7",
   "metadata": {
    "execution": {
     "iopub.execute_input": "2024-04-10T20:33:54.487896Z",
     "iopub.status.busy": "2024-04-10T20:33:54.487521Z",
     "iopub.status.idle": "2024-04-10T20:33:54.814794Z",
     "shell.execute_reply": "2024-04-10T20:33:54.814490Z",
     "shell.execute_reply.started": "2024-04-10T20:33:54.487868Z"
    }
   },
   "outputs": [
    {
     "data": {
      "text/html": [
       "<div><style>\n",
       ".dataframe > thead > tr,\n",
       ".dataframe > tbody > tr {\n",
       "  text-align: right;\n",
       "  white-space: pre-wrap;\n",
       "}\n",
       "</style>\n",
       "<small>shape: (2, 2)</small><table border=\"1\" class=\"dataframe\"><thead><tr><th>residuals_1</th><th>residuals_2</th></tr><tr><td>f64</td><td>f64</td></tr></thead><tbody><tr><td>1.0</td><td>1.0</td></tr><tr><td>1.0</td><td>1.0</td></tr></tbody></table></div>"
      ],
      "text/plain": [
       "shape: (2, 2)\n",
       "┌─────────────┬─────────────┐\n",
       "│ residuals_1 ┆ residuals_2 │\n",
       "│ ---         ┆ ---         │\n",
       "│ f64         ┆ f64         │\n",
       "╞═════════════╪═════════════╡\n",
       "│ 1.0         ┆ 1.0         │\n",
       "│ 1.0         ┆ 1.0         │\n",
       "└─────────────┴─────────────┘"
      ]
     },
     "execution_count": 12,
     "metadata": {},
     "output_type": "execute_result"
    }
   ],
   "source": [
    "# compute the residuals in two equivalent ways\n",
    "df.select(\n",
    "    # \"x2:x3\" denotes multiplicative interaction, \"-1\" dentotes no intercept\n",
    "    pls.compute_least_squares_from_formula(\"y ~ x1 + x2:x3 -1\", mode=\"residuals\").alias(\"residuals_1\"), \n",
    "    (pl.col(\"y\") - pl.col(\"y\").least_squares.from_formula(\"x1 + x2:x3 -1\", mode=\"predictions\")).alias(\"residuals_2\"),\n",
    ").corr()"
   ]
  },
  {
   "cell_type": "code",
   "execution_count": 13,
   "id": "aa610cd9-3b3f-43ce-b9cc-24a92df55307",
   "metadata": {
    "execution": {
     "iopub.execute_input": "2024-04-10T20:33:56.625845Z",
     "iopub.status.busy": "2024-04-10T20:33:56.625112Z",
     "iopub.status.idle": "2024-04-10T20:33:56.633119Z",
     "shell.execute_reply": "2024-04-10T20:33:56.632340Z",
     "shell.execute_reply.started": "2024-04-10T20:33:56.625806Z"
    }
   },
   "outputs": [],
   "source": [
    "nnls_formula_expr = pl.col(\"y\").least_squares.from_formula(\"x1 + x2 + x3\",\n",
    "                                       alpha=0.0001,\n",
    "                                       positive=True,\n",
    "                                       )  # knows to use the coordinate descent implementation because of non-negativity\n",
    "\n",
    "\n",
    "ridge_formula_expr = pl.col(\"y\").least_squares.from_formula(\"x1 + x2 + x3\",\n",
    "                                       alpha=0.0001,\n",
    "                                       sample_weights=pl.col(\"sample_weights\"),\n",
    "                                       )  # knows that it needs to use closed form ridge w/ sample weighting"
   ]
  },
  {
   "cell_type": "markdown",
   "id": "ff9caf26-ae5a-46da-acd9-099bcdeee025",
   "metadata": {},
   "source": [
    "### 4. Dynamic Regression Models\n",
    "\n",
    "- Consider the situation where you want to compute coefficients in an expanding or rolling window manner\n",
    "    - naively, you could manually re-compute standard OLS function over consecutive windows (e.g. `.rolling(...).agg(...)`)\n",
    "    - ... but that would be wasteful: (X.T X) and (X.T Y) are only changing by one row (in case of expanding) or two rows (in case of rolling, an addition and a subtraction)\n",
    "- This extension package provides rust implementations `.least_squares.{rolling_ols, expanding_ols, rls}` which efficiently update coefficients as new samples are observed\n",
    "- The key idea is to make use of Sherman-Morrison or Woodbury Identity to recursively update summary statistics or coefficient vectors\n",
    "- Formula API is also supported and the correct implementation is chosen based on parameters provided"
   ]
  },
  {
   "cell_type": "code",
   "execution_count": 14,
   "id": "33a8ee68-dc8b-4a2e-a590-73a4998bc33e",
   "metadata": {
    "execution": {
     "iopub.execute_input": "2024-04-10T20:34:00.488695Z",
     "iopub.status.busy": "2024-04-10T20:34:00.488075Z",
     "iopub.status.idle": "2024-04-10T20:34:00.512500Z",
     "shell.execute_reply": "2024-04-10T20:34:00.512026Z",
     "shell.execute_reply.started": "2024-04-10T20:34:00.488659Z"
    }
   },
   "outputs": [
    {
     "data": {
      "text/html": [
       "<div><style>\n",
       ".dataframe > thead > tr,\n",
       ".dataframe > tbody > tr {\n",
       "  text-align: right;\n",
       "  white-space: pre-wrap;\n",
       "}\n",
       "</style>\n",
       "<small>shape: (2_000, 3)</small><table border=\"1\" class=\"dataframe\"><thead><tr><th>rolling_ridge_coef</th><th>recursive_least_squares_coef</th><th>expanding_ols_pred</th></tr><tr><td>struct[3]</td><td>struct[3]</td><td>f32</td></tr></thead><tbody><tr><td>{0.0,0.0,0.0}</td><td>{-0.999436,-0.999317,-1.003672}</td><td>1.01911</td></tr><tr><td>{0.0,0.0,0.0}</td><td>{-0.981326,-1.010655,-0.989518}</td><td>-1.986911</td></tr><tr><td>{0.0,0.0,0.0}</td><td>{-0.999681,-0.999694,-0.997705}</td><td>-2.273605</td></tr><tr><td>{0.0,0.0,0.0}</td><td>{-1.002054,-0.99703,-1.011049}</td><td>0.713363</td></tr><tr><td>{0.0,0.0,0.0}</td><td>{-1.01267,-1.047104,-1.022372}</td><td>-1.524843</td></tr><tr><td>&hellip;</td><td>&hellip;</td><td>&hellip;</td></tr><tr><td>{-0.99819,-0.998837,-0.99271}</td><td>{-1.004297,-1.004904,-0.990937}</td><td>-0.695928</td></tr><tr><td>{-0.99821,-0.998581,-0.992718}</td><td>{-1.004473,-1.002611,-0.990368}</td><td>3.224019</td></tr><tr><td>{-1.004952,-1.003536,-0.99391}</td><td>{-1.003174,-0.991553,-1.012009}</td><td>-4.029209</td></tr><tr><td>{-0.997664,-1.003617,-1.000195}</td><td>{-1.011577,-1.01432,-0.997295}</td><td>0.60629</td></tr><tr><td>{-0.997986,-1.004691,-0.999824}</td><td>{-1.013571,-1.020214,-0.994661}</td><td>2.030797</td></tr></tbody></table></div>"
      ],
      "text/plain": [
       "shape: (2_000, 3)\n",
       "┌─────────────────────────────────┬─────────────────────────────────┬────────────────────┐\n",
       "│ rolling_ridge_coef              ┆ recursive_least_squares_coef    ┆ expanding_ols_pred │\n",
       "│ ---                             ┆ ---                             ┆ ---                │\n",
       "│ struct[3]                       ┆ struct[3]                       ┆ f32                │\n",
       "╞═════════════════════════════════╪═════════════════════════════════╪════════════════════╡\n",
       "│ {0.0,0.0,0.0}                   ┆ {-0.999436,-0.999317,-1.003672} ┆ 1.01911            │\n",
       "│ {0.0,0.0,0.0}                   ┆ {-0.981326,-1.010655,-0.989518} ┆ -1.986911          │\n",
       "│ {0.0,0.0,0.0}                   ┆ {-0.999681,-0.999694,-0.997705} ┆ -2.273605          │\n",
       "│ {0.0,0.0,0.0}                   ┆ {-1.002054,-0.99703,-1.011049}  ┆ 0.713363           │\n",
       "│ {0.0,0.0,0.0}                   ┆ {-1.01267,-1.047104,-1.022372}  ┆ -1.524843          │\n",
       "│ …                               ┆ …                               ┆ …                  │\n",
       "│ {-0.99819,-0.998837,-0.99271}   ┆ {-1.004297,-1.004904,-0.990937} ┆ -0.695928          │\n",
       "│ {-0.99821,-0.998581,-0.992718}  ┆ {-1.004473,-1.002611,-0.990368} ┆ 3.224019           │\n",
       "│ {-1.004952,-1.003536,-0.99391}  ┆ {-1.003174,-0.991553,-1.012009} ┆ -4.029209          │\n",
       "│ {-0.997664,-1.003617,-1.000195} ┆ {-1.011577,-1.01432,-0.997295}  ┆ 0.60629            │\n",
       "│ {-0.997986,-1.004691,-0.999824} ┆ {-1.013571,-1.020214,-0.994661} ┆ 2.030797           │\n",
       "└─────────────────────────────────┴─────────────────────────────────┴────────────────────┘"
      ]
     },
     "execution_count": 14,
     "metadata": {},
     "output_type": "execute_result"
    }
   ],
   "source": [
    "df.select(\n",
    "    pl.col(\"y\").least_squares.from_formula(\"x1 + x2 + x3 -1\", \n",
    "                                           window_size=252, \n",
    "                                           min_periods=5, \n",
    "                                           alpha=0.0001,  \n",
    "                                           mode=\"coefficients\").over(\"group\").alias(\"rolling_ridge_coef\"),\n",
    "    pl.col(\"y\").least_squares.rls(\n",
    "        pl.col(\"x1\"), pl.col(\"x2\"), pl.col(\"x3\"),\n",
    "        half_life=21.0, # exponential memory proportional to a half-life of 21 samples\n",
    "        initial_state_mean=[-1.0, -1.0, -1.0],  # prior mean for initial coefficients\n",
    "        initial_state_covariance=10.0,  # inversely proportional to L2 prior towards prior mean\n",
    "        mode=\"coefficients\",\n",
    "    ).over(\"group\").alias(\"recursive_least_squares_coef\"),\n",
    "    pl.col(\"y\").least_squares.expanding_ols(pl.col(\"x1\"), pl.col(\"x2\"), pl.col(\"x3\"), \n",
    "                                           mode=\"predictions\").alias(\"expanding_ols_pred\"),\n",
    ")"
   ]
  },
  {
   "cell_type": "markdown",
   "id": "30fe069d-8f4f-47e7-9f7b-cac7ef750823",
   "metadata": {},
   "source": [
    "### 5. Out Of Sample Prediction\n",
    "\n",
    "- If you want to fit on some data then predict on test data, you can do so with `least_squares.predict(...)`"
   ]
  },
  {
   "cell_type": "code",
   "execution_count": 15,
   "id": "ff412921-2c2d-46b3-baad-d54067fa3312",
   "metadata": {
    "execution": {
     "iopub.execute_input": "2024-04-10T20:34:03.717709Z",
     "iopub.status.busy": "2024-04-10T20:34:03.717058Z",
     "iopub.status.idle": "2024-04-10T20:34:03.731915Z",
     "shell.execute_reply": "2024-04-10T20:34:03.730851Z",
     "shell.execute_reply.started": "2024-04-10T20:34:03.717669Z"
    }
   },
   "outputs": [
    {
     "data": {
      "text/html": [
       "<div><style>\n",
       ".dataframe > thead > tr,\n",
       ".dataframe > tbody > tr {\n",
       "  text-align: right;\n",
       "  white-space: pre-wrap;\n",
       "}\n",
       "</style>\n",
       "<small>shape: (5, 2)</small><table border=\"1\" class=\"dataframe\"><thead><tr><th>group</th><th>coefficients</th></tr><tr><td>i64</td><td>struct[2]</td></tr></thead><tbody><tr><td>2</td><td>{-1.032807,-1.043651}</td></tr><tr><td>3</td><td>{-0.99592,-0.985827}</td></tr><tr><td>4</td><td>{-1.040148,-0.995546}</td></tr><tr><td>0</td><td>{-0.962558,-1.095777}</td></tr><tr><td>1</td><td>{-0.961928,-1.036407}</td></tr></tbody></table></div>"
      ],
      "text/plain": [
       "shape: (5, 2)\n",
       "┌───────┬───────────────────────┐\n",
       "│ group ┆ coefficients          │\n",
       "│ ---   ┆ ---                   │\n",
       "│ i64   ┆ struct[2]             │\n",
       "╞═══════╪═══════════════════════╡\n",
       "│ 2     ┆ {-1.032807,-1.043651} │\n",
       "│ 3     ┆ {-0.99592,-0.985827}  │\n",
       "│ 4     ┆ {-1.040148,-0.995546} │\n",
       "│ 0     ┆ {-0.962558,-1.095777} │\n",
       "│ 1     ┆ {-0.961928,-1.036407} │\n",
       "└───────┴───────────────────────┘"
      ]
     },
     "execution_count": 15,
     "metadata": {},
     "output_type": "execute_result"
    }
   ],
   "source": [
    "# make some random training data\n",
    "df_train = _make_data(n_groups=1)\n",
    "\n",
    "# fit coefficients\n",
    "df_coefficients = (\n",
    "    df.lazy()\n",
    "    .select(\n",
    "        \"group\",\n",
    "        pl.col(\"y\")\n",
    "        .least_squares.ols(pl.col(\"x1\"), pl.col(\"x2\"), mode=\"coefficients\")\n",
    "        .over(\"group\").alias(\"coefficients\"),\n",
    "    )\n",
    "    .unique()\n",
    ")\n",
    "\n",
    "df_coefficients.collect()"
   ]
  },
  {
   "cell_type": "code",
   "execution_count": 16,
   "id": "931b667e-cf4d-4b53-be9b-85278c6fd16c",
   "metadata": {
    "execution": {
     "iopub.execute_input": "2024-04-10T20:34:05.523456Z",
     "iopub.status.busy": "2024-04-10T20:34:05.522801Z",
     "iopub.status.idle": "2024-04-10T20:34:05.539512Z",
     "shell.execute_reply": "2024-04-10T20:34:05.538563Z",
     "shell.execute_reply.started": "2024-04-10T20:34:05.523419Z"
    }
   },
   "outputs": [
    {
     "data": {
      "text/html": [
       "<div><style>\n",
       ".dataframe > thead > tr,\n",
       ".dataframe > tbody > tr {\n",
       "  text-align: right;\n",
       "  white-space: pre-wrap;\n",
       "}\n",
       "</style>\n",
       "<small>shape: (5, 2)</small><table border=\"1\" class=\"dataframe\"><thead><tr><th>group</th><th>predictions_test</th></tr><tr><td>i64</td><td>f32</td></tr></thead><tbody><tr><td>0</td><td>5.21625</td></tr><tr><td>0</td><td>-0.810267</td></tr><tr><td>0</td><td>0.377538</td></tr><tr><td>0</td><td>-0.982739</td></tr><tr><td>0</td><td>-1.07014</td></tr></tbody></table></div>"
      ],
      "text/plain": [
       "shape: (5, 2)\n",
       "┌───────┬──────────────────┐\n",
       "│ group ┆ predictions_test │\n",
       "│ ---   ┆ ---              │\n",
       "│ i64   ┆ f32              │\n",
       "╞═══════╪══════════════════╡\n",
       "│ 0     ┆ 5.21625          │\n",
       "│ 0     ┆ -0.810267        │\n",
       "│ 0     ┆ 0.377538         │\n",
       "│ 0     ┆ -0.982739        │\n",
       "│ 0     ┆ -1.07014         │\n",
       "└───────┴──────────────────┘"
      ]
     },
     "execution_count": 16,
     "metadata": {},
     "output_type": "execute_result"
    }
   ],
   "source": [
    "# make some test data\n",
    "df_test = _make_data(n_groups=1)\n",
    "\n",
    "# 1) join on group or common index columns etc.\n",
    "# 2) compute predictions by calling least_squares.predict(coefficient_column, *feature_columns)\n",
    "predictions = (\n",
    "    df_test.lazy()\n",
    "    .join(df_coefficients, on=\"group\")\n",
    "    .select(\n",
    "        \"group\",\n",
    "        pl.col(\"coefficients\").least_squares.predict(\n",
    "            pl.col(\"x1\"), pl.col(\"x2\"), name=\"predictions_test\"\n",
    "        )\n",
    "    )\n",
    "    .collect()\n",
    ")\n",
    "\n",
    "predictions.head()"
   ]
  },
  {
   "cell_type": "code",
   "execution_count": null,
   "id": "f0d9b6e8-e205-468f-b071-f5f9b276c2ca",
   "metadata": {},
   "outputs": [],
   "source": []
  }
 ],
 "metadata": {
  "kernelspec": {
   "display_name": "Python 3 (ipykernel)",
   "language": "python",
   "name": "python3"
  },
  "language_info": {
   "codemirror_mode": {
    "name": "ipython",
    "version": 3
   },
   "file_extension": ".py",
   "mimetype": "text/x-python",
   "name": "python",
   "nbconvert_exporter": "python",
   "pygments_lexer": "ipython3",
   "version": "3.10.11"
  }
 },
 "nbformat": 4,
 "nbformat_minor": 5
}
